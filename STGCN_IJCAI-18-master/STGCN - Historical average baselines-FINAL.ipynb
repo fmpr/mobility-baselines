{
 "cells": [
  {
   "cell_type": "code",
   "execution_count": 1,
   "metadata": {},
   "outputs": [
    {
     "name": "stderr",
     "output_type": "stream",
     "text": [
      "/home/rodr/code/env_oldtf/lib/python3.7/site-packages/tensorflow/python/framework/dtypes.py:526: FutureWarning: Passing (type, 1) or '1type' as a synonym of type is deprecated; in a future version of numpy, it will be understood as (type, (1,)) / '(1,)type'.\n",
      "  _np_qint8 = np.dtype([(\"qint8\", np.int8, 1)])\n",
      "/home/rodr/code/env_oldtf/lib/python3.7/site-packages/tensorflow/python/framework/dtypes.py:527: FutureWarning: Passing (type, 1) or '1type' as a synonym of type is deprecated; in a future version of numpy, it will be understood as (type, (1,)) / '(1,)type'.\n",
      "  _np_quint8 = np.dtype([(\"quint8\", np.uint8, 1)])\n",
      "/home/rodr/code/env_oldtf/lib/python3.7/site-packages/tensorflow/python/framework/dtypes.py:528: FutureWarning: Passing (type, 1) or '1type' as a synonym of type is deprecated; in a future version of numpy, it will be understood as (type, (1,)) / '(1,)type'.\n",
      "  _np_qint16 = np.dtype([(\"qint16\", np.int16, 1)])\n",
      "/home/rodr/code/env_oldtf/lib/python3.7/site-packages/tensorflow/python/framework/dtypes.py:529: FutureWarning: Passing (type, 1) or '1type' as a synonym of type is deprecated; in a future version of numpy, it will be understood as (type, (1,)) / '(1,)type'.\n",
      "  _np_quint16 = np.dtype([(\"quint16\", np.uint16, 1)])\n",
      "/home/rodr/code/env_oldtf/lib/python3.7/site-packages/tensorflow/python/framework/dtypes.py:530: FutureWarning: Passing (type, 1) or '1type' as a synonym of type is deprecated; in a future version of numpy, it will be understood as (type, (1,)) / '(1,)type'.\n",
      "  _np_qint32 = np.dtype([(\"qint32\", np.int32, 1)])\n",
      "/home/rodr/code/env_oldtf/lib/python3.7/site-packages/tensorflow/python/framework/dtypes.py:535: FutureWarning: Passing (type, 1) or '1type' as a synonym of type is deprecated; in a future version of numpy, it will be understood as (type, (1,)) / '(1,)type'.\n",
      "  np_resource = np.dtype([(\"resource\", np.ubyte, 1)])\n",
      "2022-03-05 02:13:02.131793: I tensorflow/core/platform/cpu_feature_guard.cc:141] Your CPU supports instructions that this TensorFlow binary was not compiled to use: AVX2 FMA\n",
      "2022-03-05 02:13:02.163304: I tensorflow/core/platform/profile_utils/cpu_utils.cc:94] CPU Frequency: 3693290000 Hz\n",
      "2022-03-05 02:13:02.166616: I tensorflow/compiler/xla/service/service.cc:150] XLA service 0x55a36fa53af0 executing computations on platform Host. Devices:\n",
      "2022-03-05 02:13:02.166644: I tensorflow/compiler/xla/service/service.cc:158]   StreamExecutor device (0): <undefined>, <undefined>\n"
     ]
    },
    {
     "name": "stdout",
     "output_type": "stream",
     "text": [
      "Training configs: Namespace(batch_size=50, epoch=50, f='/home/rodr/.local/share/jupyter/runtime/kernel-d67aec84-334d-4a18-a91f-6c01e3dda0b5.json', graph='default', inf_mode='merge', ks=3, kt=3, lr=0.001, n_his=12, n_pred=9, n_route=228, opt='RMSProp', save=10)\n",
      ">> Loading dataset with Mean: 58.50, STD: 13.73\n"
     ]
    }
   ],
   "source": [
    "# @Time     : Jan. 02, 2019 22:17\n",
    "# @Author   : Veritas YIN\n",
    "# @FileName : main.py\n",
    "# @Version  : 1.0\n",
    "# @Project  : Orion\n",
    "# @IDE      : PyCharm\n",
    "# @Github   : https://github.com/VeritasYin/Project_Orion\n",
    "\n",
    "import os\n",
    "\n",
    "os.environ[\"CUDA_VISIBLE_DEVICES\"] = \"0\"\n",
    "from os.path import join as pjoin\n",
    "\n",
    "import tensorflow as tf\n",
    "\n",
    "config = tf.ConfigProto()\n",
    "config.gpu_options.allow_growth = True\n",
    "tf.Session(config=config)\n",
    "\n",
    "from matplotlib import pyplot as plt\n",
    "from utils.math_graph import *\n",
    "from data_loader.data_utils import *\n",
    "from models.trainer import model_train\n",
    "from models.tester import model_test\n",
    "import datetime\n",
    "\n",
    "from sklearn.linear_model import LinearRegression, Lasso\n",
    "from sklearn.ensemble import GradientBoostingRegressor\n",
    "\n",
    "import argparse\n",
    "\n",
    "parser = argparse.ArgumentParser()\n",
    "parser.add_argument('--n_route', type=int, default=228)\n",
    "parser.add_argument('--n_his', type=int, default=12)\n",
    "parser.add_argument('--n_pred', type=int, default=9)\n",
    "parser.add_argument('--batch_size', type=int, default=50)\n",
    "parser.add_argument('--epoch', type=int, default=50)\n",
    "parser.add_argument('--save', type=int, default=10)\n",
    "parser.add_argument('--ks', type=int, default=3)\n",
    "parser.add_argument('--kt', type=int, default=3)\n",
    "parser.add_argument('--lr', type=float, default=1e-3)\n",
    "parser.add_argument('--opt', type=str, default='RMSProp')\n",
    "parser.add_argument('--graph', type=str, default='default')\n",
    "parser.add_argument('--inf_mode', type=str, default='merge')\n",
    "parser.add_argument(\"-f\", type=str, default=\"\")\n",
    "\n",
    "args = parser.parse_args()\n",
    "print(f'Training configs: {args}')\n",
    "\n",
    "n, n_his, n_pred = args.n_route, args.n_his, args.n_pred\n",
    "Ks, Kt = args.ks, args.kt\n",
    "# blocks: settings of channel size in st_conv_blocks / bottleneck design\n",
    "blocks = [[1, 32, 64], [64, 32, 128]]\n",
    "\n",
    "# Load wighted adjacency matrix W\n",
    "if args.graph == 'default':\n",
    "    #W = weight_matrix(pjoin('./dataset', f'PeMSD7_W_{n}.csv'))\n",
    "    W = weight_matrix(pjoin('./dataset', f'W_{n}.csv'))\n",
    "else:\n",
    "    # load customized graph weight matrix\n",
    "    W = weight_matrix(pjoin('./dataset', args.graph))\n",
    "\n",
    "# Calculate graph kernel\n",
    "L = scaled_laplacian(W)\n",
    "# Alternative approximation method: 1st approx - first_approx(W, n).\n",
    "Lk = cheb_poly_approx(L, Ks, n)\n",
    "tf.add_to_collection(name='graph_kernel', value=tf.cast(tf.constant(Lk), tf.float32))\n",
    "\n",
    "# Data Preprocessing\n",
    "#data_file = f'PeMSD7_V_{n}.csv'\n",
    "data_file = f'V_{n}.csv'\n",
    "n_train, n_val, n_test = 34, 5, 5\n",
    "PeMS = data_gen(pjoin('./dataset', data_file), (n_train, n_val, n_test), n, n_his + n_pred)\n",
    "print(f'>> Loading dataset with Mean: {PeMS.mean:.2f}, STD: {PeMS.std:.2f}')"
   ]
  },
  {
   "cell_type": "code",
   "execution_count": 2,
   "metadata": {},
   "outputs": [
    {
     "data": {
      "text/plain": [
       "(12672, 228)"
      ]
     },
     "execution_count": 2,
     "metadata": {},
     "output_type": "execute_result"
    }
   ],
   "source": [
    "data_seq = pd.read_csv('./dataset/V_228.csv', header=None).values\n",
    "data_seq.shape"
   ]
  },
  {
   "cell_type": "code",
   "execution_count": 3,
   "metadata": {},
   "outputs": [
    {
     "data": {
      "text/plain": [
       "[(datetime.date(2012, 1, 1), 'New year'),\n",
       " (datetime.date(2012, 1, 2), 'New year (Observed)'),\n",
       " (datetime.date(2012, 1, 16), 'Birthday of Martin Luther King, Jr.'),\n",
       " (datetime.date(2012, 2, 20), \"Washington's Birthday\"),\n",
       " (datetime.date(2012, 5, 28), 'Memorial Day'),\n",
       " (datetime.date(2012, 7, 4), 'Independence Day'),\n",
       " (datetime.date(2012, 9, 3), 'Labor Day'),\n",
       " (datetime.date(2012, 10, 8), 'Columbus Day'),\n",
       " (datetime.date(2012, 11, 11), 'Veterans Day'),\n",
       " (datetime.date(2012, 11, 12), 'Veterans Day (Observed)'),\n",
       " (datetime.date(2012, 11, 22), 'Thanksgiving Day'),\n",
       " (datetime.date(2012, 11, 23), 'Thanksgiving Friday'),\n",
       " (datetime.date(2012, 12, 25), 'Christmas Day')]"
      ]
     },
     "execution_count": 3,
     "metadata": {},
     "output_type": "execute_result"
    }
   ],
   "source": [
    "from workalendar.usa.california import CaliforniaSanFrancisco\n",
    "holidays = [CaliforniaSanFrancisco().holidays(y) for y in [2012]][0]\n",
    "holidays"
   ]
  },
  {
   "cell_type": "code",
   "execution_count": 4,
   "metadata": {},
   "outputs": [
    {
     "data": {
      "image/png": "[encoded data removed]",
      "text/plain": [
       "<Figure size 1152x432 with 6 Axes>"
      ]
     },
     "metadata": {
      "needs_background": "light"
     },
     "output_type": "display_data"
    }
   ],
   "source": [
    "import sys\n",
    "sys.path.append(os.path.abspath(\"/home/rodr/code/mobility-baselines\"))\n",
    "from mobility_detrender import MobilityDetrender\n",
    "from evaluation import evaluation\n",
    "\n",
    "detrender = MobilityDetrender(day_duration=12*24, week_duration=5)\n",
    "trainset_len = n_train*12*24 # use only trainset for fitting historical averages\n",
    "detrender.fit(data_seq[:trainset_len], start_date=datetime.date(2012,5,1), holidays=[])\n",
    "detrender.visualize(0)"
   ]
  },
  {
   "cell_type": "code",
   "execution_count": 5,
   "metadata": {},
   "outputs": [
    {
     "name": "stdout",
     "output_type": "stream",
     "text": [
      "Residuals of Historical Average (on all data) -> MAPE: 0.090; MAE:  3.526; RMSE: 6.439\n"
     ]
    },
    {
     "data": {
      "text/plain": [
       "(12672, 228)"
      ]
     },
     "execution_count": 5,
     "metadata": {},
     "output_type": "execute_result"
    }
   ],
   "source": [
    "detrended_data = detrender.transform(data_seq, start_date=datetime.date(2012,5,1), holidays=[], mode='avg')\n",
    "evl_train = evaluation(data_seq, detrender.ha_trend)\n",
    "print('Residuals of Historical Average (on all data) -> MAPE: %.3f; MAE:  %.3f; RMSE: %.3f' % tuple(evl_train)) \n",
    "detrended_data.shape"
   ]
  },
  {
   "cell_type": "code",
   "execution_count": 6,
   "metadata": {},
   "outputs": [
    {
     "name": "stdout",
     "output_type": "stream",
     "text": [
      "(9112, 21, 228, 1)\n",
      "(1340, 21, 228, 1)\n",
      "(1340, 21, 228, 1)\n",
      "(9112, 21, 228, 1)\n",
      "(1340, 21, 228, 1)\n",
      "(1340, 21, 228, 1)\n"
     ]
    }
   ],
   "source": [
    "# train/val/test split\n",
    "from data_loader.data_utils import seq_gen\n",
    "n_route = n\n",
    "n_frame = n_his + n_pred\n",
    "day_slot = 288\n",
    "seq_train = seq_gen(n_train, data_seq, 0, n_frame, n_route, day_slot)\n",
    "seq_val = seq_gen(n_val, data_seq, n_train, n_frame, n_route, day_slot)\n",
    "seq_test = seq_gen(n_test, data_seq, n_train + n_val, n_frame, n_route, day_slot)\n",
    "print(seq_train.shape)\n",
    "print(seq_val.shape)\n",
    "print(seq_test.shape)\n",
    "ha_train = seq_gen(n_train, detrender.ha_trend, 0, n_frame, n_route, day_slot)\n",
    "ha_val = seq_gen(n_val, detrender.ha_trend, n_train, n_frame, n_route, day_slot)\n",
    "ha_test = seq_gen(n_test, detrender.ha_trend, n_train + n_val, n_frame, n_route, day_slot)\n",
    "print(ha_train.shape)\n",
    "print(ha_val.shape)\n",
    "print(ha_test.shape)"
   ]
  },
  {
   "cell_type": "code",
   "execution_count": 7,
   "metadata": {},
   "outputs": [
    {
     "name": "stdout",
     "output_type": "stream",
     "text": [
      "Validation set -> MAPE: 0.11478; MAE:  4.207; RMSE: 7.475\n",
      "Test set -> MAPE: 0.10141; MAE:  3.899; RMSE: 7.087\n"
     ]
    }
   ],
   "source": [
    "evl_val = evaluation(seq_val[:,n_his+n_pred-1,:,:], ha_val[:,n_his+n_pred-1,:,:])\n",
    "print('Validation set -> MAPE: %.5f; MAE:  %.3f; RMSE: %.3f' % tuple(evl_val)) \n",
    "\n",
    "evl_test = evaluation(seq_test[:,n_his+n_pred-1,:,:], ha_test[:,n_his+n_pred-1,:,:])\n",
    "print('Test set -> MAPE: %.5f; MAE:  %.3f; RMSE: %.3f' % tuple(evl_test)) "
   ]
  },
  {
   "cell_type": "code",
   "execution_count": 8,
   "metadata": {},
   "outputs": [
    {
     "name": "stdout",
     "output_type": "stream",
     "text": [
      "(1340, 228)\n",
      "(1340, 228)\n",
      "Test set -> MAPE: 0.08568; MAE:  3.448; RMSE: 6.103\n"
     ]
    }
   ],
   "source": [
    "n_pred = 9 # number of step-ahead for prediction (3=15min, 6=30min, 9=45min)\n",
    "\n",
    "all_preds = []\n",
    "all_trues = []\n",
    "for loc in range(data_seq.shape[1]):\n",
    "    # prepare input data\n",
    "    x = seq_train[:, :n_his, loc, 0] - ha_train[:, :n_his, loc, 0] # detrend input data for training\n",
    "    y = seq_train[:, n_pred+n_his-1, loc, 0] - ha_train[:, n_pred+n_his-1, loc, 0] # detrend targets for training\n",
    "    \n",
    "    # fit ML models\n",
    "    reg = LinearRegression()\n",
    "    reg.fit(x, y)\n",
    "    \n",
    "    # predict on test set\n",
    "    trues = seq_test[:, n_pred+n_his-1, loc, 0] # targets for test set (i.e., actual observations w/o detrending)\n",
    "    preds = reg.predict(seq_test[:, :n_his, loc, 0] - ha_test[:, :n_his, loc, 0]) # make predictions on detrended inputs\n",
    "    preds = preds + ha_test[:, n_pred+n_his-1, loc, 0] # convert preds back to original scale (revert detrending)\n",
    "    all_preds.append(preds)\n",
    "    all_trues.append(trues)\n",
    "    \n",
    "all_preds = np.array(all_preds).T\n",
    "print(all_preds.shape)\n",
    "all_trues = np.array(all_trues).T\n",
    "print(all_trues.shape)\n",
    "\n",
    "evl_test = evaluation(all_trues, all_preds)\n",
    "print('Test set -> MAPE: %.5f; MAE:  %.3f; RMSE: %.3f' % tuple(evl_test)) "
   ]
  },
  {
   "cell_type": "code",
   "execution_count": 9,
   "metadata": {},
   "outputs": [
    {
     "name": "stdout",
     "output_type": "stream",
     "text": [
      "(1340, 228)\n",
      "(1340, 228)\n",
      "Test set -> MAPE: 0.07650; MAE:  3.133; RMSE: 5.497\n"
     ]
    }
   ],
   "source": [
    "n_pred = 6 # number of step-ahead for prediction (3=15min, 6=30min, 9=45min)\n",
    "\n",
    "all_preds = []\n",
    "all_trues = []\n",
    "for loc in range(data_seq.shape[1]):\n",
    "    # prepare input data\n",
    "    x = seq_train[:, :n_his, loc, 0] - ha_train[:, :n_his, loc, 0] # detrend input data for training\n",
    "    y = seq_train[:, n_pred+n_his-1, loc, 0] - ha_train[:, n_pred+n_his-1, loc, 0] # detrend targets for training\n",
    "    \n",
    "    # fit ML models\n",
    "    reg = LinearRegression()\n",
    "    reg.fit(x, y)\n",
    "    \n",
    "    # predict on test set\n",
    "    trues = seq_test[:, n_pred+n_his-1, loc, 0] # targets for test set (i.e., actual observations w/o detrending)\n",
    "    preds = reg.predict(seq_test[:, :n_his, loc, 0] - ha_test[:, :n_his, loc, 0]) # make predictions on detrended inputs\n",
    "    preds = preds + ha_test[:, n_pred+n_his-1, loc, 0] # convert preds back to original scale (revert detrending)\n",
    "    all_preds.append(preds)\n",
    "    all_trues.append(trues)\n",
    "    \n",
    "all_preds = np.array(all_preds).T\n",
    "print(all_preds.shape)\n",
    "all_trues = np.array(all_trues).T\n",
    "print(all_trues.shape)\n",
    "\n",
    "evl_test = evaluation(all_trues, all_preds)\n",
    "print('Test set -> MAPE: %.5f; MAE:  %.3f; RMSE: %.3f' % tuple(evl_test)) "
   ]
  },
  {
   "cell_type": "code",
   "execution_count": 10,
   "metadata": {},
   "outputs": [
    {
     "name": "stdout",
     "output_type": "stream",
     "text": [
      "(1340, 228)\n",
      "(1340, 228)\n",
      "Test set -> MAPE: 0.05811; MAE:  2.482; RMSE: 4.218\n"
     ]
    }
   ],
   "source": [
    "n_pred = 3 # number of step-ahead for prediction (3=15min, 6=30min, 9=45min)\n",
    "\n",
    "all_preds = []\n",
    "all_trues = []\n",
    "for loc in range(data_seq.shape[1]):\n",
    "    # prepare input data\n",
    "    x = seq_train[:, :n_his, loc, 0] - ha_train[:, :n_his, loc, 0] # detrend input data for training\n",
    "    y = seq_train[:, n_pred+n_his-1, loc, 0] - ha_train[:, n_pred+n_his-1, loc, 0] # detrend targets for training\n",
    "    \n",
    "    # fit ML models\n",
    "    reg = LinearRegression()\n",
    "    reg.fit(x, y)\n",
    "    \n",
    "    # predict on test set\n",
    "    trues = seq_test[:, n_pred+n_his-1, loc, 0] # targets for test set (i.e., actual observations w/o detrending)\n",
    "    preds = reg.predict(seq_test[:, :n_his, loc, 0] - ha_test[:, :n_his, loc, 0]) # make predictions on detrended inputs\n",
    "    preds = preds + ha_test[:, n_pred+n_his-1, loc, 0] # convert preds back to original scale (revert detrending)\n",
    "    all_preds.append(preds)\n",
    "    all_trues.append(trues)\n",
    "    \n",
    "all_preds = np.array(all_preds).T\n",
    "print(all_preds.shape)\n",
    "all_trues = np.array(all_trues).T\n",
    "print(all_trues.shape)\n",
    "\n",
    "evl_test = evaluation(all_trues, all_preds)\n",
    "print('Test set -> MAPE: %.5f; MAE:  %.3f; RMSE: %.3f' % tuple(evl_test)) "
   ]
  },
  {
   "cell_type": "code",
   "execution_count": 11,
   "metadata": {},
   "outputs": [
    {
     "name": "stdout",
     "output_type": "stream",
     "text": [
      "(1340, 228)\n",
      "(1340, 228)\n",
      "Test set -> MAPE: 0.101; MAE:  3.899; RMSE: 7.087\n"
     ]
    }
   ],
   "source": [
    "# sanity check by having an empty model that predicts always zero - this is the same as predicting using HA only\n",
    "\n",
    "n_pred = 9 # number of step-ahead for prediction (3=15min, 6=30min, 9=45min)\n",
    "\n",
    "all_preds = []\n",
    "all_trues = []\n",
    "for loc in range(data_seq.shape[1]):\n",
    "    # prepare input data\n",
    "    x = seq_train[:, :n_his, loc, 0] - ha_train[:, :n_his, loc, 0] # detrend input data for training\n",
    "    y = seq_train[:, n_pred+n_his-1, loc, 0] - ha_train[:, n_pred+n_his-1, loc, 0] # detrend targets for training\n",
    "    \n",
    "    # no ML model\n",
    "    \n",
    "    # prediction is always zero\n",
    "    trues = seq_test[:, n_pred+n_his-1, loc, 0] # targets for test set (i.e., actual observations w/o detrending)\n",
    "    preds = 0 # prediction is always zero\n",
    "    preds = preds + ha_test[:, n_pred+n_his-1, loc, 0] # convert preds back to original scale (revert detrending)\n",
    "    all_preds.append(preds)\n",
    "    all_trues.append(trues)\n",
    "    \n",
    "all_preds = np.array(all_preds).T\n",
    "print(all_preds.shape)\n",
    "all_trues = np.array(all_trues).T\n",
    "print(all_trues.shape)\n",
    "\n",
    "evl_test = evaluation(all_trues, all_preds)\n",
    "print('Test set -> MAPE: %.3f; MAE:  %.3f; RMSE: %.3f' % tuple(evl_test)) "
   ]
  },
  {
   "cell_type": "code",
   "execution_count": null,
   "metadata": {},
   "outputs": [],
   "source": []
  }
 ],
 "metadata": {
  "kernelspec": {
   "display_name": "env_oldtf",
   "language": "python",
   "name": "env_oldtf"
  },
  "language_info": {
   "codemirror_mode": {
    "name": "ipython",
    "version": 3
   },
   "file_extension": ".py",
   "mimetype": "text/x-python",
   "name": "python",
   "nbconvert_exporter": "python",
   "pygments_lexer": "ipython3",
   "version": "3.7.12"
  }
 },
 "nbformat": 4,
 "nbformat_minor": 4
}
