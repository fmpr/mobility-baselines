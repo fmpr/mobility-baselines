{
 "cells": [
  {
   "cell_type": "code",
   "execution_count": 1,
   "metadata": {
    "scrolled": false
   },
   "outputs": [],
   "source": [
    "from gcn import Model\n",
    "from dataset import PopulationDataset\n",
    "import numpy as np\n",
    "import argparse\n",
    "import torch\n",
    "import torch.nn as nn\n",
    "import torch.optim as optim\n",
    "from torch.autograd import Variable\n",
    "from math import sqrt\n",
    "from time import time\n",
    "\n",
    "from sklearn.linear_model import LinearRegression, Lasso\n",
    "from sklearn.ensemble import GradientBoostingRegressor\n",
    "\n",
    "\n",
    "def train(model, train_loader, optimizer, criterion, epoch, label, label_idx, label_weight, theta):\n",
    "    model.train()\n",
    "    train_loss = 0\n",
    "    for batch_idx, (data, x_t, target) in enumerate(train_loader):\n",
    "        data, x_t, target = Variable(data).cuda(), Variable(x_t).cuda(), Variable(target).cuda()\n",
    "        optimizer.zero_grad()\n",
    "        output, y = model(data, x_t, label_idx)\n",
    "        loss1 = criterion(output, target)\n",
    "        loss2 = nn.functional.cross_entropy(y, label, weight=label_weight)\n",
    "        loss = loss1 + loss2 * theta\n",
    "        loss.backward()\n",
    "        optimizer.step()\n",
    "        if batch_idx % 20 == 0:\n",
    "            print (\"Epoch: %d [%d/%d (%.0f%%)]\\tLoss: %.6f\\tLabel Loss: %.6f\" % (\n",
    "                epoch, batch_idx * len(data), len(train_loader.dataset),\n",
    "                100. * batch_idx / len(train_loader), sqrt(loss1.item()), loss2.item()))\n",
    "        train_loss += loss1.item() * len(data)\n",
    "    return sqrt(train_loss / len(train_loader.dataset))\n",
    "\n",
    "\n",
    "def val(model, val_loader, criterion, epoch, label_idx):\n",
    "    model.eval()\n",
    "    val_loss = 0\n",
    "    for batch_idx, (data, x_t, target) in enumerate(val_loader):\n",
    "        data, x_t, target = Variable(data).cuda(), Variable(x_t).cuda(), Variable(target).cuda()\n",
    "        output, _ = model(data, x_t, label_idx)\n",
    "        loss = criterion(output, target)\n",
    "        val_loss += loss.item() * len(data)\n",
    "    print (\"\\nEpoch: %d \\tVal Loss: %.6f\" % (\n",
    "        epoch, sqrt(val_loss / len(val_loader.dataset))))\n",
    "    return sqrt(val_loss / len(val_loader.dataset))\n",
    "\n",
    "\n",
    "def test(model, test_loader, criterion, epoch, label_idx):\n",
    "    model.eval()\n",
    "    test_loss = 0\n",
    "    for batch_idx, (data, x_t, target) in enumerate(test_loader):\n",
    "        data, x_t, target = Variable(data).cuda(), Variable(x_t).cuda(), Variable(target).cuda()\n",
    "        output, _ = model(data, x_t, label_idx)\n",
    "        loss = criterion(output, target)\n",
    "        test_loss += loss.item() * len(data)\n",
    "    print (\"Epoch: %d \\tTest Loss: %.6f\\n\" % (\n",
    "        epoch, sqrt(test_loss / len(test_loader.dataset))))\n",
    "    return sqrt(test_loss / len(test_loader.dataset))\n",
    "\n",
    "\n",
    "parser = argparse.ArgumentParser(description='3D-DGCN')\n",
    "parser.add_argument('--batch', type=int, default=64, metavar='B',\n",
    "                    help='batch size for training')\n",
    "parser.add_argument('--test-batch', type=int, default=32, metavar='TB',\n",
    "                    help='batch size for testing')\n",
    "parser.add_argument('--epoch', type=int, default=1600, metavar='E',\n",
    "                    help='number of iterations')\n",
    "parser.add_argument('--lr', type=float, default=0.001, metavar='LR',\n",
    "                    help='learning rate')\n",
    "parser.add_argument('--seed', type=int, default=1, metavar='S',\n",
    "                    help='random seed')\n",
    "parser.add_argument('--division', type=str, default='regular', metavar='D',\n",
    "                    help='the spatial division (regular or irregular)')\n",
    "parser.add_argument('--K', type=int, default='9', metavar='K',\n",
    "                    help='number of partitions')\n",
    "parser.add_argument('--C', type=int, default='2', metavar='C',\n",
    "                    help='number of input channels')\n",
    "parser.add_argument('--T', type=int, default='5', metavar='T',\n",
    "                    help='number of time intervals in a training sample')\n",
    "parser.add_argument('--theta', type=float, default='10', metavar='T',\n",
    "                    help='hyper-parameter in loss function')\n",
    "parser.add_argument('--load', type=int, default='0', metavar='L',\n",
    "                    help='load checkpoint/epoch_x.tar (x>0)')\n",
    "parser.add_argument('-f', type=str, default='')\n",
    "args = parser.parse_args()"
   ]
  },
  {
   "cell_type": "code",
   "execution_count": 2,
   "metadata": {},
   "outputs": [
    {
     "name": "stdout",
     "output_type": "stream",
     "text": [
      "(2, 2208, 82)\n",
      "(2208, 82, 2)\n"
     ]
    }
   ],
   "source": [
    "import json\n",
    "T = 5\n",
    "len_t = 24 * (31 + 31 + 30)\n",
    "N = len_t - T\n",
    "N_train = int(N * 0.8)\n",
    "N_val = int(N * 0.1)\n",
    "N_test = int(N * 0.1)\n",
    "weekend = [i for i in range(1, 93, 7)] + [i for i in range(2, 93, 7)] + [4, 66]\n",
    "T_SLOT = 24\n",
    "C = 2\n",
    "division = 'irregular'\n",
    "if division == 'regular':\n",
    "    H = 16\n",
    "    W = 8\n",
    "    num_node = H * W\n",
    "    raw_data = json.load(open(\"flow/flow_bike_nyc_regular.json\"))\n",
    "elif division == 'irregular':\n",
    "    num_node = 82\n",
    "    raw_data = json.load(open(\"flow/flow_bike_nyc_irregular.json\"))\n",
    "\n",
    "dataset = np.zeros((C, len_t, num_node), dtype=np.float32)\n",
    "data1 = raw_data['inflow']\n",
    "data2 = raw_data['outflow']\n",
    "\n",
    "for node_no in range(num_node):\n",
    "    dataset[0, :, node_no] = np.array(data1[str(node_no)])\n",
    "    dataset[1, :, node_no] = np.array(data2[str(node_no)])\n",
    "\n",
    "dataset_original = dataset[:]\n",
    "dataset = dataset.transpose([1,2,0])\n",
    "print(dataset_original.shape)\n",
    "print(dataset.shape) # Timespan 7/1/2017–9/30/2017"
   ]
  },
  {
   "cell_type": "code",
   "execution_count": 3,
   "metadata": {},
   "outputs": [
    {
     "data": {
      "text/plain": [
       "[(datetime.date(2017, 1, 1), 'New year'),\n",
       " (datetime.date(2017, 1, 2), 'New year (Observed)'),\n",
       " (datetime.date(2017, 1, 16), 'Birthday of Martin Luther King, Jr.'),\n",
       " (datetime.date(2017, 2, 12), \"Lincoln's Birthday\"),\n",
       " (datetime.date(2017, 2, 13), \"Lincoln's Birthday (Observed)\"),\n",
       " (datetime.date(2017, 2, 20), \"Washington's Birthday\"),\n",
       " (datetime.date(2017, 5, 29), 'Memorial Day'),\n",
       " (datetime.date(2017, 7, 4), 'Independence Day'),\n",
       " (datetime.date(2017, 9, 4), 'Labor Day'),\n",
       " (datetime.date(2017, 10, 9), 'Columbus Day'),\n",
       " (datetime.date(2017, 11, 7), 'Election Day'),\n",
       " (datetime.date(2017, 11, 10), 'Veterans Day (Observed)'),\n",
       " (datetime.date(2017, 11, 11), 'Veterans Day'),\n",
       " (datetime.date(2017, 11, 23), 'Thanksgiving Day'),\n",
       " (datetime.date(2017, 12, 25), 'Christmas Day')]"
      ]
     },
     "execution_count": 3,
     "metadata": {},
     "output_type": "execute_result"
    }
   ],
   "source": [
    "from workalendar.usa.new_york import NewYork\n",
    "holidays = [NewYork().holidays(y) for y in [2017]][0]\n",
    "holidays"
   ]
  },
  {
   "cell_type": "code",
   "execution_count": 4,
   "metadata": {},
   "outputs": [
    {
     "data": {
      "image/png": "[encoded data removed]",
      "text/plain": [
       "<Figure size 1152x432 with 6 Axes>"
      ]
     },
     "metadata": {
      "needs_background": "light"
     },
     "output_type": "display_data"
    }
   ],
   "source": [
    "import sys, os\n",
    "sys.path.append(os.path.abspath(\"/home/rodr/code/mobility-baselines\"))\n",
    "from mobility_detrender import MobilityDetrender\n",
    "from evaluation import evaluation\n",
    "import datetime\n",
    "\n",
    "detrender1 = MobilityDetrender(day_duration=24, week_duration=7)\n",
    "trainset_len = N_train # use only trainset for fitting historical averages\n",
    "detrender1.fit(dataset[:trainset_len,:,0], start_date=datetime.date(2017,7,1), holidays=[3,65])\n",
    "detrender1.visualize(20)"
   ]
  },
  {
   "cell_type": "code",
   "execution_count": 7,
   "metadata": {},
   "outputs": [
    {
     "data": {
      "image/png": "[encoded data removed]",
      "text/plain": [
       "<Figure size 576x216 with 2 Axes>"
      ]
     },
     "metadata": {
      "needs_background": "light"
     },
     "output_type": "display_data"
    }
   ],
   "source": [
    "from matplotlib import pyplot as plt\n",
    "loc = 20\n",
    "plt.figure(figsize=(8,3))\n",
    "img = plt.imshow(detrender1.historical_avg[loc,:,:])\n",
    "plt.title(\"Historical average\")\n",
    "plt.xlabel(\"Time of day\")\n",
    "plt.ylabel(\"Day of week\")\n",
    "plt.colorbar(img)\n",
    "plt.savefig(\"3d-dgcn-pickups-HA.pdf\")\n",
    "plt.show()"
   ]
  },
  {
   "cell_type": "code",
   "execution_count": 9,
   "metadata": {},
   "outputs": [
    {
     "data": {
      "image/png": "[encoded data removed]",
      "text/plain": [
       "<Figure size 1152x432 with 6 Axes>"
      ]
     },
     "metadata": {
      "needs_background": "light"
     },
     "output_type": "display_data"
    }
   ],
   "source": [
    "detrender2 = MobilityDetrender(day_duration=24, week_duration=7)\n",
    "trainset_len = N_train # use only trainset for fitting historical averages\n",
    "detrender2.fit(dataset[:trainset_len,:,1], start_date=datetime.date(2017,7,1), holidays=[3,65])\n",
    "detrender2.visualize(20)"
   ]
  },
  {
   "cell_type": "code",
   "execution_count": 11,
   "metadata": {},
   "outputs": [
    {
     "data": {
      "image/png": "[encoded data removed]",
      "text/plain": [
       "<Figure size 576x216 with 2 Axes>"
      ]
     },
     "metadata": {
      "needs_background": "light"
     },
     "output_type": "display_data"
    }
   ],
   "source": [
    "from matplotlib import pyplot as plt\n",
    "loc = 20\n",
    "plt.figure(figsize=(8,3))\n",
    "img = plt.imshow(detrender2.historical_avg[loc,:,:])\n",
    "plt.title(\"Historical average\")\n",
    "plt.xlabel(\"Time of day\")\n",
    "plt.ylabel(\"Day of week\")\n",
    "plt.colorbar(img)\n",
    "plt.savefig(\"3d-dgcn-dropoffs-HA.pdf\")\n",
    "plt.show()"
   ]
  },
  {
   "cell_type": "code",
   "execution_count": 6,
   "metadata": {},
   "outputs": [
    {
     "name": "stdout",
     "output_type": "stream",
     "text": [
      "(2208, 82, 2)\n",
      "Residuals of Historical Average (on all data) -> MAPE: 0.444; MAE:  5.686; RMSE: 11.121\n"
     ]
    }
   ],
   "source": [
    "detrended_data1 = detrender1.transform(dataset[:,:,0], start_date=datetime.date(2017,7,1), holidays=[3,65], mode='avg')\n",
    "detrended_data2 = detrender2.transform(dataset[:,:,1], start_date=datetime.date(2017,7,1), holidays=[3,65], mode='avg')\n",
    "ha_data = np.concatenate([np.expand_dims(detrender1.ha_trend,-1), \n",
    "                          np.expand_dims(detrender2.ha_trend,-1)], axis=-1)\n",
    "print(ha_data.shape)\n",
    "\n",
    "evl_train = evaluation(dataset, ha_data)\n",
    "print('Residuals of Historical Average (on all data) -> MAPE: %.3f; MAE:  %.3f; RMSE: %.3f' % tuple(evl_train)) "
   ]
  },
  {
   "cell_type": "code",
   "execution_count": 8,
   "metadata": {},
   "outputs": [
    {
     "name": "stdout",
     "output_type": "stream",
     "text": [
      "x_train.shape: (1762, 2, 8, 82)\n",
      "x_train_ha.shape: (1762, 2, 8, 82)\n",
      "x_val.shape: (220, 2, 8, 82)\n",
      "x_val_ha.shape: (220, 2, 8, 82)\n",
      "x_test.shape: (220, 2, 8, 82)\n",
      "x_test_ha.shape: (220, 2, 8, 82)\n"
     ]
    }
   ],
   "source": [
    "# train\n",
    "x_train = np.zeros((N_train, C, T + 3, num_node), dtype=np.float32)\n",
    "x_train_ha = np.zeros((N_train, C, T + 3, num_node), dtype=np.float32)\n",
    "for t in range(N_train):\n",
    "    x_train[t, :, :, :] = dataset_original[:, t:t + T + 3, :]\n",
    "    x_train_ha[t, :, :, :] = ha_data[t:t + T + 3, :, :].transpose([2,0,1])\n",
    "print(\"x_train.shape:\", x_train.shape)\n",
    "print(\"x_train_ha.shape:\", x_train_ha.shape)\n",
    "\n",
    "# val\n",
    "x_val = np.zeros((N_val, C, T + 3, num_node), dtype=np.float32)\n",
    "x_val_ha = np.zeros((N_val, C, T + 3, num_node), dtype=np.float32)\n",
    "for t in range(N_train, N_train + N_val):\n",
    "    x_val[t - N_train, :, :, :] = dataset_original[:, t:t + T + 3, :]\n",
    "    x_val_ha[t - N_train, :, :, :] = ha_data[t:t + T + 3, :, :].transpose([2,0,1])\n",
    "print(\"x_val.shape:\", x_val.shape)\n",
    "print(\"x_val_ha.shape:\", x_val_ha.shape)\n",
    "\n",
    "# test\n",
    "x_test = np.zeros((N_test, C, T + 3, num_node), dtype=np.float32)\n",
    "x_test_ha = np.zeros((N_test, C, T + 3, num_node), dtype=np.float32)\n",
    "for t in range(N_train + N_val, N_train + N_val + N_test - 2):\n",
    "    x_test[t - N_train - N_val, :, :, :] = dataset_original[:, t:t + T + 3, :]\n",
    "    x_test_ha[t - N_train - N_val, :, :, :] = ha_data[t:t + T + 3, :, :].transpose([2,0,1])\n",
    "print(\"x_test.shape:\", x_test.shape)\n",
    "print(\"x_test_ha.shape:\", x_test_ha.shape)"
   ]
  },
  {
   "cell_type": "code",
   "execution_count": 9,
   "metadata": {},
   "outputs": [
    {
     "name": "stdout",
     "output_type": "stream",
     "text": [
      "Validation set -> MAPE: 0.362; MAE:  6.384; RMSE: 11.884\n",
      "Test set -> MAPE: 0.364; MAE:  5.966; RMSE: 11.037\n"
     ]
    }
   ],
   "source": [
    "evl_val = evaluation(x_val[:,:,-1,:], x_val_ha[:,:,-1,:])\n",
    "print('Validation set -> MAPE: %.3f; MAE:  %.3f; RMSE: %.3f' % tuple(evl_val)) \n",
    "\n",
    "evl_test = evaluation(x_test[:,:,-1,:], x_test_ha[:,:,-1,:])\n",
    "print('Test set -> MAPE: %.3f; MAE:  %.3f; RMSE: %.3f' % tuple(evl_test)) "
   ]
  },
  {
   "cell_type": "code",
   "execution_count": 20,
   "metadata": {},
   "outputs": [
    {
     "name": "stdout",
     "output_type": "stream",
     "text": [
      "forecast_ix: -3\n",
      "(2, 220, 82)\n",
      "(2, 220, 82)\n",
      "Test set -> MAPE: 0.368; MAE:  5.104; RMSE: 8.723\n"
     ]
    }
   ],
   "source": [
    "step_ahead = 1 # num of hours ahead prediction\n",
    "forecast_ix = step_ahead-3-1\n",
    "print(\"forecast_ix:\", forecast_ix)\n",
    "\n",
    "all_preds = []\n",
    "all_trues = []\n",
    "for loc in range(x_train.shape[-1]):\n",
    "    # prepare input data\n",
    "    x1 = x_train[:,0,:5,loc] - x_train_ha[:,0,:5,loc] # detrend input data for training\n",
    "    y1 = x_train[:,0,forecast_ix,loc] - x_train_ha[:,0,forecast_ix,loc] # detrend targets for training\n",
    "    \n",
    "    # fit ML models\n",
    "    reg1 = LinearRegression()\n",
    "    reg1.fit(x1, y1)\n",
    "    \n",
    "    # predict on test set\n",
    "    trues1 = x_test[:,0,forecast_ix,loc] # targets for test set (i.e., actual observations w/o detrending)\n",
    "    preds1 = reg1.predict(x_test[:,0,:5,loc] - x_test_ha[:,0,:5,loc]) # make predictions on detrended inputs\n",
    "    preds1 = preds1 + x_test_ha[:,0,forecast_ix,loc] # convert preds back to original scale (revert detrending)\n",
    "    \n",
    "    # prepare input data\n",
    "    x2 = x_train[:,1,:5,loc] - x_train_ha[:,1,:5,loc] # detrend input data for training\n",
    "    y2 = x_train[:,1,forecast_ix,loc] - x_train_ha[:,1,forecast_ix,loc] # detrend targets for training\n",
    "    \n",
    "    # fit ML models\n",
    "    reg2 = LinearRegression()\n",
    "    reg2.fit(x2, y2)\n",
    "    \n",
    "    # predict on test set\n",
    "    trues2 = x_test[:,0,forecast_ix,loc] # targets for test set (i.e., actual observations w/o detrending)\n",
    "    preds2 = reg2.predict(x_test[:,0,:5,loc] - x_test_ha[:,0,:5,loc]) # make predictions on detrended inputs\n",
    "    preds2 = preds2 + x_test_ha[:,0,forecast_ix,loc] # convert preds back to original scale (revert detrending)\n",
    "    \n",
    "    all_preds.append(np.concatenate([preds1[:,np.newaxis],preds2[:,np.newaxis]], axis=-1))\n",
    "    all_trues.append(np.concatenate([trues1[:,np.newaxis],trues2[:,np.newaxis]], axis=-1))\n",
    "    \n",
    "all_preds = np.array(all_preds).T\n",
    "print(all_preds.shape)\n",
    "all_trues = np.array(all_trues).T\n",
    "print(all_trues.shape)\n",
    "\n",
    "evl_test = evaluation(all_trues, all_preds)\n",
    "print('Test set -> MAPE: %.3f; MAE:  %.3f; RMSE: %.3f' % tuple(evl_test)) "
   ]
  },
  {
   "cell_type": "code",
   "execution_count": 19,
   "metadata": {},
   "outputs": [
    {
     "name": "stdout",
     "output_type": "stream",
     "text": [
      "forecast_ix: -2\n",
      "(2, 220, 82)\n",
      "(2, 220, 82)\n",
      "Test set -> MAPE: 0.381; MAE:  5.449; RMSE: 9.695\n"
     ]
    }
   ],
   "source": [
    "step_ahead = 2 # num of hours ahead prediction\n",
    "forecast_ix = step_ahead-3-1\n",
    "print(\"forecast_ix:\", forecast_ix)\n",
    "\n",
    "all_preds = []\n",
    "all_trues = []\n",
    "for loc in range(x_train.shape[-1]):\n",
    "    # prepare input data\n",
    "    x1 = x_train[:,0,:5,loc] - x_train_ha[:,0,:5,loc] # detrend input data for training\n",
    "    y1 = x_train[:,0,forecast_ix,loc] - x_train_ha[:,0,forecast_ix,loc] # detrend targets for training\n",
    "    \n",
    "    # fit ML models\n",
    "    reg1 = LinearRegression()\n",
    "    reg1.fit(x1, y1)\n",
    "    \n",
    "    # predict on test set\n",
    "    trues1 = x_test[:,0,forecast_ix,loc] # targets for test set (i.e., actual observations w/o detrending)\n",
    "    preds1 = reg1.predict(x_test[:,0,:5,loc] - x_test_ha[:,0,:5,loc]) # make predictions on detrended inputs\n",
    "    preds1 = preds1 + x_test_ha[:,0,forecast_ix,loc] # convert preds back to original scale (revert detrending)\n",
    "    \n",
    "    # prepare input data\n",
    "    x2 = x_train[:,1,:5,loc] - x_train_ha[:,1,:5,loc] # detrend input data for training\n",
    "    y2 = x_train[:,1,forecast_ix,loc] - x_train_ha[:,1,forecast_ix,loc] # detrend targets for training\n",
    "    \n",
    "    # fit ML models\n",
    "    reg2 = LinearRegression()\n",
    "    reg2.fit(x2, y2)\n",
    "    \n",
    "    # predict on test set\n",
    "    trues2 = x_test[:,0,forecast_ix,loc] # targets for test set (i.e., actual observations w/o detrending)\n",
    "    preds2 = reg2.predict(x_test[:,0,:5,loc] - x_test_ha[:,0,:5,loc]) # make predictions on detrended inputs\n",
    "    preds2 = preds2 + x_test_ha[:,0,forecast_ix,loc] # convert preds back to original scale (revert detrending)\n",
    "    \n",
    "    all_preds.append(np.concatenate([preds1[:,np.newaxis],preds2[:,np.newaxis]], axis=-1))\n",
    "    all_trues.append(np.concatenate([trues1[:,np.newaxis],trues2[:,np.newaxis]], axis=-1))\n",
    "    \n",
    "all_preds = np.array(all_preds).T\n",
    "print(all_preds.shape)\n",
    "all_trues = np.array(all_trues).T\n",
    "print(all_trues.shape)\n",
    "\n",
    "evl_test = evaluation(all_trues, all_preds)\n",
    "print('Test set -> MAPE: %.3f; MAE:  %.3f; RMSE: %.3f' % tuple(evl_test)) "
   ]
  },
  {
   "cell_type": "code",
   "execution_count": 18,
   "metadata": {},
   "outputs": [
    {
     "name": "stdout",
     "output_type": "stream",
     "text": [
      "forecast_ix: -1\n",
      "(2, 220, 82)\n",
      "(2, 220, 82)\n",
      "Test set -> MAPE: 0.391; MAE:  5.560; RMSE: 10.044\n"
     ]
    }
   ],
   "source": [
    "step_ahead = 3 # num of hours ahead prediction\n",
    "forecast_ix = step_ahead-3-1\n",
    "print(\"forecast_ix:\", forecast_ix)\n",
    "\n",
    "all_preds = []\n",
    "all_trues = []\n",
    "for loc in range(x_train.shape[-1]):\n",
    "    # prepare input data\n",
    "    x1 = x_train[:,0,:5,loc] - x_train_ha[:,0,:5,loc] # detrend input data for training\n",
    "    y1 = x_train[:,0,forecast_ix,loc] - x_train_ha[:,0,forecast_ix,loc] # detrend targets for training\n",
    "    \n",
    "    # fit ML models\n",
    "    reg1 = LinearRegression()\n",
    "    reg1.fit(x1, y1)\n",
    "    \n",
    "    # predict on test set\n",
    "    trues1 = x_test[:,0,forecast_ix,loc] # targets for test set (i.e., actual observations w/o detrending)\n",
    "    preds1 = reg1.predict(x_test[:,0,:5,loc] - x_test_ha[:,0,:5,loc]) # make predictions on detrended inputs\n",
    "    preds1 = preds1 + x_test_ha[:,0,forecast_ix,loc] # convert preds back to original scale (revert detrending)\n",
    "    \n",
    "    # prepare input data\n",
    "    x2 = x_train[:,1,:5,loc] - x_train_ha[:,1,:5,loc] # detrend input data for training\n",
    "    y2 = x_train[:,1,forecast_ix,loc] - x_train_ha[:,1,forecast_ix,loc] # detrend targets for training\n",
    "    \n",
    "    # fit ML models\n",
    "    reg2 = LinearRegression()\n",
    "    reg2.fit(x2, y2)\n",
    "    \n",
    "    # predict on test set\n",
    "    trues2 = x_test[:,0,forecast_ix,loc] # targets for test set (i.e., actual observations w/o detrending)\n",
    "    preds2 = reg2.predict(x_test[:,0,:5,loc] - x_test_ha[:,0,:5,loc]) # make predictions on detrended inputs\n",
    "    preds2 = preds2 + x_test_ha[:,0,forecast_ix,loc] # convert preds back to original scale (revert detrending)\n",
    "    \n",
    "    all_preds.append(np.concatenate([preds1[:,np.newaxis],preds2[:,np.newaxis]], axis=-1))\n",
    "    all_trues.append(np.concatenate([trues1[:,np.newaxis],trues2[:,np.newaxis]], axis=-1))\n",
    "    \n",
    "all_preds = np.array(all_preds).T\n",
    "print(all_preds.shape)\n",
    "all_trues = np.array(all_trues).T\n",
    "print(all_trues.shape)\n",
    "\n",
    "evl_test = evaluation(all_trues, all_preds)\n",
    "print('Test set -> MAPE: %.3f; MAE:  %.3f; RMSE: %.3f' % tuple(evl_test)) "
   ]
  },
  {
   "cell_type": "code",
   "execution_count": null,
   "metadata": {},
   "outputs": [],
   "source": []
  }
 ],
 "metadata": {
  "kernelspec": {
   "display_name": "Python 3",
   "language": "python",
   "name": "python3"
  },
  "language_info": {
   "codemirror_mode": {
    "name": "ipython",
    "version": 3
   },
   "file_extension": ".py",
   "mimetype": "text/x-python",
   "name": "python",
   "nbconvert_exporter": "python",
   "pygments_lexer": "ipython3",
   "version": "3.8.10"
  }
 },
 "nbformat": 4,
 "nbformat_minor": 4
}
