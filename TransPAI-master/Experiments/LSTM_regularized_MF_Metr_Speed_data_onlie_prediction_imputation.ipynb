{
 "cells": [
  {
   "cell_type": "markdown",
   "metadata": {},
   "source": [
    "# Metr-LA speed data prediction using LSTM Regularized Matrix Factorization\n",
    "\n",
    "> About the author: Jinming Yang (yangjm67@sjtu.edu.cn), Center for Intelligent Transportation Systems and Unmanned Aerial Systems Applications Research, School of Naval Architecture, Ocean and Civil Engineering, Shanghai Jiao Tong University, Shanghai 200240, China. "
   ]
  },
  {
   "cell_type": "markdown",
   "metadata": {},
   "source": [
    "## Data Organization: Matrix Structure\n",
    "\n",
    "We consider a dataset of $M$ discrete time series $\\boldsymbol{y}_{i}\\in\\mathbb{R}^{T},i\\in\\left\\{1,2,...,M\\right\\}$. The time series may have missing elements. We express spatio-temporal dataset as a matrix $Y\\in\\mathbb{R}^{M\\times T}$ with $M$ rows (e.g., sensors) and $T$ columns (e.g., discrete time slots),\n",
    "\n",
    "$$Y=\\left[ \\begin{array}{cccc} y_{11} & y_{12} & \\cdots & y_{1T} \\\\ y_{21} & y_{22} & \\cdots & y_{2F} \\\\ \\vdots & \\vdots & \\ddots & \\vdots \\\\ y_{M1} & y_{M2} & \\cdots & y_{MF} \\\\ \\end{array} \\right]\\in\\mathbb{R}^{M\\times F}.$$\n",
    "\n",
    "Pollutant concentration data is organized in a spatial-temporal matrix in which the rows stands for different kinds of pollutants in different locations and collumns stands for each time slots.\n",
    "\n",
    "## LSTM Regularized Matrix Factorization(LSTM-ReMF)\n",
    "\n",
    "LSTM Regularized Matrix Factorization (LSTM-ReMF) framework is an approach to incorporate temporal dependencies into matrix factorization models using the well-studied Long-short term memory(LSTM) neural networks to describe temporal dependencies\n",
    "among temporal feature vectors ${\\boldsymbol{x}_t}$ explicitly. Let $f()$ stands for the feed forward process of the LSTM network, then the temporal dependencies can be described as follows:\n",
    "\n",
    "$$\n",
    "\\boldsymbol{x}'_t = f(\\boldsymbol{x}_{t-l_1},\\boldsymbol{x}_{t-l_2},...,\\boldsymbol{x}_{t-l_d})\n",
    "$$\n",
    "\n",
    "Where the lag set $\\mathcal{L}=\\left\\{l_1,l_2,...,l_d\\right\\}$ (e.g., $\\mathcal{L}=\\left\\{1,2,288\\right\\}$) indicates  the temporal correlation topology. We further define the LSTM network temporal regularizer as follows:\n",
    "\n",
    "$$\\mathcal{R}_{t}\\left(\\boldsymbol{X} \\right) = \\frac{1}{2}\\sum_{t=l_d}^n\\biggl(\\boldsymbol{x}_t - \\boldsymbol{x}'_t\\biggr)^2$$\n",
    "\n",
    "where, $var(f)$ stands for the parameters the in LSTM network regularizer, and $f()$ is the feed forward process of the LSTM network regularizer.\n",
    "\n",
    "Thus, LSTM-ReMF is given by solving\n",
    "$$\n",
    "% \\begin{aligned}\n",
    "\\min_{W,X,\\text{var}(f)} \\frac{1}{2}\\underbrace{\\sum_{(i,t)\\in\\Omega}\\left(y_{it}-\\boldsymbol{w}_{i}^T\\boldsymbol{x}_{t}\\right)^2}_{\\text{sum of squared residual errors}} +\\frac{\\lambda_{w}\\eta}{2}\\underbrace{\\lVert \\boldsymbol{W}\\rVert^2}_{W-\\text{regularizer}} +\\frac{\\lambda_{x}\\eta}{2}\\underbrace{\\lVert \\boldsymbol{X}\\rVert^2}_{X-\\text{regularizer}} + \\underbrace{\\frac{\\lambda_{x}}{2}\\sum_{t=l_d+1}^n\\biggl(x_t - f(x_{t-l_1},...,x_{t-l_d}|\\text{var}(f))\\biggr)^2}_{\\text{LSTM network temporal regularizer}}\n",
    "% \\end{aligned}\n",
    "$$\n"
   ]
  },
  {
   "cell_type": "markdown",
   "metadata": {},
   "source": [
    "### Solving the above minimization problem using alternative least square method(ALS)"
   ]
  },
  {
   "cell_type": "markdown",
   "metadata": {},
   "source": [
    "### Least square for temporal feature vectors $\\boldsymbol{x}_t, t = 1, 2, ..., l_d$\n",
    "To solve temporal embedding $\\boldsymbol{x}_t, t = 1, 2, ..., l_d$, we need to solve the following sub-problem.\n",
    "$$\\min_{\\boldsymbol{x}_t} f_X(\\boldsymbol{x}_t) = \\min_{x_t}\\frac{1}{2}\\sum_{i:(i,t)\\in\\Omega}\\left(y_{it}-\\boldsymbol{w}_{i}^\\top\\boldsymbol{x}_{t}\\right)^2+\\frac{\\lambda_{x} \\eta}{2}\\boldsymbol{x}_{t}^\\top\\boldsymbol{x}_{t}$$\n",
    "\n",
    "Rewrite the above objective function as follows:\n",
    "$$\n",
    "f_X(\\boldsymbol{x}_t) = \\frac{1}{2}\\sum_{i:(i,t)\\in\\Omega}(y_{it} - \\boldsymbol{w}_i^\\top\\boldsymbol{x}_t)^\\top(y_{it} - \\boldsymbol{w}_i^\\top\\boldsymbol{x}_t)+\\frac{\\lambda_{x} \\eta}{2}\\boldsymbol{x}_{t}^\\top\\boldsymbol{x}_{t}\n",
    "$$\n",
    "\n",
    "Expand the objective function $f_X(\\boldsymbol{x}_t)$ as:\n",
    "$$\n",
    "f_X(\\boldsymbol{x}_t) = \\frac{1}{2}\\sum_{i:(i,t)\\in\\Omega}\\biggl(\\boldsymbol{x}_t^\\top\\boldsymbol{w}_i\\boldsymbol{w}_i^\\top\\boldsymbol{x}_t - 2y_{it}\\boldsymbol{w}_i^\\top\\boldsymbol{x}_t\\biggr) + \\frac{\\lambda_x \\eta}{2}\\boldsymbol{x}_t^\\top\\boldsymbol{x}_t + \\text{const}\n",
    "$$\n",
    "\n",
    "The above equation can be rewitten as:\n",
    "$$\n",
    "\\begin{aligned}\n",
    "f_X(\\boldsymbol{x}_t) &= \\frac{1}{2}\\boldsymbol{x}_t^\\top\\biggl(\\sum_{i:(i,t)\\in\\Omega}\\boldsymbol{w}_i\\boldsymbol{w}_i^\\top \\biggr)\\boldsymbol{x}_t - \\sum_{i:(i,t)\\in\\Omega}y_{it}\\boldsymbol{w}_i^\\top\\boldsymbol{x}_t  + \\boldsymbol{x}_t^{\\top}\\biggl(\\frac{\\lambda_x\\eta}{2}I\\biggr)\\boldsymbol{x}_t + \\text{const} \\\\\n",
    "~& = \\boldsymbol{x}_t^\\top\\biggl(\\frac{1}{2}\\sum_{i:(i,t)\\in\\Omega}\\boldsymbol{w}_i\\boldsymbol{w}_i^\\top + \\frac{\\lambda_x\\eta}{2}I\\biggr)\\boldsymbol{x}_t - \\biggl(\\sum_{i:(i,t)\\in\\Omega}y_{it}\\boldsymbol{w}_i\\biggr)^\\top\\boldsymbol{x}_t + const\n",
    "\\end{aligned}\n",
    "$$\n",
    "\n",
    "Derive the deviation of $f_X(\\boldsymbol{x}_t)$ as follows:\n",
    "$$\n",
    "f_X'(\\boldsymbol{x}_t) = \\biggl(\\sum_{i:(i,t)\\in\\Omega}\\boldsymbol{w}_i\\boldsymbol{w}_i^\\top+\\lambda_x\\eta I \\biggr)\\boldsymbol{x}_t - \\biggl(\\sum_{i:(i,t)\\in\\Omega}y_{it}\\boldsymbol{w}_i\\biggr)\n",
    "$$\n",
    "\n",
    "Let the derivation equal zero, we can derive the updating equation of $\\boldsymbol{x}_t$ as follows:\n",
    "<span style='color: blue'>\n",
    "$$\\boldsymbol{x}_t = \\biggl(\\sum_{i:(i,t)\\in\\Omega}\\boldsymbol{w}_i\\boldsymbol{w}_i^\\top+\\lambda_x\\eta I \\biggr)^{-1}\\biggl(\\sum_{i:(i,t)\\in\\Omega}y_{it}\\boldsymbol{w}_i\\biggr)$$\n",
    "</span>"
   ]
  },
  {
   "cell_type": "markdown",
   "metadata": {},
   "source": [
    "### Least square for temporal feature vector $\\boldsymbol{x}_t, t = l_d + 1, l_d + 2, ..., T$\n",
    "To update temporal feature vector $\\boldsymbol{x}_t, t = l_d + 1, l_d + 2, ..., T$, we need to solve the following sub-problem.\n",
    "$$\\min_{\\boldsymbol{x}_t} f_X(\\boldsymbol{x}_t) = \\min_{x_t}\\frac{1}{2}\\sum_{i:(i,t)\\in\\Omega}\\left(y_{it}-\\boldsymbol{w}_{i}^\\top\\boldsymbol{x}_{t}\\right)^2+\\frac{\\lambda_{x}}{2}\\left(\\boldsymbol{x}_{t}-\\boldsymbol{x}'_{t}\\right)^\\top\\left(\\boldsymbol{x}_{t}-\\boldsymbol{x}'_{t}\\right)+\\frac{\\lambda_{x} \\eta}{2}\\boldsymbol{x}_{t}^T\\boldsymbol{x}_{t}$$\n",
    "\n",
    "Rewrite the above objective function as follows:\n",
    "$$\n",
    "f_X(\\boldsymbol{x}_t) = \\frac{1}{2}\\sum_{i:(i,t)\\in\\Omega}(y_{it} - \\boldsymbol{w}_i^\\top\\boldsymbol{x}_t)^\\top(y_{it} - \\boldsymbol{w}_i^\\top\\boldsymbol{x}_t) + \\frac{\\lambda_{x}}{2}\\left(\\boldsymbol{x}_{t}-\\boldsymbol{x}'_{t}\\right)^\\top\\left(\\boldsymbol{x}_{t}-\\boldsymbol{x}'_{t}\\right)+\\frac{\\lambda_{x} \\eta}{2}\\boldsymbol{x}_{t}^\\top\\boldsymbol{x}_{t}\n",
    "$$\n",
    "\n",
    "Expand the objective function $f_X(\\boldsymbol{x}_t)$ as:\n",
    "$$\n",
    "f_X(\\boldsymbol{x}_t) = \\frac{1}{2}\\sum_{i:(i,t)\\in\\Omega}\\biggl(\\boldsymbol{x}_t^\\top\\boldsymbol{w}_i\\boldsymbol{w}_i^\\top\\boldsymbol{x}_t - 2y_{it}\\boldsymbol{w}_i^\\top\\boldsymbol{x}_t\\biggr) + \\frac{\\lambda_x}{2}\\biggl(\\boldsymbol{x}_t^\\top\\boldsymbol{x}_t - 2{\\boldsymbol{x}'_t}^{\\top}\\boldsymbol{x}_t\\biggr) + \\frac{\\lambda_x \\eta}{2}\\boldsymbol{x}_t^\\top\\boldsymbol{x}_t + \\text{const}\n",
    "$$\n",
    "\n",
    "The above equation can be rewitten as:\n",
    "$$\n",
    "\\begin{aligned}\n",
    "f_X(\\boldsymbol{x}_t) &= \\frac{1}{2}\\boldsymbol{x}_t^\\top\\biggl(\\sum_{i:(i,t)\\in\\Omega}\\boldsymbol{w}_i\\boldsymbol{w}_i^\\top \\biggr)\\boldsymbol{x}_t - \\sum_{i:(i,t)\\in\\Omega}y_{it}\\boldsymbol{w}_i^\\top\\boldsymbol{x}_t + \\boldsymbol{x}_t^\\top \\biggl(\\frac{\\lambda_x}{2}I\\biggr)\\boldsymbol{x}_t - \\lambda_x {\\boldsymbol{x}'_t}^{\\top}\\boldsymbol{x}_t + \\boldsymbol{x}_t^{\\top}\\biggl(\\frac{\\lambda_x\\eta}{2}I\\biggr)\\boldsymbol{x}_t + \\text{const} \\\\\n",
    "~& = \\boldsymbol{x}_t^\\top\\biggl(\\frac{1}{2}\\sum_{i:(i,t)\\in\\Omega}\\boldsymbol{w}_i\\boldsymbol{w}_i^\\top + \\frac{\\lambda_x}{2}I+\\frac{\\lambda_x\\eta}{2}I\\biggr)\\boldsymbol{x}_t - \\biggl(\\sum_{i:(i,t)\\in\\Omega}y_{it}\\boldsymbol{w}_i + \\lambda_x \\boldsymbol{x}'_t\\biggr)^\\top\\boldsymbol{x}_t + const\n",
    "\\end{aligned}\n",
    "$$\n",
    "\n",
    "Derive the deviation of $f_X(\\boldsymbol{x}_t)$ as follows:\n",
    "$$\n",
    "f_X'(\\boldsymbol{x}_t) = \\biggl(\\sum_{i:(i,t)\\in\\Omega}\\boldsymbol{w}_i\\boldsymbol{w}_i^\\top + \\lambda_xI+\\lambda_x\\eta I \\biggr)\\boldsymbol{x}_t - \\biggl(\\sum_{i:(i,t)\\in\\Omega}y_{it}\\boldsymbol{w}_i + \\lambda_x \\boldsymbol{x}'_t \\biggr)\n",
    "$$\n",
    "\n",
    "Let the derivation equal zero, we can derive the updating equation of $\\boldsymbol{x}_t$ as follows:\n",
    "<span style='color: blue'>\n",
    "$$\\boldsymbol{x}_t = \\biggl(\\sum_{i:(i,t)\\in\\Omega}\\boldsymbol{w}_i\\boldsymbol{w}_i^\\top + \\lambda_xI+\\lambda_x\\eta I \\biggr)^{-1}\\biggl(\\sum_{i:(i,t)\\in\\Omega}y_{it}\\boldsymbol{w}_i + \\lambda_x \\boldsymbol{x}'_t \\biggr)$$\n",
    "</span>"
   ]
  },
  {
   "cell_type": "markdown",
   "metadata": {},
   "source": [
    "### Least square for spatial feature vectors $\\boldsymbol{w}_i, i = 1, 2, ..., M$\n",
    "\n",
    "To update spatial feature vectors $\\boldsymbol{w}_i, i = 1, 2, ..., M$, we need to solve the following sub-problem.\n",
    "$$\\min_{\\boldsymbol{w}_i} f_W(\\boldsymbol{w}_i) = \\min_{\\boldsymbol{w}_i}\\frac{1}{2}\\sum_{t:(i,t)\\in\\Omega}\\left(y_{it}-\\boldsymbol{w}_{i}^\\top\\boldsymbol{x}_{t}\\right)^2+\\frac{\\lambda_{w}}{2}\\boldsymbol{w}_{i}^T\\boldsymbol{w}_{i}$$\n",
    "\n",
    "Rewrite the above objective function as follows:\n",
    "$$\n",
    "f_W(\\boldsymbol{w}_i) = \\frac{1}{2}\\sum_{t:(i,t)\\in\\Omega}(y_{it} - \\boldsymbol{w}_i^\\top\\boldsymbol{x}_t)^\\top(y_{it} - \\boldsymbol{w}_i^\\top\\boldsymbol{x}_t)+\\frac{\\lambda_{w}}{2}\\boldsymbol{w}_{i}^\\top\\boldsymbol{w}_{i}\n",
    "$$\n",
    "\n",
    "Expand the objective function $f_X(\\boldsymbol{x}_t)$ as:\n",
    "$$\n",
    "f_W(\\boldsymbol{w}_i) = \\frac{1}{2}\\sum_{t:(i,t)\\in\\Omega}\\biggl(\\boldsymbol{w}_i^\\top\\boldsymbol{x}_t\\boldsymbol{x}_t^\\top\\boldsymbol{w}_i - 2y_{it}\\boldsymbol{x}_t^\\top\\boldsymbol{w}_i\\biggr) + \\frac{\\lambda_w\\eta}{2}\\boldsymbol{w}_i^\\top\\boldsymbol{w}_i + \\text{const}\n",
    "$$\n",
    "\n",
    "The above equation can be rewitten as:\n",
    "$$\n",
    "\\begin{aligned}\n",
    "f_W(\\boldsymbol{w}_i) &= \\frac{1}{2}\\boldsymbol{w}_i^\\top\\biggl(\\sum_{t:(i,t)\\in\\Omega}\\boldsymbol{x}_i\\boldsymbol{x}_i^\\top \\biggr)\\boldsymbol{w}_i - \\sum_{t:(i,t)\\in\\Omega}y_{it}\\boldsymbol{x}_t^\\top\\boldsymbol{w}_i+ \\boldsymbol{w}_i^\\top \\biggl(\\frac{\\lambda_w\\eta}{2}I\\biggr)\\boldsymbol{w}_i + \\text{const} \\\\\n",
    "~& = \\boldsymbol{w}_i^\\top\\biggl(\\frac{1}{2}\\sum_{t:(i,t)\\in\\Omega}\\boldsymbol{x}_t\\boldsymbol{x}_t^\\top + \\frac{\\lambda_w\\eta}{2}I\\biggr)\\boldsymbol{w}_i - \\biggl(\\sum_{i:(i,t)\\in\\Omega}y_{it}\\boldsymbol{x}_t\\biggr)^\\top\\boldsymbol{w}_i + const\n",
    "\\end{aligned}\n",
    "$$\n",
    "\n",
    "Derive the deviation of $f_W(\\boldsymbol{w}_i)$ as follows:\n",
    "$$\n",
    "f_W'(\\boldsymbol{w}_i) = \\biggl(\\sum_{i:(i,t)\\in\\Omega}\\boldsymbol{x}_t\\boldsymbol{x}_t^\\top + \\lambda_w\\eta I\\biggr)\\boldsymbol{w}_i - \\sum_{t:(i,t)\\in\\Omega}y_{it}\\boldsymbol{x}_t\n",
    "$$\n",
    "\n",
    "Let the derivation equal zero, we can derive the updating $\\boldsymbol{w}_i$ by:\n",
    "<span style='color: blue'>\n",
    "$$\\boldsymbol{w}_i = \\biggl(\\sum_{t:(i,t)\\in\\Omega}\\boldsymbol{x}_t\\boldsymbol{x}_t^\\top + \\lambda_w\\eta I\\biggr)^{-1}\\biggl(\\sum_{t:(i,t)\\in\\Omega}y_{it}\\boldsymbol{x}_t\\biggr)$$\n",
    "</span>"
   ]
  },
  {
   "cell_type": "markdown",
   "metadata": {},
   "source": [
    "# Long-short Term Memory(LSTM)\n",
    "LSTM is actually also a special kind of neural network. The major difference between LSTM and RNN is that LSTM has a special mechanism called **forget gate**. As RNNs do, LSTMs also have **hidden state** that would pass to the next time slot. But not like RNN, iformations are selected through the forget gate and only let through those informations that is usefull. Let see how this would help LSTM get away from gradient vanish or gradient explode.\n",
    "\n",
    "### Input gate in LSTM\n",
    "First, the input is squashed between -1 and 1 using a tanh activation function. This can be expressed by:\n",
    "\n",
    "$$g = tanh(b^g+x_tU^g+y_{t-1}V^g)$$\n",
    "\n",
    "Where **$U^g$** and **$V^g$** are the weights for the input and previous cell output, respectively, and **$b^g$** is the input bias. Note that the exponents **g** are not a raised power, but rather signify that these are the input weights and bias values (as opposed to the input gate, forget gate, output gate etc.).\n",
    "\n",
    "This squashed input is then multiplied element-wise by the output of the input gate. The input gate is basically a hidden layer of sigmoid activated nodes, with weighted **$x_t$** and **$y_{t-1}$** input values, which outputs values of between 0 and 1 and when multiplied element-wise by the input determines which inputs are switched on and off. In other words, it is a kind of input filter or gate. The expression for the input gate is:\n",
    "\n",
    "$$i = \\sigma(b^i + x_tU^i+ y_{t-1}V^i)$$\n",
    "\n",
    "### The hidden state and the forget gate\n",
    "Forget gate is again a sigmoid activated set of nodes which is element-wise multiplied by the hidden state of the previous moment **$s_{t-1}$** to determine which previous states should be remembered (i.e. forget gate output close to 1) and which should be forgotten (i.e. forget gate output close to 0). This allows the LSTM cell to learn appropriate context. The forget gate is like:\n",
    "\n",
    "$$f = \\sigma(b^f + x_tU^f + y_{t-1}V^i)$$\n",
    "\n",
    "So the hidden state of the current moment is:\n",
    "\n",
    "$$s_t = s_{t-1}\\circ f + g \\circ i$$\n",
    "\n",
    "Where $\\circ$ denotes element-wise multiplication.\n",
    "\n",
    "### The output gate in LSTM\n",
    "\n",
    "The final stage of the LSTM cell is the output gate. The output gate has two components – another tanh squashing function and an output sigmoid gating function. The output sigmoid gating function, like the other gating functions in the cell, is multiplied by the squashed state st to determine which values of the state are output from the cell. \n",
    "\n",
    "The output gate is like:\n",
    "\n",
    "$$o = \\sigma(b^o + x_tU^o + y_{t-1}V^o)$$\n",
    "\n",
    "So the final output of the cell is:\n",
    "\n",
    "$$y_t = tanh(s_t)\\circ o$$"
   ]
  },
  {
   "cell_type": "code",
   "execution_count": 1,
   "metadata": {},
   "outputs": [
    {
     "name": "stderr",
     "output_type": "stream",
     "text": [
      "Using TensorFlow backend.\n"
     ]
    }
   ],
   "source": [
    "import warnings\n",
    "warnings.filterwarnings('ignore')\n",
    "import numpy as np\n",
    "# import pandas as pd\n",
    "from numpy.linalg import inv as inv\n",
    "from keras.models import Sequential\n",
    "from keras.layers import Dense, LSTM, Dropout, Activation\n",
    "from sklearn.preprocessing import MinMaxScaler\n",
    "import time"
   ]
  },
  {
   "cell_type": "markdown",
   "metadata": {},
   "source": [
    "### Load the Metr-LA speed data set\n",
    "Metr-LA Los Angeles Freeway speed dataset concsists of speed data colected by 207 sensors from  is stored in a 323 by 17568 matrix.\n",
    "- **323** stands for 214 different road segments in Guangzhou.\n",
    "- **17568** stands for 17568 time slots over two months. (5 min a time slot)"
   ]
  },
  {
   "cell_type": "code",
   "execution_count": 3,
   "metadata": {},
   "outputs": [
    {
     "name": "stdout",
     "output_type": "stream",
     "text": [
      "Dataset shape:\n",
      "(207, 17568)\n",
      "(207, 17568)\n"
     ]
    }
   ],
   "source": [
    "directory = 'E:/ACADEMIC/Datasets/Metr-LA-data-set/'\n",
    "\n",
    "missing_rate = 0.4\n",
    "\n",
    "A = np.load(directory + 'Metr_ADJ.npy')\n",
    "dense_mat = np.load( directory + 'Metr-LA.npy')\n",
    "\n",
    "print('Dataset shape:')\n",
    "print(dense_mat.shape)\n",
    "\n",
    "# =============================================================================\n",
    "### Random missing (RM) scenario\n",
    "### Set the RM scenario by:\n",
    "# mode = 'PM'\n",
    "# rm_random_mat = np.load(directory + 'rm_random_mat.npy')\n",
    "# binary_mat = np.round(rm_random_mat + 0.5 - missing_rate)\n",
    "# =============================================================================\n",
    "# =============================================================================\n",
    "### Non-random missing (NM) scenario\n",
    "### Set the NM scenario by:\n",
    "mode = 'CM'\n",
    "nm_random_mat = np.load(directory + 'nm_random_mat.npy')\n",
    "binary_tensor = np.zeros((dense_mat.shape[0], 61, 288))\n",
    "for i1 in range(binary_tensor.shape[0]):\n",
    "    for i2 in range(binary_tensor.shape[1]):\n",
    "        binary_tensor[i1, i2, :] = np.round(nm_random_mat[i1, i2] + 0.5 - missing_rate)\n",
    "binary_mat = binary_tensor.reshape([binary_tensor.shape[0], binary_tensor.shape[1] * binary_tensor.shape[2]])\n",
    "# =============================================================================\n",
    "\n",
    "sparse_mat = np.multiply(dense_mat, binary_mat)\n",
    "print(sparse_mat.shape)"
   ]
  },
  {
   "cell_type": "markdown",
   "metadata": {},
   "source": [
    "## Problem setting\n",
    "This work mainly focuses on online spatial temporal data prediction, which is utilizing observations of the current time slot and history data to make data prediction of future data, the observation and history data may be incomplete."
   ]
  },
  {
   "cell_type": "markdown",
   "metadata": {},
   "source": [
    "### Creating training set and test set"
   ]
  },
  {
   "cell_type": "code",
   "execution_count": 4,
   "metadata": {},
   "outputs": [
    {
     "name": "stdout",
     "output_type": "stream",
     "text": [
      "The size of training set is:\n",
      "(207, 16128)\n",
      "\n",
      "The size of test set is:\n",
      "(207, 1440)\n"
     ]
    }
   ],
   "source": [
    "# test_rate = 0.082\n",
    "\n",
    "test_len = 1440 #sparse_mat.shape[1] - train_len\n",
    "train_len = sparse_mat.shape[1] - test_len\n",
    "training_set = sparse_mat[:, :train_len]\n",
    "test_set = sparse_mat[:, train_len:]\n",
    "print('The size of training set is:')\n",
    "print(training_set.shape)\n",
    "print()\n",
    "print('The size of test set is:')\n",
    "print(test_set.shape)"
   ]
  },
  {
   "cell_type": "markdown",
   "metadata": {},
   "source": [
    "### Saving ground truth(real value)"
   ]
  },
  {
   "cell_type": "code",
   "execution_count": 5,
   "metadata": {},
   "outputs": [
    {
     "name": "stdout",
     "output_type": "stream",
     "text": [
      "The size of training set ground truth is:\n",
      "(207, 16128)\n",
      "\n",
      "The size of test set ground truth is:\n",
      "(207, 1440)\n"
     ]
    }
   ],
   "source": [
    "training_ground_truth = dense_mat[:, :train_len]\n",
    "test_ground_truth = dense_mat[:, train_len:]\n",
    "print('The size of training set ground truth is:')\n",
    "print(training_ground_truth.shape)\n",
    "print()\n",
    "print('The size of test set ground truth is:')\n",
    "print(test_ground_truth.shape)"
   ]
  },
  {
   "cell_type": "markdown",
   "metadata": {},
   "source": [
    "## Train LSTM-ReMF spatial temporal feature matrices and LSTM coefficients\n",
    "\n",
    "Bofore moving to the online prediction part of the framework, static data features(spatial feature matrix `W` and temporal feature matrix `X`) and LSTM network coefficients(`var(f)`) should be trained first."
   ]
  },
  {
   "cell_type": "markdown",
   "metadata": {},
   "source": [
    "The following function is used to generate training samples for the LSTM neural network:\n",
    "\n",
    "- `dataset` is the spatial temporal matrix(training data matrix).\n",
    "- `rate` ranging from $(0, 1]$ stands for the sampling rate.\n",
    "- `time_lags` stands for the leg set which denotes the temporal correlation topology."
   ]
  },
  {
   "cell_type": "code",
   "execution_count": 6,
   "metadata": {},
   "outputs": [],
   "source": [
    "def create_lstm_samples(dataset, time_lags, rate):\n",
    "    dataX, dataY = [], []\n",
    "    data_len = dataset.shape[0] - np.max(time_lags)\n",
    "    t_sample = np.random.choice(data_len, int(rate * data_len))\n",
    "    \n",
    "    for t in t_sample:\n",
    "        a = dataset[t + np.max(time_lags) - time_lags, :][::-1]\n",
    "        dataX.append(a)\n",
    "        dataY.append(dataset[t + np.max(time_lags), :])\n",
    "    return np.array(dataX), np.array(dataY)"
   ]
  },
  {
   "cell_type": "markdown",
   "metadata": {},
   "source": [
    "The following function creates a LSTM-full connection neural network. The input layer of the network has `rank` number of units, the LSTM layer has `rank` number of units and the full connection layer also has `rank` number of units."
   ]
  },
  {
   "cell_type": "code",
   "execution_count": 7,
   "metadata": {},
   "outputs": [],
   "source": [
    "def lstmmodel(rank, lag_len):\n",
    "    # create the LSTM network\n",
    "    model = Sequential()\n",
    "#     model.add(LSTM(rank, input_shape = (lag_len, rank), return_sequences = True)) # If you need multi-layer LSTM\n",
    "    model.add(LSTM(rank, input_shape = (lag_len, rank)))\n",
    "    model.add(Dense(rank))\n",
    "    model.compile(loss='mean_squared_error', optimizer='adam')\n",
    "    return model"
   ]
  },
  {
   "cell_type": "markdown",
   "metadata": {},
   "source": [
    "## Error calculator\n",
    "<div class=\"alert alert-block alert-warning\">\n",
    "<ul>\n",
    "<li><b><code>mean_absolute_percentage_error</code>:</b> <font color=\"black\">Compute the value of Mean Absolute Percentage Error (MAPE).</font></li>\n",
    "<li><b><code>root_mean_squared_error</code>:</b> <font color=\"black\">Compute the value of Root Mean Square Error (RMSE).</font></li>\n",
    "</ul>\n",
    "</div>\n",
    "\n",
    "> Note that $$\\mathrm{MAPE}=\\frac{1}{n} \\sum_{i=1}^{n} \\frac{\\left|y_{i}-\\hat{y}_{i}\\right|}{y_{i}} \\times 100, \\quad\\mathrm{RMSE}=\\sqrt{\\frac{1}{n} \\sum_{i=1}^{n}\\left(y_{i}-{y}'_{i}\\right)^{2}},$$ where $n$ is the total number of estimated values, and $y_i$ and ${y}'_i$ are the actual value and its estimation, respectively."
   ]
  },
  {
   "cell_type": "code",
   "execution_count": 8,
   "metadata": {},
   "outputs": [],
   "source": [
    "def mean_absolute_percentage_error(y_true, y_pred, pos): \n",
    "    return np.mean(np.abs((y_true[pos] - y_pred[pos]) / y_true[pos])) * 100\n",
    "def root_mean_squared_error(y_true, y_pred, pos): \n",
    "    return np.sqrt(np.mean(np.square(y_true[pos] - y_pred[pos])))"
   ]
  },
  {
   "cell_type": "markdown",
   "metadata": {},
   "source": [
    "### LSTM-ReMF training algorithm\n",
    "\n",
    "The function **LSTM_ReMF** is used to train spatial temporal feature matrices and LSTM network parameters.\n",
    "\n",
    "- `sparse_mat` is the training set spatial temporal matrix.\n",
    "- `init` is the initiated hyperparameters of LSTM-ReMF which includes the initiated spatial matrix `W` and the initiated temporal matrix `X`.\n",
    "- `time_lags` stands for the leg set which denotes the temporal correlation topology.\n",
    "- `lambda_w`, `lambda_x` and `eta` are regularizer parameters. \n",
    "- `sampling rate` is the ratio of data used to train the LSTM-full connection network.\n",
    "- `maxiter` is the maxiter time.\n",
    "- `track` is a 0 or 1 parameter that indicates whether to compute errors while training.\n",
    "- `patience` is the tolerance waiting step number. It is only required when `track` variable is 1.\n",
    "- `dense_mat` is the training ground truth without data missing simulation. It is only required when `track` variable is 1."
   ]
  },
  {
   "cell_type": "code",
   "execution_count": 9,
   "metadata": {},
   "outputs": [],
   "source": [
    "def LSTM_ReMF(sparse_mat, init, time_lags, lambda_w, lambda_x, eta, sampling_rate, maxiter, track, patience = 10, dense_mat = 0):\n",
    "    W = init[\"W\"]\n",
    "    X = init[\"X\"]\n",
    "    dim1, dim2 = sparse_mat.shape\n",
    "    binary_mat = np.zeros((dim1,dim2))\n",
    "    position = np.where((sparse_mat != 0))\n",
    "    binary_mat[position] = 1\n",
    "    d = len(time_lags)\n",
    "    max_lags = np.max(time_lags)\n",
    "    r = X.shape[1]\n",
    "    model = lstmmodel(r, d)\n",
    "    model_reverse = lstmmodel(r, d)\n",
    "    start_time = time.time()\n",
    "    if track:\n",
    "        mape_pre = float(np.inf)\n",
    "        rmse_pre = float(np.inf)\n",
    "        pos_err = np.where((sparse_mat == 0) & (dense_mat != 0))\n",
    "        count = 0\n",
    "    for iters in range(maxiter):\n",
    "        for i in range(dim1):\n",
    "            pos0 = np.where(sparse_mat[i, :] != 0)\n",
    "            Xt = X[pos0[0], :]\n",
    "            vec0 = np.matmul(Xt.T, sparse_mat[i, pos0[0]])\n",
    "            mat0 = inv(np.matmul(Xt.T, Xt) + lambda_w * eta * np.eye(rank))\n",
    "            W[i, :] = np.matmul(mat0, vec0) \n",
    "        for t in range(dim2):\n",
    "            pos0 = np.where(sparse_mat[:, t] != 0)\n",
    "            Wt = W[pos0[0], :]\n",
    "            if iters == 0 or t < max_lags:\n",
    "                X[t, :] = np.matmul(inv(np.matmul(Wt.T, Wt) + lambda_x * eta * np.eye(r)), np.matmul(Wt.T, sparse_mat[pos0[0], t]))\n",
    "            else:\n",
    "                X_hat = X[t - time_lags, :][::-1]\n",
    "                X_hat_feed = X_hat[np.newaxis, :, :]\n",
    "                Qt =  model.predict(X_hat_feed)[0]\n",
    "                X[t, :] = np.matmul(inv(np.matmul(Wt.T, Wt)\n",
    "                                           + lambda_x * np.eye(r) + lambda_x * eta * np.eye(r)),\n",
    "                                       (np.matmul(Wt.T, sparse_mat[pos0[0], t]) + lambda_x * Qt))\n",
    "\n",
    "        \n",
    "        if iters == 0:\n",
    "            lstmX, lstmY = create_lstm_samples(X, time_lags, 1)\n",
    "            model.fit(lstmX, lstmY, epochs=20, batch_size=5000, verbose=0)\n",
    "        else:\n",
    "            lstmX, lstmY = create_lstm_samples(X, time_lags, sampling_rate)\n",
    "            model.fit(lstmX, lstmY, epochs=2, batch_size=1000, verbose=0)\n",
    "#             model.fit(lstmX, lstmY, epochs=1, batch_size=10000, verbose=0)\n",
    "        if (iters + 1) % 10 == 0:\n",
    "            print('Iterations: %d, time cost: %ds'%((iters + 1), (time.time() - start_time)))\n",
    "            start_time = time.time()\n",
    "            if track:\n",
    "                mat_hat = np.matmul(W, X.T)\n",
    "                mat_hat[position] = sparse_mat[position]\n",
    "                mat_hat[mat_hat < 0] = 0\n",
    "                rmse = root_mean_squared_error(dense_mat, mat_hat, pos_err)\n",
    "                mape = mean_absolute_percentage_error(dense_mat, mat_hat, pos_err)\n",
    "                print('Imputation RMSE = %.2f'%rmse)\n",
    "                print('Imputation MAPE = %.2f'%mape)\n",
    "                rmse_dif = rmse_pre - rmse\n",
    "                mape_dif = mape_pre - mape\n",
    "                rmse_pre = rmse\n",
    "                mape_pre = mape\n",
    "                if rmse_dif < 0.001 and mape_dif < 0.001:\n",
    "                    count += 1\n",
    "                    if count == patience:\n",
    "                        print('Wait step: %d'%count)\n",
    "                        break\n",
    "                else:\n",
    "                    count = 0\n",
    "            print()\n",
    "#     model.save('model_save\\lstm_trained1.h5')\n",
    "    mat_hat = np.matmul(W, X.T)\n",
    "    mat_hat[position] = sparse_mat[position]\n",
    "    mat_hat[mat_hat < 0] = 0\n",
    "    return mat_hat, W, X, model"
   ]
  },
  {
   "cell_type": "markdown",
   "metadata": {},
   "source": [
    "### Training process"
   ]
  },
  {
   "cell_type": "code",
   "execution_count": 178,
   "metadata": {},
   "outputs": [
    {
     "name": "stdout",
     "output_type": "stream",
     "text": [
      "Iterations: 10, time cost: 186s\n",
      "Imputation RMSE = 5.21\n",
      "Imputation MAPE = 7.99\n",
      "\n",
      "Iterations: 20, time cost: 189s\n",
      "Imputation RMSE = 5.14\n",
      "Imputation MAPE = 7.76\n",
      "\n",
      "Iterations: 30, time cost: 189s\n",
      "Imputation RMSE = 5.14\n",
      "Imputation MAPE = 7.72\n",
      "\n",
      "Iterations: 40, time cost: 184s\n",
      "Imputation RMSE = 5.16\n",
      "Imputation MAPE = 7.72\n",
      "\n",
      "Iterations: 50, time cost: 183s\n",
      "Imputation RMSE = 5.17\n",
      "Imputation MAPE = 7.75\n",
      "\n",
      "Iterations: 60, time cost: 185s\n",
      "Imputation RMSE = 5.18\n",
      "Imputation MAPE = 7.75\n",
      "\n",
      "Iterations: 70, time cost: 184s\n",
      "Imputation RMSE = 5.19\n",
      "Imputation MAPE = 7.76\n",
      "\n",
      "Iterations: 80, time cost: 190s\n",
      "Imputation RMSE = 5.20\n",
      "Imputation MAPE = 7.78\n",
      "\n",
      "Iterations: 90, time cost: 208s\n",
      "Imputation RMSE = 5.20\n",
      "Imputation MAPE = 7.77\n",
      "\n",
      "Iterations: 100, time cost: 201s\n",
      "Imputation RMSE = 5.20\n",
      "Imputation MAPE = 7.77\n",
      "\n",
      "Iterations: 110, time cost: 198s\n",
      "Imputation RMSE = 5.20\n",
      "Imputation MAPE = 7.77\n",
      "\n",
      "Iterations: 120, time cost: 192s\n",
      "Imputation RMSE = 5.20\n",
      "Imputation MAPE = 7.77\n",
      "\n",
      "Iterations: 130, time cost: 196s\n",
      "Imputation RMSE = 5.21\n",
      "Imputation MAPE = 7.77\n",
      "\n",
      "Iterations: 140, time cost: 199s\n",
      "Imputation RMSE = 5.20\n",
      "Imputation MAPE = 7.77\n",
      "\n",
      "Iterations: 150, time cost: 204s\n",
      "Imputation RMSE = 5.21\n",
      "Imputation MAPE = 7.77\n",
      "\n",
      "Iterations: 160, time cost: 240s\n",
      "Imputation RMSE = 5.21\n",
      "Imputation MAPE = 7.77\n",
      "\n",
      "Iterations: 170, time cost: 235s\n",
      "Imputation RMSE = 5.21\n",
      "Imputation MAPE = 7.77\n",
      "\n",
      "Iterations: 180, time cost: 206s\n",
      "Imputation RMSE = 5.21\n",
      "Imputation MAPE = 7.76\n",
      "\n",
      "Iterations: 190, time cost: 206s\n",
      "Imputation RMSE = 5.21\n",
      "Imputation MAPE = 7.77\n",
      "\n",
      "Iterations: 200, time cost: 190s\n",
      "Imputation RMSE = 5.21\n",
      "Imputation MAPE = 7.77\n",
      "\n"
     ]
    }
   ],
   "source": [
    "rank = 60\n",
    "maxiter = 200\n",
    "eta = 0.3\n",
    "lambda_w = 300\n",
    "lambda_x = 300\n",
    "\n",
    "sampling_rate = 1.0\n",
    "time_lags = np.array([1, 2, 288])\n",
    "# time_lags = np.arange(1, 289, 1)\n",
    "dim1, dim2 = training_set.shape\n",
    "track = True\n",
    "patience = 10\n",
    "init = {\"W\": 0.1 * np.random.rand(dim1, rank), \"X\": 0.1 * np.random.rand(dim2, rank)}\n",
    "mat_hat, W, X, model = LSTM_ReMF(training_set, init, time_lags, \n",
    "                   lambda_w, lambda_x, eta, sampling_rate, maxiter, track, patience, training_ground_truth)"
   ]
  },
  {
   "cell_type": "markdown",
   "metadata": {},
   "source": [
    "## Online prediction and imputation with Online LSTM-ReMF\n",
    "In the context of spatiotemporal data online prediction and imputation, LSTM-ReMF takes current observations $\\boldsymbol{y}_{t}$ to update the previously predicted temporal feature vector $\\boldsymbol{x}'_t$ and impute possible missing entries in real time observation $\\boldsymbol{y}_{t}$. Then, LSTM-ReMF use history temporal feature vectors $\\boldsymbol{x}_{t +1 - l}, l\\in \\mathcal{L}$ to make forecast of future temporal feature vecotr $x_{t+1}$. Finally, forecasted temporal feature vector $\\boldsymbol{x}_{t+1}$ will be multiplied by spatial embedding $\\boldsymbol{W}$ to calculate future data.\n",
    "\n",
    "Utilize pre-trained spatial feature matrix **W** of size [323, r], pre-trained LSTM coefficients **var(f)**, prestep temporal feature matrix **X0** of size [max(time_lags), r] and observations(may be incomplete) to make predictions of the next time step.\n",
    "\n",
    "### 1. Current temporal embedding $x_t$ calibration\n",
    "At time slot $t$, the newly observed data $y_t$ comes in, online LSTM-ReMF framework calibrates the previously predicted temporal feature vector $\\boldsymbol{x}'_t$. The calibrated temporal feature vector $x_t$ can be derived from the following optimization problem:\n",
    "$$\n",
    "\\min_{\\boldsymbol{x}_{t}} \\frac{1}{2}\\sum_{i \\in\\Omega_{t}}\\left(y_{i, t}-\\boldsymbol{w}_{i}^\\top \\boldsymbol{x}_{t}\\right)^2+\\frac{\\lambda_{x}}{2}\\left(\\boldsymbol{x}_{t}-\\boldsymbol{x}'_{t}\\right)^\\top\\left(\\boldsymbol{x}_{t}-\\boldsymbol{x}'_{t}\\right)+\\frac{\\lambda_{x} \\eta}{2}\\boldsymbol{x}_{t}^T \\boldsymbol{x}_{t}\n",
    "$$\n",
    "where $\\Omega_{t}$ denotes the observed entries in the real time observation $\\boldsymbol{y}_{t}$.\n",
    "\n",
    "This optimizatoin problem can be solved by least square method, the uodating formulation for temporal embeddding $x_t$ can be derived as follows:\n",
    "$$\n",
    "\\boldsymbol{x}_t = \\biggl(\\sum_{i\\in\\Omega_t}\\boldsymbol{w}_i \\boldsymbol{w}_i^\\top + \\lambda_x I+\\lambda_x\\eta I \\biggr)^{-1}\\biggl(\\sum_{i\\in\\Omega_t}y_{i,t}\\boldsymbol{w}_i + \\lambda_x \\boldsymbol{x}'_t \\biggr)\n",
    "$$\n",
    "\n",
    "### 2. Missing data imputation in current observation $\\boldsymbol{y}_{t}$\n",
    "With calibrated temporal feature vector $\\boldsymbol{x}_{t}$ and the pre-trained spatial feature matrix $\\boldsymbol{W}$, we can make imputation of the current observation by:\n",
    "$$\n",
    "\\hat{\\boldsymbol{y}} = \\boldsymbol{W}^\\top \\boldsymbol{x}_{t}\n",
    "$$\n",
    "\n",
    "### 3. Future temporal embedding $\\boldsymbol{x}_{t+1}$ prediction\n",
    "Making forecast of future temporal feature vector $\\boldsymbol{x}_{t+1}$.\n",
    "$$\n",
    "\\boldsymbol{x}'_{t + 1} = f(\\boldsymbol{x}_{t + 1 - l_1},\\boldsymbol{x}_{t + 1 - l_2},...,\\boldsymbol{x}_{t + 1 -l_d})\n",
    "$$\n",
    "\n",
    "### 4. Future data predction\n",
    "With dynamically calculated temporal feature vector $\\boldsymbol{x}_{t+1}$ and the pre-trained spatial feature matrix $\\boldsymbol{W}$, we can make prediction of the spatial temporal data of the next time slots as follows:\n",
    "$$\n",
    "\\boldsymbol{y}'_{(t+1)} = \\boldsymbol{W}^\\top \\boldsymbol{x}'_{t+1}\n",
    "$$\n"
   ]
  },
  {
   "cell_type": "markdown",
   "metadata": {},
   "source": [
    "### Online temporal embedding calibration algorithm"
   ]
  },
  {
   "cell_type": "code",
   "execution_count": 179,
   "metadata": {},
   "outputs": [],
   "source": [
    "def OnlineTRMF(sparse_vec, init, lambda_x, time_lags):\n",
    "    time_lags = time_lags[::-1]\n",
    "    W = init[\"W\"]\n",
    "    X = init[\"X\"]\n",
    "    model = init[\"model\"]\n",
    "    dim = sparse_vec.shape[0]\n",
    "    t, rank = X.shape\n",
    "    X_hat = X[t - 1 - time_lags, :].copy()\n",
    "    X_hat_feed = X_hat[np.newaxis, :, :]\n",
    "    Qt =  model.predict(X_hat_feed)[0]\n",
    "    pos0 = np.where(sparse_vec != 0)\n",
    "    Wt = W[pos0[0], :]\n",
    "    var_mu = np.matmul(Wt.T, sparse_vec[pos0]) + lambda_x * 10000 * Qt   # 20000\n",
    "    inv_var_Lambda = inv(np.matmul(Wt.T, Wt) + lambda_x * 10000 * np.eye(rank)) # 20000\n",
    "    return np.matmul(inv_var_Lambda, var_mu)"
   ]
  },
  {
   "cell_type": "markdown",
   "metadata": {},
   "source": [
    "### Online prediction framework"
   ]
  },
  {
   "cell_type": "code",
   "execution_count": 180,
   "metadata": {},
   "outputs": [],
   "source": [
    "def online_prediction(sparse_mat, init, time_lags, lambda_w, lambda_x, eta, maxiter):\n",
    "    W = init[\"W\"]\n",
    "    X = init[\"X\"]\n",
    "    model = init[\"model\"]\n",
    "    pre_step_num = X.shape[0]\n",
    "    rank = X.shape[1]\n",
    "    dim1, dim2 = sparse_mat.shape\n",
    "    X_hat = np.zeros((dim2 + pre_step_num, rank))\n",
    "    mat_pred = np.zeros((dim1, dim2))\n",
    "    X_hat[:pre_step_num,:] = X.copy()\n",
    "    start_time = time.time()\n",
    "    for t in range(dim2):\n",
    "        if t == 0:\n",
    "            X_star = X_hat[pre_step_num + t - time_lags, :][::-1]\n",
    "            X_star_feed = X_star[np.newaxis, :, :]\n",
    "            Qt =  model.predict(X_star_feed)[0]\n",
    "            X_hat[pre_step_num + t, :] = Qt.copy()\n",
    "        else:\n",
    "            sparse_vec = sparse_mat[:, t - 1]\n",
    "            if np.where(sparse_vec > 0)[0].shape[0] > 0:\n",
    "                init = {\"W\": W, \"X\": X_hat[pre_step_num + t - np.max(time_lags) - 1 : pre_step_num + t, :],\n",
    "                        \"model\": model}\n",
    "                X_c = OnlineTRMF(sparse_vec, init, lambda_x/dim2, time_lags)\n",
    "                X_hat[pre_step_num + t - 1, :] = X_c.copy()\n",
    "                X_star = X_hat[pre_step_num + t - time_lags, :][::-1]\n",
    "                X_star_feed = X_star[np.newaxis, :, :]\n",
    "                Qt =  model.predict(X_star_feed)[0]\n",
    "                X_hat[pre_step_num + t, :] = Qt.copy()\n",
    "            else:\n",
    "                X_star = X_hat[pre_step_num + t - time_lags, :][::-1]\n",
    "                X_star_feed = X_star[np.newaxis, :, :]\n",
    "                Qt =  model.predict(X_star_feed)[0]\n",
    "                X_hat[pre_step_num + t, :] = Qt.copy()\n",
    "        mat_pred[:, t] = np.matmul(W, X_hat[pre_step_num + t, :])\n",
    "        if (t + 1) % 1000 == 0:\n",
    "            print('Time step: %d, time cost: %d s'%((t + 1), (time.time() - start_time)))\n",
    "            start_time = time.time()\n",
    "            \n",
    "    sparse_vec = sparse_mat[:, -1]\n",
    "    init = {\"W\": W, \"X\": X_hat[dim2 + pre_step_num - np.max(time_lags) - 1 : , :], \"model\": model}\n",
    "    X_c = OnlineTRMF(sparse_vec, init, lambda_x/dim2, time_lags)\n",
    "    X_hat[dim2 + pre_step_num - 1,:] = X_c.copy()\n",
    "    mat_rec = np.matmul(W, X_hat[pre_step_num : , :].T)\n",
    "    return mat_rec, mat_pred"
   ]
  },
  {
   "cell_type": "markdown",
   "metadata": {},
   "source": [
    "### Making prediction on test set"
   ]
  },
  {
   "cell_type": "code",
   "execution_count": 185,
   "metadata": {},
   "outputs": [
    {
     "name": "stdout",
     "output_type": "stream",
     "text": [
      "Time step: 1000, time cost: 1 s\n",
      "Shape of imputed data is:\n",
      "(207, 1440)\n",
      "\n",
      "Shape of predicted data is:\n",
      "(207, 1440)\n"
     ]
    }
   ],
   "source": [
    "import time\n",
    "start_time = time.time()\n",
    "init = {\"W\": W, \"X\": X[- np.max(time_lags): , :], \"model\": model}\n",
    "test_mat_rec, test_mat_pred = online_prediction(test_set, init, time_lags\n",
    "                                     , lambda_w, lambda_x, eta, maxiter)\n",
    "print('Shape of imputed data is:')\n",
    "print(test_mat_rec.shape)\n",
    "print()\n",
    "print('Shape of predicted data is:')\n",
    "print(test_mat_pred.shape)"
   ]
  },
  {
   "cell_type": "code",
   "execution_count": 186,
   "metadata": {},
   "outputs": [
    {
     "name": "stdout",
     "output_type": "stream",
     "text": [
      "10 first prediciton on test set:\n",
      "[60.49151695 60.45027808 61.02532305 60.52663549 61.26677186 60.95675264\n",
      " 61.71990068 61.74727183 59.87522371 59.79144597]\n",
      "\n",
      "10 first real value on test set\n",
      "[58.         60.         52.         60.5        55.55555556 63.375\n",
      " 59.11111111 60.875      52.375      49.55555556]\n"
     ]
    }
   ],
   "source": [
    "print('10 first prediciton on test set:')\n",
    "print(test_mat_pred[0,:10])\n",
    "print()\n",
    "print('10 first real value on test set')\n",
    "print(test_ground_truth[0,:10])"
   ]
  },
  {
   "cell_type": "markdown",
   "metadata": {},
   "source": [
    "### Calculate the prediction and imputation error\n",
    "RMSE(root mean squared error) and MAPE(mean absolute percentage error) for both prediction and imputation on test set are calculated in the following code:"
   ]
  },
  {
   "cell_type": "markdown",
   "metadata": {},
   "source": [
    "### Prediction error"
   ]
  },
  {
   "cell_type": "code",
   "execution_count": 187,
   "metadata": {
    "scrolled": true
   },
   "outputs": [
    {
     "name": "stdout",
     "output_type": "stream",
     "text": [
      "Test prediction RMSE: 4.98 RMSE\n",
      "Test prediction MAPE: 7.71% MAPE\n"
     ]
    }
   ],
   "source": [
    "pos = np.where(test_ground_truth != 0)\n",
    "testPred_rmse = root_mean_squared_error(test_ground_truth, test_mat_pred, pos)\n",
    "print('Test prediction RMSE: %.2f RMSE' % (testPred_rmse))\n",
    "testPred_mape = mean_absolute_percentage_error(test_ground_truth, test_mat_pred, pos)\n",
    "print('Test prediction MAPE: %.2f%% MAPE' % (testPred_mape))"
   ]
  },
  {
   "cell_type": "markdown",
   "metadata": {},
   "source": [
    "### Imputation error"
   ]
  },
  {
   "cell_type": "code",
   "execution_count": 188,
   "metadata": {},
   "outputs": [
    {
     "name": "stdout",
     "output_type": "stream",
     "text": [
      "Test prediction RMSE: 5.04 RMSE\n",
      "Test prediction MAPE: 7.65% MAPE\n"
     ]
    }
   ],
   "source": [
    "pos = np.where((test_ground_truth != 0)&(test_set == 0))\n",
    "testPred_rmse = root_mean_squared_error(test_ground_truth, test_mat_rec, pos)\n",
    "print('Test prediction RMSE: %.2f RMSE' % (testPred_rmse))\n",
    "testPred_mape = mean_absolute_percentage_error(test_ground_truth, test_mat_rec, pos)\n",
    "print('Test prediction MAPE: %.2f%% MAPE' % (testPred_mape))"
   ]
  },
  {
   "cell_type": "markdown",
   "metadata": {},
   "source": [
    "## Plot prediction results and ground truth"
   ]
  },
  {
   "cell_type": "code",
   "execution_count": 46,
   "metadata": {
    "scrolled": true
   },
   "outputs": [
    {
     "ename": "NameError",
     "evalue": "name 'pollutant' is not defined",
     "output_type": "error",
     "traceback": [
      "\u001b[1;31m---------------------------------------------------------------------------\u001b[0m",
      "\u001b[1;31mNameError\u001b[0m                                 Traceback (most recent call last)",
      "\u001b[1;32m<ipython-input-46-73e2c4884b99>\u001b[0m in \u001b[0;36m<module>\u001b[1;34m\u001b[0m\n\u001b[0;32m     78\u001b[0m                                        \"                              2015.Dec.31\"])\n\u001b[0;32m     79\u001b[0m \u001b[0mplt\u001b[0m\u001b[1;33m.\u001b[0m\u001b[0mlegend\u001b[0m\u001b[1;33m(\u001b[0m\u001b[0mloc\u001b[0m \u001b[1;33m=\u001b[0m \u001b[1;34m'best'\u001b[0m\u001b[1;33m)\u001b[0m\u001b[1;33m\u001b[0m\u001b[1;33m\u001b[0m\u001b[0m\n\u001b[1;32m---> 80\u001b[1;33m \u001b[0mfile_n\u001b[0m \u001b[1;33m=\u001b[0m \u001b[1;34m'prediction_seattle_loop_'\u001b[0m \u001b[1;33m+\u001b[0m \u001b[0mstr\u001b[0m\u001b[1;33m(\u001b[0m\u001b[0mpollutant\u001b[0m\u001b[1;33m)\u001b[0m \u001b[1;33m+\u001b[0m \u001b[1;34m'.png'\u001b[0m\u001b[1;33m\u001b[0m\u001b[1;33m\u001b[0m\u001b[0m\n\u001b[0m\u001b[0;32m     81\u001b[0m \u001b[0mplt\u001b[0m\u001b[1;33m.\u001b[0m\u001b[0msavefig\u001b[0m\u001b[1;33m(\u001b[0m\u001b[0mfile_n\u001b[0m\u001b[1;33m,\u001b[0m \u001b[0mbbox_inches\u001b[0m \u001b[1;33m=\u001b[0m \u001b[1;34m'tight'\u001b[0m\u001b[1;33m)\u001b[0m\u001b[1;33m\u001b[0m\u001b[1;33m\u001b[0m\u001b[0m\n\u001b[0;32m     82\u001b[0m \u001b[0mplt\u001b[0m\u001b[1;33m.\u001b[0m\u001b[0mshow\u001b[0m\u001b[1;33m(\u001b[0m\u001b[1;33m)\u001b[0m\u001b[1;33m\u001b[0m\u001b[1;33m\u001b[0m\u001b[0m\n",
      "\u001b[1;31mNameError\u001b[0m: name 'pollutant' is not defined"
     ]
    },
    {
     "data": {
      "image/png": "[encoded data removed]",
      "text/plain": [
       "<Figure size 1080x288 with 1 Axes>"
      ]
     },
     "metadata": {
      "needs_background": "light"
     },
     "output_type": "display_data"
    }
   ],
   "source": [
    "import matplotlib.pyplot as plt\n",
    "import matplotlib.patches as patches\n",
    "\n",
    "fig = plt.figure(figsize = (15, 4))\n",
    "plt.style.use('classic')\n",
    "plt.rcParams['font.family'] = 'Arial'\n",
    "ax = fig.add_axes([0.18, 0.20, 0.85, 0.75])\n",
    "# ax = fig.add_axes([0, 0, 1, 1])\n",
    "ax.set_facecolor('white')\n",
    "# ax.set_facecolor((1.0, 0.47, 0.42))\n",
    "\n",
    "# sensor No.\n",
    "sensor = 45 #66#163#35#67\n",
    "\n",
    "start_time = 1 #3312\n",
    "end_time = 1441 #3528\n",
    "array = test_set[sensor, start_time:end_time]\n",
    "nonzero = [[]]\n",
    "pos = np.where(array != 0)\n",
    "seg = 0\n",
    "for i in range(len(pos[0])):\n",
    "    if (i == len(pos[0]) - 1) or (pos[0][i + 1] == pos[0][i] + 1): # continuous\n",
    "        nonzero[seg].append(pos[0][i])\n",
    "    if (i != len(pos[0]) - 1) and (pos[0][i + 1] != pos[0][i] + 1): # dis continuous\n",
    "        nonzero[seg].append(pos[0][i])\n",
    "        nonzero.append([])\n",
    "        seg += 1\n",
    "\n",
    "Scatter_point = []\n",
    "continuous_seg = []\n",
    "for i in range(len(nonzero)):\n",
    "    if len(nonzero[i]) == 1:\n",
    "        Scatter_point.append(nonzero[i][0])\n",
    "    else:\n",
    "        continuous_seg.append(nonzero[i])\n",
    "\n",
    "# for i in range(len(continuous_seg)):\n",
    "#     plt.plot(continuous_seg[i], array[continuous_seg[i]], label = 'concentration', marker='', markerfacecolor='b', markersize=8, color='red', linewidth=2)\n",
    "# # plt.plot(array[pos], label = 'concentration', marker='', markerfacecolor='blue', markersize=8, color='red', linewidth=2)\n",
    "\n",
    "# plt.scatter(Scatter_point, array[Scatter_point], facecolors='none', edgecolors='b', s=3)\n",
    "plt.plot(test_ground_truth[sensor, start_time:end_time], label = 'Ground Truth', marker='', markerfacecolor='blue', markersize=8, color='blue', linewidth=1)\n",
    "pos = np.where(array == 0)\n",
    "zero = [[]]\n",
    "seg = 0\n",
    "for i in range(len(pos[0])):\n",
    "    if (i == len(pos[0]) - 1) or (pos[0][i + 1] == pos[0][i] + 1):\n",
    "        zero[seg].append(pos[0][i])\n",
    "    if (i != len(pos[0]) - 1) and (pos[0][i + 1] != pos[0][i] + 1):\n",
    "        zero[seg].append(pos[0][i])\n",
    "        zero.append([])\n",
    "        seg += 1\n",
    "\n",
    "RM = []\n",
    "NM = []\n",
    "for i in range(len(zero)):\n",
    "    if len(zero[i]) == 1:\n",
    "        RM.append(zero[i][0])\n",
    "    else:\n",
    "        NM.append(zero[i])\n",
    "\n",
    "\n",
    "# plt.yticks(np.arange(0, 150, 40), [0, 40, 80, 120])\n",
    "# plt.xticks(np.arange(0, 230, 10))#, [0, 50, 100, 150, 200, 250])\n",
    "plt.ylim(0, 75)\n",
    "plt.xlim(0, 1441)\n",
    "ax.set_ylabel(\"Speed Km/h\")\n",
    "# ax.set_title(\"Speed prediction for sensor No.%d\"%(pollutant))\n",
    "# ax.grid(color = 'gray', linestyle = '-', linewidth = 0.4, alpha = 0.5, axis = 'x')\n",
    "# plt.scatter(RM, (array[np.array(RM) + 1] + array[np.array(RM) - 1]) / 2, facecolors='none', edgecolors='y', s=30)\n",
    "\n",
    "plt.plot(test_mat_pred[sensor, start_time : end_time], label = 'Predicted', marker='', markerfacecolor='blue', markersize=8, color='red', linewidth=1)\n",
    "\n",
    "for i in range(len(NM)):\n",
    "    ax.add_patch(patches.Rectangle((NM[i][0] - 1, 0), NM[i][-1] - NM[i][0] + 1, 200, alpha = 0.1, facecolor = 'yellow'))\n",
    "plt.xticks(np.arange(0, 1440, 288), [\"                            2015.Dec.27\", \"                        2015.Dec.28\", \n",
    "                                        \"                                2015.Dec.29\", \"                              2015.Dec.30\", \n",
    "                                       \"                              2015.Dec.31\"])\n",
    "plt.legend(loc = 'best')\n",
    "file_n = 'prediction_seattle_loop_' + str(pollutant) + '.png'\n",
    "plt.savefig(file_n, bbox_inches = 'tight')\n",
    "plt.show()"
   ]
  },
  {
   "cell_type": "markdown",
   "metadata": {},
   "source": [
    "# License\n",
    "\n",
    "<div class=\"alert alert-block alert-danger\">\n",
    "<b>This work is released under the MIT license.</b>\n",
    "</div>"
   ]
  },
  {
   "cell_type": "code",
   "execution_count": null,
   "metadata": {},
   "outputs": [],
   "source": []
  }
 ],
 "metadata": {
  "kernelspec": {
   "display_name": "Python 3",
   "language": "python",
   "name": "python3"
  },
  "language_info": {
   "codemirror_mode": {
    "name": "ipython",
    "version": 3
   },
   "file_extension": ".py",
   "mimetype": "text/x-python",
   "name": "python",
   "nbconvert_exporter": "python",
   "pygments_lexer": "ipython3",
   "version": "3.7.3"
  },
  "nbTranslate": {
   "displayLangs": [
    "*"
   ],
   "hotkey": "alt-t",
   "langInMainMenu": true,
   "sourceLang": "en",
   "targetLang": "fr",
   "useGoogleTranslate": true
  }
 },
 "nbformat": 4,
 "nbformat_minor": 2
}
