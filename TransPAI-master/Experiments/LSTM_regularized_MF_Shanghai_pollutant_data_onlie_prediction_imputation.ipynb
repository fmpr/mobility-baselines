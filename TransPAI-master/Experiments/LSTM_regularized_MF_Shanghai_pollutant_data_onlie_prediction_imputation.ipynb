{
 "cells": [
  {
   "cell_type": "markdown",
   "metadata": {},
   "source": [
    "# Shanghai pollutant data prediction using LSTM Regularized matrix Factorization\n",
    "> About the author: Jinming Yang (yangjm67@sjtu.edu.cn), Center for Intelligent Transportation Systems and Unmanned Aerial Systems Applications Research, School of Naval Architecture, Ocean and Civil Engineering, Shanghai Jiao Tong University, Shanghai 200240, China. "
   ]
  },
  {
   "cell_type": "markdown",
   "metadata": {},
   "source": [
    "## Data Organization: Matrix Structure\n",
    "\n",
    "We consider a dataset of $M$ discrete time series $\\boldsymbol{y}_{i}\\in\\mathbb{R}^{T},i\\in\\left\\{1,2,...,M\\right\\}$. The time series may have missing elements. We express spatio-temporal dataset as a matrix $Y\\in\\mathbb{R}^{M\\times T}$ with $M$ rows (e.g., sensors) and $T$ columns (e.g., discrete time slots),\n",
    "\n",
    "$$Y=\\left[ \\begin{array}{cccc} y_{11} & y_{12} & \\cdots & y_{1T} \\\\ y_{21} & y_{22} & \\cdots & y_{2F} \\\\ \\vdots & \\vdots & \\ddots & \\vdots \\\\ y_{M1} & y_{M2} & \\cdots & y_{MF} \\\\ \\end{array} \\right]\\in\\mathbb{R}^{M\\times F}.$$\n",
    "\n",
    "Pollutant concentration data is organized in a spatial-temporal matrix in which the rows stands for different kinds of pollutants in different locations and collumns stands for each time slots.\n",
    "\n",
    "## LSTM Regularized Matrix Factorization(LSTM-ReMF)\n",
    "\n",
    "LSTM Regularized Matrix Factorization (LSTM-ReMF) framework is an approach to incorporate temporal dependencies into matrix factorization models using the well-studied Long-short term memory(LSTM) neural networks to describe temporal dependencies\n",
    "among temporal feature vectors ${\\boldsymbol{x}_t}$ explicitly. Let $f()$ stands for the feed forward process of the LSTM network, then the temporal dependencies can be described as follows:\n",
    "\n",
    "$$\n",
    "\\boldsymbol{x}'_t = f(\\boldsymbol{x}_{t-l_1},\\boldsymbol{x}_{t-l_2},...,\\boldsymbol{x}_{t-l_d})\n",
    "$$\n",
    "\n",
    "Where the lag set $\\mathcal{L}=\\left\\{l_1,l_2,...,l_d\\right\\}$ (e.g., $\\mathcal{L}=\\left\\{1,2,288\\right\\}$) indicates  the temporal correlation topology. We further define the LSTM network temporal regularizer as follows:\n",
    "\n",
    "$$\\mathcal{R}_{t}\\left(\\boldsymbol{X} \\right) = \\frac{1}{2}\\sum_{t=l_d}^n\\biggl(\\boldsymbol{x}_t - \\boldsymbol{x}'_t\\biggr)^2$$\n",
    "\n",
    "where, $var(f)$ stands for the parameters the in LSTM network regularizer, and $f()$ is the feed forward process of the LSTM network regularizer.\n",
    "\n",
    "Thus, LSTM-ReMF is given by solving\n",
    "$$\n",
    "% \\begin{aligned}\n",
    "\\min_{W,X,\\text{var}(f)} \\frac{1}{2}\\underbrace{\\sum_{(i,t)\\in\\Omega}\\left(y_{it}-\\boldsymbol{w}_{i}^T\\boldsymbol{x}_{t}\\right)^2}_{\\text{sum of squared residual errors}} +\\frac{\\lambda_{w}\\eta}{2}\\underbrace{\\lVert \\boldsymbol{W}\\rVert^2}_{W-\\text{regularizer}} +\\frac{\\lambda_{x}\\eta}{2}\\underbrace{\\lVert \\boldsymbol{X}\\rVert^2}_{X-\\text{regularizer}} + \\underbrace{\\frac{\\lambda_{x}}{2}\\sum_{t=l_d+1}^n\\biggl(x_t - f(x_{t-l_1},...,x_{t-l_d}|\\text{var}(f))\\biggr)^2}_{\\text{LSTM network temporal regularizer}}\n",
    "% \\end{aligned}\n",
    "$$\n"
   ]
  },
  {
   "cell_type": "markdown",
   "metadata": {},
   "source": [
    "### Solving the above minimization problem using alternative least square method(ALS)"
   ]
  },
  {
   "cell_type": "markdown",
   "metadata": {},
   "source": [
    "### Least square for temporal feature vectors $\\boldsymbol{x}_t, t = 1, 2, ..., l_d$\n",
    "To solve temporal embedding $\\boldsymbol{x}_t, t = 1, 2, ..., l_d$, we need to solve the following sub-problem.\n",
    "$$\\min_{\\boldsymbol{x}_t} f_X(\\boldsymbol{x}_t) = \\min_{x_t}\\frac{1}{2}\\sum_{i:(i,t)\\in\\Omega}\\left(y_{it}-\\boldsymbol{w}_{i}^\\top\\boldsymbol{x}_{t}\\right)^2+\\frac{\\lambda_{x} \\eta}{2}\\boldsymbol{x}_{t}^\\top\\boldsymbol{x}_{t}$$\n",
    "\n",
    "Rewrite the above objective function as follows:\n",
    "$$\n",
    "f_X(\\boldsymbol{x}_t) = \\frac{1}{2}\\sum_{i:(i,t)\\in\\Omega}(y_{it} - \\boldsymbol{w}_i^\\top\\boldsymbol{x}_t)^\\top(y_{it} - \\boldsymbol{w}_i^\\top\\boldsymbol{x}_t)+\\frac{\\lambda_{x} \\eta}{2}\\boldsymbol{x}_{t}^\\top\\boldsymbol{x}_{t}\n",
    "$$\n",
    "\n",
    "Expand the objective function $f_X(\\boldsymbol{x}_t)$ as:\n",
    "$$\n",
    "f_X(\\boldsymbol{x}_t) = \\frac{1}{2}\\sum_{i:(i,t)\\in\\Omega}\\biggl(\\boldsymbol{x}_t^\\top\\boldsymbol{w}_i\\boldsymbol{w}_i^\\top\\boldsymbol{x}_t - 2y_{it}\\boldsymbol{w}_i^\\top\\boldsymbol{x}_t\\biggr) + \\frac{\\lambda_x \\eta}{2}\\boldsymbol{x}_t^\\top\\boldsymbol{x}_t + \\text{const}\n",
    "$$\n",
    "\n",
    "The above equation can be rewitten as:\n",
    "$$\n",
    "\\begin{aligned}\n",
    "f_X(\\boldsymbol{x}_t) &= \\frac{1}{2}\\boldsymbol{x}_t^\\top\\biggl(\\sum_{i:(i,t)\\in\\Omega}\\boldsymbol{w}_i\\boldsymbol{w}_i^\\top \\biggr)\\boldsymbol{x}_t - \\sum_{i:(i,t)\\in\\Omega}y_{it}\\boldsymbol{w}_i^\\top\\boldsymbol{x}_t  + \\boldsymbol{x}_t^{\\top}\\biggl(\\frac{\\lambda_x\\eta}{2}I\\biggr)\\boldsymbol{x}_t + \\text{const} \\\\\n",
    "~& = \\boldsymbol{x}_t^\\top\\biggl(\\frac{1}{2}\\sum_{i:(i,t)\\in\\Omega}\\boldsymbol{w}_i\\boldsymbol{w}_i^\\top + \\frac{\\lambda_x\\eta}{2}I\\biggr)\\boldsymbol{x}_t - \\biggl(\\sum_{i:(i,t)\\in\\Omega}y_{it}\\boldsymbol{w}_i\\biggr)^\\top\\boldsymbol{x}_t + const\n",
    "\\end{aligned}\n",
    "$$\n",
    "\n",
    "Derive the deviation of $f_X(\\boldsymbol{x}_t)$ as follows:\n",
    "$$\n",
    "f_X'(\\boldsymbol{x}_t) = \\biggl(\\sum_{i:(i,t)\\in\\Omega}\\boldsymbol{w}_i\\boldsymbol{w}_i^\\top+\\lambda_x\\eta I \\biggr)\\boldsymbol{x}_t - \\biggl(\\sum_{i:(i,t)\\in\\Omega}y_{it}\\boldsymbol{w}_i\\biggr)\n",
    "$$\n",
    "\n",
    "Let the derivation equal zero, we can derive the updating equation of $\\boldsymbol{x}_t$ as follows:\n",
    "<span style='color: blue'>\n",
    "$$\\boldsymbol{x}_t = \\biggl(\\sum_{i:(i,t)\\in\\Omega}\\boldsymbol{w}_i\\boldsymbol{w}_i^\\top+\\lambda_x\\eta I \\biggr)^{-1}\\biggl(\\sum_{i:(i,t)\\in\\Omega}y_{it}\\boldsymbol{w}_i\\biggr)$$\n",
    "</span>"
   ]
  },
  {
   "cell_type": "markdown",
   "metadata": {},
   "source": [
    "### Least square for temporal feature vector $\\boldsymbol{x}_t, t = l_d + 1, l_d + 2, ..., T$\n",
    "To update temporal feature vector $\\boldsymbol{x}_t, t = l_d + 1, l_d + 2, ..., T$, we need to solve the following sub-problem.\n",
    "$$\\min_{\\boldsymbol{x}_t} f_X(\\boldsymbol{x}_t) = \\min_{x_t}\\frac{1}{2}\\sum_{i:(i,t)\\in\\Omega}\\left(y_{it}-\\boldsymbol{w}_{i}^\\top\\boldsymbol{x}_{t}\\right)^2+\\frac{\\lambda_{x}}{2}\\left(\\boldsymbol{x}_{t}-\\boldsymbol{x}'_{t}\\right)^\\top\\left(\\boldsymbol{x}_{t}-\\boldsymbol{x}'_{t}\\right)+\\frac{\\lambda_{x} \\eta}{2}\\boldsymbol{x}_{t}^T\\boldsymbol{x}_{t}$$\n",
    "\n",
    "Rewrite the above objective function as follows:\n",
    "$$\n",
    "f_X(\\boldsymbol{x}_t) = \\frac{1}{2}\\sum_{i:(i,t)\\in\\Omega}(y_{it} - \\boldsymbol{w}_i^\\top\\boldsymbol{x}_t)^\\top(y_{it} - \\boldsymbol{w}_i^\\top\\boldsymbol{x}_t) + \\frac{\\lambda_{x}}{2}\\left(\\boldsymbol{x}_{t}-\\boldsymbol{x}'_{t}\\right)^\\top\\left(\\boldsymbol{x}_{t}-\\boldsymbol{x}'_{t}\\right)+\\frac{\\lambda_{x} \\eta}{2}\\boldsymbol{x}_{t}^\\top\\boldsymbol{x}_{t}\n",
    "$$\n",
    "\n",
    "Expand the objective function $f_X(\\boldsymbol{x}_t)$ as:\n",
    "$$\n",
    "f_X(\\boldsymbol{x}_t) = \\frac{1}{2}\\sum_{i:(i,t)\\in\\Omega}\\biggl(\\boldsymbol{x}_t^\\top\\boldsymbol{w}_i\\boldsymbol{w}_i^\\top\\boldsymbol{x}_t - 2y_{it}\\boldsymbol{w}_i^\\top\\boldsymbol{x}_t\\biggr) + \\frac{\\lambda_x}{2}\\biggl(\\boldsymbol{x}_t^\\top\\boldsymbol{x}_t - 2{\\boldsymbol{x}'_t}^{\\top}\\boldsymbol{x}_t\\biggr) + \\frac{\\lambda_x \\eta}{2}\\boldsymbol{x}_t^\\top\\boldsymbol{x}_t + \\text{const}\n",
    "$$\n",
    "\n",
    "The above equation can be rewitten as:\n",
    "$$\n",
    "\\begin{aligned}\n",
    "f_X(\\boldsymbol{x}_t) &= \\frac{1}{2}\\boldsymbol{x}_t^\\top\\biggl(\\sum_{i:(i,t)\\in\\Omega}\\boldsymbol{w}_i\\boldsymbol{w}_i^\\top \\biggr)\\boldsymbol{x}_t - \\sum_{i:(i,t)\\in\\Omega}y_{it}\\boldsymbol{w}_i^\\top\\boldsymbol{x}_t + \\boldsymbol{x}_t^\\top \\biggl(\\frac{\\lambda_x}{2}I\\biggr)\\boldsymbol{x}_t - \\lambda_x {\\boldsymbol{x}'_t}^{\\top}\\boldsymbol{x}_t + \\boldsymbol{x}_t^{\\top}\\biggl(\\frac{\\lambda_x\\eta}{2}I\\biggr)\\boldsymbol{x}_t + \\text{const} \\\\\n",
    "~& = \\boldsymbol{x}_t^\\top\\biggl(\\frac{1}{2}\\sum_{i:(i,t)\\in\\Omega}\\boldsymbol{w}_i\\boldsymbol{w}_i^\\top + \\frac{\\lambda_x}{2}I+\\frac{\\lambda_x\\eta}{2}I\\biggr)\\boldsymbol{x}_t - \\biggl(\\sum_{i:(i,t)\\in\\Omega}y_{it}\\boldsymbol{w}_i + \\lambda_x \\boldsymbol{x}'_t\\biggr)^\\top\\boldsymbol{x}_t + const\n",
    "\\end{aligned}\n",
    "$$\n",
    "\n",
    "Derive the deviation of $f_X(\\boldsymbol{x}_t)$ as follows:\n",
    "$$\n",
    "f_X'(\\boldsymbol{x}_t) = \\biggl(\\sum_{i:(i,t)\\in\\Omega}\\boldsymbol{w}_i\\boldsymbol{w}_i^\\top + \\lambda_xI+\\lambda_x\\eta I \\biggr)\\boldsymbol{x}_t - \\biggl(\\sum_{i:(i,t)\\in\\Omega}y_{it}\\boldsymbol{w}_i + \\lambda_x \\boldsymbol{x}'_t \\biggr)\n",
    "$$\n",
    "\n",
    "Let the derivation equal zero, we can derive the updating equation of $\\boldsymbol{x}_t$ as follows:\n",
    "<span style='color: blue'>\n",
    "$$\\boldsymbol{x}_t = \\biggl(\\sum_{i:(i,t)\\in\\Omega}\\boldsymbol{w}_i\\boldsymbol{w}_i^\\top + \\lambda_xI+\\lambda_x\\eta I \\biggr)^{-1}\\biggl(\\sum_{i:(i,t)\\in\\Omega}y_{it}\\boldsymbol{w}_i + \\lambda_x \\boldsymbol{x}'_t \\biggr)$$\n",
    "</span>"
   ]
  },
  {
   "cell_type": "markdown",
   "metadata": {},
   "source": [
    "### Least square for spatial feature vectors $\\boldsymbol{w}_i, i = 1, 2, ..., M$\n",
    "\n",
    "To update spatial feature vectors $\\boldsymbol{w}_i, i = 1, 2, ..., M$, we need to solve the following sub-problem.\n",
    "$$\\min_{\\boldsymbol{w}_i} f_W(\\boldsymbol{w}_i) = \\min_{\\boldsymbol{w}_i}\\frac{1}{2}\\sum_{t:(i,t)\\in\\Omega}\\left(y_{it}-\\boldsymbol{w}_{i}^\\top\\boldsymbol{x}_{t}\\right)^2+\\frac{\\lambda_{w}}{2}\\boldsymbol{w}_{i}^T\\boldsymbol{w}_{i}$$\n",
    "\n",
    "Rewrite the above objective function as follows:\n",
    "$$\n",
    "f_W(\\boldsymbol{w}_i) = \\frac{1}{2}\\sum_{t:(i,t)\\in\\Omega}(y_{it} - \\boldsymbol{w}_i^\\top\\boldsymbol{x}_t)^\\top(y_{it} - \\boldsymbol{w}_i^\\top\\boldsymbol{x}_t)+\\frac{\\lambda_{w}}{2}\\boldsymbol{w}_{i}^\\top\\boldsymbol{w}_{i}\n",
    "$$\n",
    "\n",
    "Expand the objective function $f_X(\\boldsymbol{x}_t)$ as:\n",
    "$$\n",
    "f_W(\\boldsymbol{w}_i) = \\frac{1}{2}\\sum_{t:(i,t)\\in\\Omega}\\biggl(\\boldsymbol{w}_i^\\top\\boldsymbol{x}_t\\boldsymbol{x}_t^\\top\\boldsymbol{w}_i - 2y_{it}\\boldsymbol{x}_t^\\top\\boldsymbol{w}_i\\biggr) + \\frac{\\lambda_w\\eta}{2}\\boldsymbol{w}_i^\\top\\boldsymbol{w}_i + \\text{const}\n",
    "$$\n",
    "\n",
    "The above equation can be rewitten as:\n",
    "$$\n",
    "\\begin{aligned}\n",
    "f_W(\\boldsymbol{w}_i) &= \\frac{1}{2}\\boldsymbol{w}_i^\\top\\biggl(\\sum_{t:(i,t)\\in\\Omega}\\boldsymbol{x}_i\\boldsymbol{x}_i^\\top \\biggr)\\boldsymbol{w}_i - \\sum_{t:(i,t)\\in\\Omega}y_{it}\\boldsymbol{x}_t^\\top\\boldsymbol{w}_i+ \\boldsymbol{w}_i^\\top \\biggl(\\frac{\\lambda_w\\eta}{2}I\\biggr)\\boldsymbol{w}_i + \\text{const} \\\\\n",
    "~& = \\boldsymbol{w}_i^\\top\\biggl(\\frac{1}{2}\\sum_{t:(i,t)\\in\\Omega}\\boldsymbol{x}_t\\boldsymbol{x}_t^\\top + \\frac{\\lambda_w\\eta}{2}I\\biggr)\\boldsymbol{w}_i - \\biggl(\\sum_{i:(i,t)\\in\\Omega}y_{it}\\boldsymbol{x}_t\\biggr)^\\top\\boldsymbol{w}_i + const\n",
    "\\end{aligned}\n",
    "$$\n",
    "\n",
    "Derive the deviation of $f_W(\\boldsymbol{w}_i)$ as follows:\n",
    "$$\n",
    "f_W'(\\boldsymbol{w}_i) = \\biggl(\\sum_{i:(i,t)\\in\\Omega}\\boldsymbol{x}_t\\boldsymbol{x}_t^\\top + \\lambda_w\\eta I\\biggr)\\boldsymbol{w}_i - \\sum_{t:(i,t)\\in\\Omega}y_{it}\\boldsymbol{x}_t\n",
    "$$\n",
    "\n",
    "Let the derivation equal zero, we can derive the updating $\\boldsymbol{w}_i$ by:\n",
    "<span style='color: blue'>\n",
    "$$\\boldsymbol{w}_i = \\biggl(\\sum_{t:(i,t)\\in\\Omega}\\boldsymbol{x}_t\\boldsymbol{x}_t^\\top + \\lambda_w\\eta I\\biggr)^{-1}\\biggl(\\sum_{t:(i,t)\\in\\Omega}y_{it}\\boldsymbol{x}_t\\biggr)$$\n",
    "</span>"
   ]
  },
  {
   "cell_type": "markdown",
   "metadata": {},
   "source": [
    "# Long-short Term Memory(LSTM)\n",
    "LSTM is actually also a special kind of neural network. The major difference between LSTM and RNN is that LSTM has a special mechanism called **forget gate**. As RNNs do, LSTMs also have **hidden state** that would pass to the next time slot. But not like RNN, iformations are selected through the forget gate and only let through those informations that is usefull. Let see how this would help LSTM get away from gradient vanish or gradient explode.\n",
    "\n",
    "### Input gate in LSTM\n",
    "First, the input is squashed between -1 and 1 using a tanh activation function. This can be expressed by:\n",
    "\n",
    "$$g = tanh(b^g+x_tU^g+y_{t-1}V^g)$$\n",
    "\n",
    "Where **$U^g$** and **$V^g$** are the weights for the input and previous cell output, respectively, and **$b^g$** is the input bias. Note that the exponents **g** are not a raised power, but rather signify that these are the input weights and bias values (as opposed to the input gate, forget gate, output gate etc.).\n",
    "\n",
    "This squashed input is then multiplied element-wise by the output of the input gate. The input gate is basically a hidden layer of sigmoid activated nodes, with weighted **$x_t$** and **$y_{t-1}$** input values, which outputs values of between 0 and 1 and when multiplied element-wise by the input determines which inputs are switched on and off. In other words, it is a kind of input filter or gate. The expression for the input gate is:\n",
    "\n",
    "$$i = \\sigma(b^i + x_tU^i+ y_{t-1}V^i)$$\n",
    "\n",
    "### The hidden state and the forget gate\n",
    "Forget gate is again a sigmoid activated set of nodes which is element-wise multiplied by the hidden state of the previous moment **$s_{t-1}$** to determine which previous states should be remembered (i.e. forget gate output close to 1) and which should be forgotten (i.e. forget gate output close to 0). This allows the LSTM cell to learn appropriate context. The forget gate is like:\n",
    "\n",
    "$$f = \\sigma(b^f + x_tU^f + y_{t-1}V^i)$$\n",
    "\n",
    "So the hidden state of the current moment is:\n",
    "\n",
    "$$s_t = s_{t-1}\\circ f + g \\circ i$$\n",
    "\n",
    "Where $\\circ$ denotes element-wise multiplication.\n",
    "\n",
    "### The output gate in LSTM\n",
    "\n",
    "The final stage of the LSTM cell is the output gate. The output gate has two components – another tanh squashing function and an output sigmoid gating function. The output sigmoid gating function, like the other gating functions in the cell, is multiplied by the squashed state st to determine which values of the state are output from the cell. \n",
    "\n",
    "The output gate is like:\n",
    "\n",
    "$$o = \\sigma(b^o + x_tU^o + y_{t-1}V^o)$$\n",
    "\n",
    "So the final output of the cell is:\n",
    "\n",
    "$$y_t = tanh(s_t)\\circ o$$"
   ]
  },
  {
   "cell_type": "code",
   "execution_count": 2,
   "metadata": {},
   "outputs": [],
   "source": [
    "import numpy as np\n",
    "import scipy.io\n",
    "from numpy.linalg import inv as inv\n",
    "from keras.models import Sequential\n",
    "from keras.layers import Dense, LSTM, Dropout, Activation\n",
    "from sklearn.preprocessing import MinMaxScaler\n",
    "import time"
   ]
  },
  {
   "cell_type": "code",
   "execution_count": 3,
   "metadata": {},
   "outputs": [],
   "source": [
    "def kr_prod(a, b):\n",
    "    return np.einsum('ir, jr -> ijr', a, b).reshape(a.shape[0] * b.shape[0], -1)"
   ]
  },
  {
   "cell_type": "code",
   "execution_count": 4,
   "metadata": {},
   "outputs": [
    {
     "name": "stdout",
     "output_type": "stream",
     "text": [
      "[[ 5 12]\n",
      " [ 7 16]\n",
      " [ 9 20]\n",
      " [15 24]\n",
      " [21 32]\n",
      " [27 40]]\n"
     ]
    }
   ],
   "source": [
    "A = np.array([[1, 2], [3, 4]])\n",
    "B = np.array([[5, 6], [7, 8], [9, 10]])\n",
    "print(kr_prod(A, B))"
   ]
  },
  {
   "cell_type": "markdown",
   "metadata": {},
   "source": [
    "### Load the Shanghai pollutant concentration data set\n",
    "Shanghai pollutant concentration dataset is stored in a 12 by 6 by 15768 matrix.\n",
    "- **12** stands for 12 different monitoring stations in Shanghai.\n",
    "- **6** stands for 6 different kinds of pollutants: NO2 CO PM2.5 PM10 SO2 O3.\n",
    "- **15768** stands for 15768 hours from 2017-2019."
   ]
  },
  {
   "cell_type": "code",
   "execution_count": 5,
   "metadata": {},
   "outputs": [
    {
     "name": "stdout",
     "output_type": "stream",
     "text": [
      "The shape of the initial dataset is:\n",
      "(12, 6, 15768)\n"
     ]
    }
   ],
   "source": [
    "import scipy.io\n",
    "\n",
    "tensor = scipy.io.loadmat('../datasets/Shanghai-pollutant-dataset/NTS_tensor.mat')\n",
    "dense_tensor = tensor['tensor']\n",
    "\n",
    "print('The shape of the initial dataset is:')\n",
    "print(dense_tensor.shape)\n",
    "dim1, dim2, dim3 = dense_tensor.shape\n",
    "missing_rate = 0.4\n",
    "\n",
    "# # =============================================================================\n",
    "# ### Random missing (PM) scenario\n",
    "# ### Set the PM scenario by:\n",
    "tensor = scipy.io.loadmat('../datasets/Shanghai-pollutant-dataset/NTS_random_tensor.mat')\n",
    "random_tensor = tensor['tensor']\n",
    "binary_tensor = np.ones((dim1, dim2, dim3))\n",
    "binary_tensor[random_tensor < missing_rate] = 0 \n",
    "\n",
    "# # =============================================================================\n",
    "### Non random missing (CM) scenario\n",
    "# ### Set the CM scenario by:\n",
    "missing_period = 6 #data missing in continuous [6, 12, 24, 48] hours\n",
    "# random_array_file = '../datasets/Shanghai-pollutant-dataset/NTS_random_array' + str(missing_period) + '.mat'\n",
    "# tensor = scipy.io.loadmat(random_array_file)\n",
    "# random_array = tensor['array'][0]\n",
    "# dense_tensor = np.random.rand(dim1,dim2,dim3)\n",
    "# binary_reshape_tensor = np.ones_like(dense_tensor)\n",
    "# binary_reshape_tensor = binary_reshape_tensor.reshape(dim1,dim2,int(dim3 / missing_period),missing_period)\n",
    "# pos = np.where(random_array < missing_rate)\n",
    "# binary_reshape_tensor[:, :, pos, :] = 0\n",
    "# binary_tensor = binary_reshape_tensor.reshape(dim1, dim2, dim3)\n",
    "# # =============================================================================\n",
    "\n",
    "sparse_tensor = np.multiply(dense_tensor, binary_tensor)\n",
    "\n",
    "sparse_tensor = np.multiply(dense_tensor, binary_tensor)\n",
    "# print(len(np.where(sparse_mat != dense_mat)[0])/(87 * 15768))"
   ]
  },
  {
   "cell_type": "markdown",
   "metadata": {},
   "source": [
    "## Create data matrix"
   ]
  },
  {
   "cell_type": "code",
   "execution_count": 6,
   "metadata": {},
   "outputs": [
    {
     "name": "stdout",
     "output_type": "stream",
     "text": [
      "(72, 10000)\n"
     ]
    }
   ],
   "source": [
    "dense_tensor = dense_tensor[:, :, 5768:]\n",
    "sparse_tensor = sparse_tensor[:, :, 5768:]\n",
    "dim1, dim2, dim3 = sparse_tensor.shape\n",
    "dense_mat = dense_tensor.reshape([dim1*dim2, dim3])\n",
    "sparse_mat = sparse_tensor.reshape([dim1*dim2, dim3])\n",
    "print(sparse_mat.shape)"
   ]
  },
  {
   "cell_type": "markdown",
   "metadata": {},
   "source": [
    "## Problem setting\n",
    "This work mainly focuses on spatiotemporal data online prediction and impute possible missing entries during real time data observation."
   ]
  },
  {
   "cell_type": "markdown",
   "metadata": {},
   "source": [
    "### Creating training set and test set"
   ]
  },
  {
   "cell_type": "code",
   "execution_count": 7,
   "metadata": {},
   "outputs": [
    {
     "name": "stdout",
     "output_type": "stream",
     "text": [
      "The size of training set is:\n",
      "(72, 9180)\n",
      "\n",
      "The size of test set is:\n",
      "(72, 820)\n"
     ]
    }
   ],
   "source": [
    "test_rate = 0.082\n",
    "\n",
    "train_len = int((1 - test_rate) * sparse_mat.shape[1])\n",
    "test_len = sparse_mat.shape[1] - train_len\n",
    "training_set = sparse_mat[:, :train_len]\n",
    "test_set = sparse_mat[:, train_len:]\n",
    "print('The size of training set is:')\n",
    "print(training_set.shape)\n",
    "print()\n",
    "print('The size of test set is:')\n",
    "print(test_set.shape)"
   ]
  },
  {
   "cell_type": "markdown",
   "metadata": {},
   "source": [
    "### Saving ground truth(real value)"
   ]
  },
  {
   "cell_type": "code",
   "execution_count": 8,
   "metadata": {},
   "outputs": [
    {
     "name": "stdout",
     "output_type": "stream",
     "text": [
      "The size of training set ground truth is:\n",
      "(72, 9180)\n",
      "\n",
      "The size of test set ground truth is:\n",
      "(72, 820)\n"
     ]
    }
   ],
   "source": [
    "training_ground_truth = dense_mat[:, :train_len]\n",
    "test_ground_truth = dense_mat[:, train_len:]\n",
    "print('The size of training set ground truth is:')\n",
    "print(training_ground_truth.shape)\n",
    "print()\n",
    "print('The size of test set ground truth is:')\n",
    "print(test_ground_truth.shape)"
   ]
  },
  {
   "cell_type": "markdown",
   "metadata": {},
   "source": [
    "## Train LSTM-ReMF spatial temporal feature matrices and LSTM coefficients\n",
    "\n",
    "Bofore moving to the online prediction part of the framework, static data features(spatial feature matrix `W` and temporal feature matrix `X`) and LSTM network coefficients(`var(f)`) should be trained first."
   ]
  },
  {
   "cell_type": "markdown",
   "metadata": {},
   "source": [
    "The following function is used to generate training samples for the LSTM neural network:\n",
    "\n",
    "- `dataset` is the spatial temporal matrix(training data matrix).\n",
    "- `rate` ranging from $(0, 1]$ stands for the sampling rate.\n",
    "- `time_lags` stands for the leg set which denotes the temporal correlation topology."
   ]
  },
  {
   "cell_type": "code",
   "execution_count": 9,
   "metadata": {},
   "outputs": [],
   "source": [
    "def create_lstm_samples(dataset, time_lags, rate):\n",
    "    dataX, dataY = [], []\n",
    "    data_len = dataset.shape[0] - np.max(time_lags)\n",
    "    t_sample = np.random.choice(data_len, int(rate * data_len))\n",
    "    \n",
    "    for t in t_sample:\n",
    "        a = dataset[t + np.max(time_lags) - time_lags, :][::-1]\n",
    "        dataX.append(a)\n",
    "        dataY.append(dataset[t + np.max(time_lags), :])\n",
    "    return np.array(dataX), np.array(dataY)"
   ]
  },
  {
   "cell_type": "markdown",
   "metadata": {},
   "source": [
    "The following function creates a LSTM network temporal regularizer. The input layer of the network has `rank` units, the LSTM layer has `rank` units and the full connection layer also has `rank` units."
   ]
  },
  {
   "cell_type": "code",
   "execution_count": 10,
   "metadata": {},
   "outputs": [],
   "source": [
    "def lstmmodel(rank, lag_len):\n",
    "    # create the LSTM network\n",
    "    model = Sequential()\n",
    "#     model.add(LSTM(rank, input_shape = (lag_len, rank), return_sequences = True)) # If you need multi-layer LSTM\n",
    "    model.add(LSTM(rank, input_shape = (lag_len, rank)))\n",
    "    model.add(Dense(rank))\n",
    "    model.compile(loss='mean_squared_error', optimizer='adam')\n",
    "    return model"
   ]
  },
  {
   "cell_type": "markdown",
   "metadata": {},
   "source": [
    "## Error calculator\n",
    "<div class=\"alert alert-block alert-warning\">\n",
    "<ul>\n",
    "<li><b><code>mean_absolute_percentage_error</code>:</b> <font color=\"black\">Compute the value of Mean Absolute Percentage Error (MAPE).</font></li>\n",
    "<li><b><code>root_mean_squared_error</code>:</b> <font color=\"black\">Compute the value of Root Mean Square Error (RMSE).</font></li>\n",
    "</ul>\n",
    "</div>\n",
    "\n",
    "> Note that $$\\mathrm{MAPE}=\\frac{1}{n} \\sum_{i=1}^{n} \\frac{\\left|y_{i}-\\hat{y}_{i}\\right|}{y_{i}} \\times 100, \\quad\\mathrm{RMSE}=\\sqrt{\\frac{1}{n} \\sum_{i=1}^{n}\\left(y_{i}-{y}'_{i}\\right)^{2}},$$ where $n$ is the total number of estimated values, and $y_i$ and ${y}'_i$ are the actual value and its estimation, respectively."
   ]
  },
  {
   "cell_type": "code",
   "execution_count": 11,
   "metadata": {},
   "outputs": [],
   "source": [
    "def mean_absolute_percentage_error(y_true, y_pred, pos): \n",
    "    return np.mean(np.abs((y_true[pos] - y_pred[pos]) / y_true[pos])) * 100\n",
    "def root_mean_squared_error(y_true, y_pred, pos): \n",
    "    return np.sqrt(np.mean(np.square(y_true[pos] - y_pred[pos])))"
   ]
  },
  {
   "cell_type": "markdown",
   "metadata": {},
   "source": [
    "### LSTM-ReMF training algorithm\n",
    "\n",
    "The function **LSTM_ReMF** is used to train spatial temporal feature matrices and LSTM network parameters.\n",
    "\n",
    "- `sparse_mat` is the training set spatial temporal matrix.\n",
    "- `init` is the initiated hyperparameters of LSTM-ReMF which includes the initiated spatial matrix `W` and the initiated temporal matrix `X`.\n",
    "- `time_lags` stands for the leg set which denotes the temporal correlation topology.\n",
    "- `lambda_w`, `lambda_x` and `eta` are regularizer parameters. \n",
    "- `sampling rate` is the ratio of data used to train the LSTM-full connection network.\n",
    "- `maxiter` is the maxiter time.\n",
    "- `track` is a 0 or 1 parameter that indicates whether to compute errors while training.\n",
    "- `dense_mat` is the training ground truth without data missing simulation. It is only required when `track` variable is 1."
   ]
  },
  {
   "cell_type": "code",
   "execution_count": 12,
   "metadata": {},
   "outputs": [],
   "source": [
    "def LSTM_ReMF(sparse_mat, init, time_lags, lambda_w, lambda_x, eta, sampling_rate, maxiter, track, dense_mat = 0):\n",
    "    W = init[\"W\"]\n",
    "    X = init[\"X\"]\n",
    "    dim1, dim2 = sparse_mat.shape\n",
    "    binary_mat = np.zeros((dim1,dim2))\n",
    "    position = np.where((sparse_mat != 0))\n",
    "    binary_mat[position] = 1\n",
    "    d = len(time_lags)\n",
    "    max_lags = np.max(time_lags)\n",
    "    r = X.shape[1]\n",
    "    model = lstmmodel(r, d)\n",
    "    model_reverse = lstmmodel(r, d)\n",
    "    start_time = time.time()\n",
    "    if track:\n",
    "        pos_err = np.where((sparse_mat == 0) & (dense_mat != 0))\n",
    "    for iters in range(maxiter):\n",
    "        for i in range(dim1):\n",
    "            pos0 = np.where(sparse_mat[i, :] != 0)\n",
    "            Xt = X[pos0[0], :]\n",
    "            vec0 = np.matmul(Xt.T, sparse_mat[i, pos0[0]])\n",
    "            mat0 = inv(np.matmul(Xt.T, Xt) + lambda_w * eta * np.eye(rank))\n",
    "            W[i, :] = np.matmul(mat0, vec0) \n",
    "        for t in range(dim2):\n",
    "            pos0 = np.where(sparse_mat[:, t] != 0)\n",
    "            Wt = W[pos0[0], :]\n",
    "            if iters == 0 or t < max_lags:\n",
    "                X[t, :] = np.matmul(inv(np.matmul(Wt.T, Wt) + lambda_x * eta * np.eye(r)), np.matmul(Wt.T, sparse_mat[pos0[0], t]))\n",
    "            else:\n",
    "                X_hat = X[t - time_lags, :][::-1]\n",
    "                X_hat_feed = X_hat[np.newaxis, :, :]\n",
    "                Qt =  model.predict(X_hat_feed)[0]\n",
    "                X[t, :] = np.matmul(inv(np.matmul(Wt.T, Wt)\n",
    "                                           + lambda_x * np.eye(r) + lambda_x * eta * np.eye(r)),\n",
    "                                       (np.matmul(Wt.T, sparse_mat[pos0[0], t]) + lambda_x * Qt))\n",
    "\n",
    "        \n",
    "        if iters == 0:\n",
    "            lstmX, lstmY = create_lstm_samples(X, time_lags, 1)\n",
    "            model.fit(lstmX, lstmY, epochs=20, batch_size=50, verbose=0)\n",
    "        else:\n",
    "            lstmX, lstmY = create_lstm_samples(X, time_lags, sampling_rate)\n",
    "            model.fit(lstmX, lstmY, epochs=1, batch_size=200, verbose=0)\n",
    "        if (iters + 1) % 10 == 0:\n",
    "            print('Iterations: %d, time cost: %ds'%((iters + 1), (time.time() - start_time)))\n",
    "            start_time = time.time()\n",
    "            if track:\n",
    "                mat_hat = np.matmul(W, X.T)\n",
    "                mat_hat[position] = sparse_mat[position]\n",
    "                mat_hat[mat_hat < 0] = 0\n",
    "                rmse = root_mean_squared_error(dense_mat, mat_hat, pos_err)\n",
    "                mape = mean_absolute_percentage_error(dense_mat, mat_hat, pos_err)\n",
    "                print('Imputation RMSE = %.2f'%rmse)\n",
    "                print('Imputation MAPE = %.2f'%mape)\n",
    "            print()\n",
    "#     model.save('model_save\\lstm_trained1.h5')\n",
    "    mat_hat = np.matmul(W, X.T)\n",
    "    mat_hat[position] = sparse_mat[position]\n",
    "    mat_hat[mat_hat < 0] = 0\n",
    "    return mat_hat, W, X, model"
   ]
  },
  {
   "cell_type": "markdown",
   "metadata": {},
   "source": [
    "### Training process"
   ]
  },
  {
   "cell_type": "code",
   "execution_count": 13,
   "metadata": {},
   "outputs": [
    {
     "name": "stderr",
     "output_type": "stream",
     "text": [
      "WARNING: Logging before flag parsing goes to stderr.\n",
      "W0726 12:26:27.102354 20164 deprecation_wrapper.py:119] From C:\\Users\\lenovo\\Anaconda3\\lib\\site-packages\\keras\\backend\\tensorflow_backend.py:422: The name tf.global_variables is deprecated. Please use tf.compat.v1.global_variables instead.\n",
      "\n"
     ]
    },
    {
     "name": "stdout",
     "output_type": "stream",
     "text": [
      "Iterations: 10, time cost: 207s\n",
      "Imputation RMSE = 7.94\n",
      "Imputation MAPE = 23.80\n",
      "\n",
      "Iterations: 20, time cost: 199s\n",
      "Imputation RMSE = 7.08\n",
      "Imputation MAPE = 21.40\n",
      "\n",
      "Iterations: 30, time cost: 206s\n",
      "Imputation RMSE = 6.77\n",
      "Imputation MAPE = 20.44\n",
      "\n",
      "Iterations: 40, time cost: 212s\n",
      "Imputation RMSE = 6.60\n",
      "Imputation MAPE = 19.83\n",
      "\n",
      "Iterations: 50, time cost: 208s\n",
      "Imputation RMSE = 6.47\n",
      "Imputation MAPE = 19.38\n",
      "\n",
      "Iterations: 60, time cost: 206s\n",
      "Imputation RMSE = 6.39\n",
      "Imputation MAPE = 19.09\n",
      "\n",
      "Iterations: 70, time cost: 203s\n",
      "Imputation RMSE = 6.33\n",
      "Imputation MAPE = 18.87\n",
      "\n",
      "Iterations: 80, time cost: 204s\n",
      "Imputation RMSE = 6.27\n",
      "Imputation MAPE = 18.60\n",
      "\n",
      "Iterations: 90, time cost: 206s\n",
      "Imputation RMSE = 6.22\n",
      "Imputation MAPE = 18.41\n",
      "\n",
      "Iterations: 100, time cost: 202s\n",
      "Imputation RMSE = 6.19\n",
      "Imputation MAPE = 18.31\n",
      "\n",
      "Iterations: 110, time cost: 210s\n",
      "Imputation RMSE = 6.16\n",
      "Imputation MAPE = 18.17\n",
      "\n",
      "Iterations: 120, time cost: 197s\n",
      "Imputation RMSE = 6.14\n",
      "Imputation MAPE = 17.96\n",
      "\n",
      "Iterations: 130, time cost: 194s\n",
      "Imputation RMSE = 6.12\n",
      "Imputation MAPE = 18.03\n",
      "\n",
      "Iterations: 140, time cost: 224s\n",
      "Imputation RMSE = 6.10\n",
      "Imputation MAPE = 17.85\n",
      "\n",
      "Iterations: 150, time cost: 205s\n",
      "Imputation RMSE = 6.09\n",
      "Imputation MAPE = 17.84\n",
      "\n",
      "Iterations: 160, time cost: 213s\n",
      "Imputation RMSE = 6.08\n",
      "Imputation MAPE = 17.75\n",
      "\n",
      "Iterations: 170, time cost: 202s\n",
      "Imputation RMSE = 6.06\n",
      "Imputation MAPE = 17.68\n",
      "\n",
      "Iterations: 180, time cost: 196s\n",
      "Imputation RMSE = 6.08\n",
      "Imputation MAPE = 17.77\n",
      "\n",
      "Iterations: 190, time cost: 199s\n",
      "Imputation RMSE = 6.07\n",
      "Imputation MAPE = 17.70\n",
      "\n",
      "Iterations: 200, time cost: 201s\n",
      "Imputation RMSE = 6.08\n",
      "Imputation MAPE = 17.66\n",
      "\n"
     ]
    }
   ],
   "source": [
    "rank = 60\n",
    "maxiter = 200\n",
    "lambda_w = 50\n",
    "lambda_x = 50\n",
    "eta = 0.2\n",
    "sampling_rate = 1.0\n",
    "# time_lags = np.array([1, 2, 24])\n",
    "time_lags = np.arange(1, 25, 1)\n",
    "track = True\n",
    "dim1, dim2 = training_set.shape\n",
    "init = {\"W\": 0.1 * np.random.rand(dim1, rank), \"X\": 0.1 * np.random.rand(dim2, rank)}\n",
    "mat_hat, W, X, model = LSTM_ReMF(training_set, init, time_lags, \n",
    "                   lambda_w, lambda_x, eta, sampling_rate, maxiter, track, training_ground_truth)"
   ]
  },
  {
   "cell_type": "markdown",
   "metadata": {},
   "source": [
    "## Online prediction and imputation with Online LSTM-ReMF\n",
    "In the context of spatiotemporal data online prediction and imputation, LSTM-ReMF takes current observations $\\boldsymbol{y}_{t}$ to update the previously predicted temporal feature vector $\\boldsymbol{x}'_t$ and impute possible missing entries in real time observation $\\boldsymbol{y}_{t}$. Then, LSTM-ReMF use history temporal feature vectors $\\boldsymbol{x}_{t +1 - l}, l\\in \\mathcal{L}$ to make forecast of future temporal feature vecotr $x_{t+1}$. Finally, forecasted temporal feature vector $\\boldsymbol{x}_{t+1}$ will be multiplied by spatial embedding $\\boldsymbol{W}$ to calculate future data.\n",
    "\n",
    "Utilize pre-trained spatial feature matrix **W** of size [72, r], pre-trained LSTM coefficients **var(f)**, prestep temporal feature matrix **X0** of size [max(time_lags), r] and observations(may be incomplete) to make predictions of the next time step.\n",
    "\n",
    "### 1. Current temporal embedding $x_t$ calibration\n",
    "At time slot $t$, the newly observed data $\\boldsymbol{y}_{t}$ comes in, online LSTM-ReMF framework calibrates the previously predicted temporal feature vector $\\boldsymbol{x}'_t$. The calibrated temporal feature vector $x_t$ can be derived from the following optimization problem:\n",
    "$$\n",
    "\\min_{\\boldsymbol{x}_{t}} \\frac{1}{2}\\sum_{i \\in\\Omega_{t}}\\left(y_{i, t}-\\boldsymbol{w}_{i}^\\top \\boldsymbol{x}_{t}\\right)^2+\\frac{\\lambda_{x}}{2}\\left(\\boldsymbol{x}_{t}-\\boldsymbol{x}'_{t}\\right)^\\top\\left(\\boldsymbol{x}_{t}-\\boldsymbol{x}'_{t}\\right)+\\frac{\\lambda_{x} \\eta}{2}\\boldsymbol{x}_{t}^T \\boldsymbol{x}_{t}\n",
    "$$\n",
    "where $\\Omega_{t}$ denotes the observed entries in the real time observation $\\boldsymbol{y}_{t}$.\n",
    "\n",
    "This optimizatoin problem can be solved by least square method, the uodating formulation for temporal embeddding $x_t$ can be derived as follows:\n",
    "$$\n",
    "\\boldsymbol{x}_t = \\biggl(\\sum_{i\\in\\Omega_t}\\boldsymbol{w}_i \\boldsymbol{w}_i^\\top + \\lambda_x I+\\lambda_x\\eta I \\biggr)^{-1}\\biggl(\\sum_{i\\in\\Omega_t}y_{i,t}\\boldsymbol{w}_i + \\lambda_x \\boldsymbol{x}'_t \\biggr)\n",
    "$$\n",
    "\n",
    "### 2. Missing data imputation in current observation $\\boldsymbol{y}_{t}$\n",
    "With calibrated temporal feature vector $\\boldsymbol{x}_{t}$ and the pre-trained spatial feature matrix $\\boldsymbol{W}$, we can make imputation of the current observation by:\n",
    "$$\n",
    "\\hat{\\boldsymbol{y}} = \\boldsymbol{W}^\\top \\boldsymbol{x}_{t}\n",
    "$$\n",
    "\n",
    "### 3. Future temporal embedding $\\boldsymbol{x}_{t+1}$ prediction\n",
    "Making forecast of future temporal feature vector $\\boldsymbol{x}_{t+1}$.\n",
    "$$\n",
    "\\boldsymbol{x}'_{t + 1} = f(\\boldsymbol{x}_{t + 1 - l_1},\\boldsymbol{x}_{t + 1 - l_2},...,\\boldsymbol{x}_{t + 1 -l_d})\n",
    "$$\n",
    "\n",
    "### 4. Future data predction\n",
    "With dynamically calculated temporal feature vector $\\boldsymbol{x}_{t+1}$ and the pre-trained spatial feature matrix $\\boldsymbol{W}$, we can make prediction of the spatial temporal data of the next time slots as follows:\n",
    "$$\n",
    "\\boldsymbol{y}'_{(t+1)} = \\boldsymbol{W}^\\top \\boldsymbol{x}'_{t+1}\n",
    "$$\n"
   ]
  },
  {
   "cell_type": "markdown",
   "metadata": {},
   "source": [
    "### Online temporal embedding calibration algorithm"
   ]
  },
  {
   "cell_type": "code",
   "execution_count": 14,
   "metadata": {},
   "outputs": [],
   "source": [
    "def OnlineTRMF(sparse_vec, init, lambda_x, time_lags):\n",
    "    time_lags = time_lags[::-1]\n",
    "    W = init[\"W\"]\n",
    "    X = init[\"X\"]\n",
    "    model = init[\"model\"]\n",
    "    dim = sparse_vec.shape[0]\n",
    "    t, rank = X.shape\n",
    "    X_hat = X[t - 1 - time_lags, :].copy()\n",
    "    X_hat_feed = X_hat[np.newaxis, :, :]\n",
    "    Qt =  model.predict(X_hat_feed)[0]\n",
    "    pos0 = np.where(sparse_vec != 0)\n",
    "    Wt = W[pos0[0], :]\n",
    "    var_mu = np.matmul(Wt.T, sparse_vec[pos0]) + lambda_x * 20000 * Qt\n",
    "    inv_var_Lambda = inv(np.matmul(Wt.T, Wt) + lambda_x * 20000 * np.eye(rank))\n",
    "    return np.matmul(inv_var_Lambda, var_mu)"
   ]
  },
  {
   "cell_type": "markdown",
   "metadata": {},
   "source": [
    "### Online prediction framework"
   ]
  },
  {
   "cell_type": "code",
   "execution_count": 15,
   "metadata": {},
   "outputs": [],
   "source": [
    "def online_prediction(sparse_mat, init, time_lags, lambda_w, lambda_x, eta, maxiter):\n",
    "    W = init[\"W\"]\n",
    "    X = init[\"X\"]\n",
    "    model = init[\"model\"]\n",
    "    pre_step_num = X.shape[0]\n",
    "    rank = X.shape[1]\n",
    "    dim1, dim2 = sparse_mat.shape\n",
    "    X_hat = np.zeros((dim2 + pre_step_num, rank))\n",
    "    mat_pred = np.zeros((dim1, dim2))\n",
    "    X_hat[:pre_step_num,:] = X.copy()\n",
    "    start_time = time.time()\n",
    "    for t in range(dim2):\n",
    "        if t == 0:\n",
    "            X_star = X_hat[pre_step_num + t - time_lags, :][::-1]\n",
    "            X_star_feed = X_star[np.newaxis, :, :]\n",
    "            Qt =  model.predict(X_star_feed)[0]\n",
    "            X_hat[pre_step_num + t, :] = Qt.copy()\n",
    "        else:\n",
    "            sparse_vec = sparse_mat[:, t - 1]\n",
    "            if np.where(sparse_vec > 0)[0].shape[0] > 0:\n",
    "                init = {\"W\": W, \"X\": X_hat[pre_step_num + t - np.max(time_lags) - 1 : pre_step_num + t, :],\n",
    "                        \"model\": model}\n",
    "                X_c = OnlineTRMF(sparse_vec, init, lambda_x/dim2, time_lags)\n",
    "                X_hat[pre_step_num + t - 1, :] = X_c.copy()\n",
    "                X_star = X_hat[pre_step_num + t - time_lags, :][::-1]\n",
    "                X_star_feed = X_star[np.newaxis, :, :]\n",
    "                Qt =  model.predict(X_star_feed)[0]\n",
    "                X_hat[pre_step_num + t, :] = Qt.copy()\n",
    "            else:\n",
    "                X_star = X_hat[pre_step_num + t - time_lags, :][::-1]\n",
    "                X_star_feed = X_star[np.newaxis, :, :]\n",
    "                Qt =  model.predict(X_star_feed)[0]\n",
    "                X_hat[pre_step_num + t, :] = Qt.copy()\n",
    "        mat_pred[:, t] = np.matmul(W, X_hat[pre_step_num + t, :])\n",
    "        if (t + 1) % 1000 == 0:\n",
    "            print('Time step: %d, time cost: %d s'%((t + 1), (time.time() - start_time)))\n",
    "            start_time = time.time()\n",
    "            \n",
    "    sparse_vec = sparse_mat[:, -1]\n",
    "    init = {\"W\": W, \"X\": X_hat[dim2 + pre_step_num - np.max(time_lags) - 1 : , :], \"model\": model}\n",
    "    X_c = OnlineTRMF(sparse_vec, init, lambda_x/dim2, time_lags)\n",
    "    X_hat[dim2 + pre_step_num - 1,:] = X_c.copy()\n",
    "    mat_rec = np.matmul(W, X_hat[pre_step_num : , :].T)\n",
    "    return mat_rec, mat_pred"
   ]
  },
  {
   "cell_type": "markdown",
   "metadata": {},
   "source": [
    "### Making prediction on test set"
   ]
  },
  {
   "cell_type": "code",
   "execution_count": 16,
   "metadata": {},
   "outputs": [
    {
     "name": "stdout",
     "output_type": "stream",
     "text": [
      "Shape of imputed data is:\n",
      "(72, 820)\n",
      "\n",
      "Shape of predicted data is:\n",
      "(72, 820)\n"
     ]
    }
   ],
   "source": [
    "import time\n",
    "start_time = time.time()\n",
    "init = {\"W\": W, \"X\": X[- np.max(time_lags): , :], \"model\": model}\n",
    "test_mat_rec, test_mat_pred = online_prediction(test_set, init, time_lags\n",
    "                                     , lambda_w, lambda_x, eta, maxiter)\n",
    "print('Shape of imputed data is:')\n",
    "print(test_mat_rec.shape)\n",
    "print()\n",
    "print('Shape of predicted data is:')\n",
    "print(test_mat_pred.shape)"
   ]
  },
  {
   "cell_type": "code",
   "execution_count": 17,
   "metadata": {},
   "outputs": [
    {
     "name": "stdout",
     "output_type": "stream",
     "text": [
      "10 first real value on test set\n",
      "[26.63396653 24.24017627 24.82295617 22.6407249  22.91886624 25.81746045\n",
      " 25.29435579 26.72869787 30.77082054 32.21177487]\n",
      "\n",
      "10 first prediciton on test set:\n",
      "[26. 26. 28. 30. 27. 28. 30. 29. 28. 33.]\n"
     ]
    }
   ],
   "source": [
    "print('10 first prediciton on test set:')\n",
    "print(test_mat_pred[0,:10])\n",
    "print()\n",
    "print('10 first real value on test set')\n",
    "print(test_ground_truth[0,:10])"
   ]
  },
  {
   "cell_type": "markdown",
   "metadata": {},
   "source": [
    "### Calculate the prediction and imputation error\n",
    "RMSE(root mean squared error) and MAPE(mean absolute percentage error) for both prediction and imputation on test set are calculated in the following code:"
   ]
  },
  {
   "cell_type": "markdown",
   "metadata": {},
   "source": [
    "### Prediction error"
   ]
  },
  {
   "cell_type": "code",
   "execution_count": 19,
   "metadata": {},
   "outputs": [
    {
     "name": "stdout",
     "output_type": "stream",
     "text": [
      "Test prediction RMSE: 7.17 RMSE\n",
      "Test prediction MAPE: 23.00% MAPE\n"
     ]
    }
   ],
   "source": [
    "# calculate prediction error on training set\n",
    "# trainPred_rmse = root_mean_squared_error(training_ground_truth[:, np.max(time_lags):], train_mat_pred)\n",
    "# print('Train prediction RMSE: %.2f RMSE' % (trainPred_rmse))\n",
    "# trainPred_mape = mean_absolute_percentage_error(training_ground_truth[:, np.max(time_lags):], train_mat_pred)\n",
    "# print('Train prediction MAPE: %.2f%% MAPE' % (trainPred_mape))\n",
    "# calculate prediction error on test set\n",
    "pos = np.where(test_ground_truth != 0)\n",
    "testPred_rmse = root_mean_squared_error(test_ground_truth, test_mat_pred, pos)\n",
    "print('Test prediction RMSE: %.2f RMSE' % (testPred_rmse))\n",
    "testPred_mape = mean_absolute_percentage_error(test_ground_truth, test_mat_pred, pos)\n",
    "print('Test prediction MAPE: %.2f%% MAPE' % (testPred_mape))"
   ]
  },
  {
   "cell_type": "markdown",
   "metadata": {},
   "source": [
    "### Imputation error"
   ]
  },
  {
   "cell_type": "code",
   "execution_count": 20,
   "metadata": {},
   "outputs": [
    {
     "name": "stdout",
     "output_type": "stream",
     "text": [
      "Test prediction RMSE: 6.33 RMSE\n",
      "Test prediction MAPE: 21.00% MAPE\n"
     ]
    }
   ],
   "source": [
    "pos = np.where((test_ground_truth != 0)&(test_set == 0))\n",
    "testPred_rmse = root_mean_squared_error(test_ground_truth, test_mat_rec, pos)\n",
    "print('Test prediction RMSE: %.2f RMSE' % (testPred_rmse))\n",
    "testPred_mape = mean_absolute_percentage_error(test_ground_truth, test_mat_rec, pos)\n",
    "print('Test prediction MAPE: %.2f%% MAPE' % (testPred_mape))"
   ]
  },
  {
   "cell_type": "code",
   "execution_count": 27,
   "metadata": {},
   "outputs": [],
   "source": [
    "np.save('Shanghai_0.4_PM_pred_lstmremf.npy', test_mat_pred)\n",
    "np.save('Shanghai_0.4_PM_rec_lstmremf.npy', test_mat_rec)"
   ]
  },
  {
   "cell_type": "markdown",
   "metadata": {},
   "source": [
    "### Plot prediction results and groud truth"
   ]
  },
  {
   "cell_type": "code",
   "execution_count": 28,
   "metadata": {},
   "outputs": [
    {
     "data": {
      "image/png": "[encoded data removed]",
      "text/plain": [
       "<Figure size 1200x360 with 1 Axes>"
      ]
     },
     "metadata": {},
     "output_type": "display_data"
    }
   ],
   "source": [
    "import matplotlib.pyplot as plt\n",
    "import matplotlib.patches as patches\n",
    "\n",
    "fig = plt.figure(figsize = (15, 4.5))\n",
    "plt.style.use('classic')\n",
    "plt.rcParams['font.family'] = 'Arial'\n",
    "ax = fig.add_axes([0.18, 0.20, 0.85, 0.75])\n",
    "# ax = fig.add_axes([0, 0, 1, 1])\n",
    "ax.set_facecolor('white')\n",
    "# ax.set_facecolor((1.0, 0.47, 0.42))\n",
    "pollutant = 5 #66#163#35#67\n",
    "start_time = 100 #3312\n",
    "end_time = 820 #3528\n",
    "array = test_ground_truth[pollutant, start_time:end_time]\n",
    "nonzero = [[]]\n",
    "pos = np.where(array != 0)\n",
    "seg = 0\n",
    "for i in range(len(pos[0])):\n",
    "    if (i == len(pos[0]) - 1) or (pos[0][i + 1] == pos[0][i] + 1): # continuous\n",
    "        nonzero[seg].append(pos[0][i])\n",
    "    if (i != len(pos[0]) - 1) and (pos[0][i + 1] != pos[0][i] + 1): # dis continuous\n",
    "        nonzero[seg].append(pos[0][i])\n",
    "        nonzero.append([])\n",
    "        seg += 1\n",
    "\n",
    "Scatter_point = []\n",
    "continuous_seg = []\n",
    "for i in range(len(nonzero)):\n",
    "    if len(nonzero[i]) == 1:\n",
    "        Scatter_point.append(nonzero[i][0])\n",
    "    else:\n",
    "        continuous_seg.append(nonzero[i])\n",
    "\n",
    "for i in range(len(continuous_seg)):\n",
    "    plt.plot(continuous_seg[i], array[continuous_seg[i]], label = 'concentration', marker='', markerfacecolor='b', markersize=8, color='blue', linewidth=1)\n",
    "# plt.plot(array[pos], label = 'concentration', marker='', markerfacecolor='blue', markersize=8, color='red', linewidth=2)\n",
    "\n",
    "# plt.scatter(Scatter_point, array[Scatter_point], facecolors='none', edgecolors='b', s=3)\n",
    "# plt.plot(test_ground_truth[pollutant, start_time:end_time], label = 'Ground Truth', marker='', markerfacecolor='blue', markersize=8, color='blue', linewidth=1)\n",
    "array_ground_truth = test_ground_truth[pollutant, start_time:end_time]\n",
    "pos = np.where(array_ground_truth == 0)\n",
    "zero = [[]]\n",
    "seg = 0\n",
    "for i in range(len(pos[0])):\n",
    "    if (i == len(pos[0]) - 1) or (pos[0][i + 1] == pos[0][i] + 1):\n",
    "        zero[seg].append(pos[0][i])\n",
    "    if (i != len(pos[0]) - 1) and (pos[0][i + 1] != pos[0][i] + 1):\n",
    "        zero[seg].append(pos[0][i])\n",
    "        zero.append([])\n",
    "        seg += 1\n",
    "\n",
    "RM = []\n",
    "NM = []\n",
    "for i in range(len(zero)):\n",
    "    if len(zero[i]) == 1:\n",
    "        RM.append(zero[i][0])\n",
    "    else:\n",
    "        NM.append(zero[i])\n",
    "\n",
    "\n",
    "# plt.yticks(np.arange(0, 150, 40), [0, 40, 80, 120])\n",
    "# plt.xticks(np.arange(0, 230, 10))#, [0, 50, 100, 150, 200, 250])\n",
    "plt.ylim(0, 200)\n",
    "plt.xlim(0, 720)\n",
    "ax.set_ylabel(\"Concentration $\\mu$g/m$^3$\", fontsize=18)\n",
    "ax.set_xlabel(\"Time\", fontsize=18)\n",
    "# ax.set_title(\"Speed prediction for sensor No.%d\"%(pollutant))\n",
    "# ax.grid(color = 'gray', linestyle = '-', linewidth = 0.4, alpha = 0.5, axis = 'x')\n",
    "# plt.scatter(RM, array[np.array(RM)], facecolors='none', edgecolors='y', s=30)\n",
    "array_sparse = test_set[pollutant, start_time:end_time]\n",
    "pos = np.where((array_sparse == 0) & (array_ground_truth != 0))\n",
    "# print(pos[0])\n",
    "\n",
    "plt.scatter(pos, array_ground_truth[pos], facecolors='none', edgecolors='y', s=70, linewidth=1.5)\n",
    "# for i in range(len(pos[0])):\n",
    "# #     print(pos[i])\n",
    "#     plt.axvline(x = pos[0][i], ymin = 0, ymax = 200, label='pyplot vertical line', color = 'yellow', linewidth = 0.4)\n",
    "\n",
    "plt.plot(test_mat_pred[pollutant, start_time : end_time], label = 'Predicted', marker='', markerfacecolor='blue', markersize=8, color='red', linewidth=1)\n",
    "\n",
    "for i in range(len(NM)):\n",
    "    ax.add_patch(patches.Rectangle((NM[i][0] - 1, 0), NM[i][-1] - NM[i][0] + 1, 200, alpha = 0.1, facecolor = 'yellow'))\n",
    "plt.xticks(np.arange(0, 720, 168), [\"2019.Sep.19\",  \"2019.Sep.26\", \n",
    "                                        \"2019.Oct.3\", \"2019.Oct.10\", \n",
    "                                   \"2019.Oct.17\"], fontsize=18)\n",
    "# plt.legend(loc = 'best')\n",
    "file_n = 'prediction_shanghai_lstmremf_pm0.4' + '.png'\n",
    "plt.savefig(file_n, bbox_inches = 'tight')\n",
    "plt.show()"
   ]
  },
  {
   "cell_type": "markdown",
   "metadata": {},
   "source": [
    "# License\n",
    "\n",
    "<div class=\"alert alert-block alert-danger\">\n",
    "<b>This work is released under the MIT license.</b>\n",
    "</div>"
   ]
  }
 ],
 "metadata": {
  "kernelspec": {
   "display_name": "Python 3",
   "language": "python",
   "name": "python3"
  },
  "language_info": {
   "codemirror_mode": {
    "name": "ipython",
    "version": 3
   },
   "file_extension": ".py",
   "mimetype": "text/x-python",
   "name": "python",
   "nbconvert_exporter": "python",
   "pygments_lexer": "ipython3",
   "version": "3.7.3"
  },
  "nbTranslate": {
   "displayLangs": [
    "*"
   ],
   "hotkey": "alt-t",
   "langInMainMenu": true,
   "sourceLang": "en",
   "targetLang": "fr",
   "useGoogleTranslate": true
  }
 },
 "nbformat": 4,
 "nbformat_minor": 2
}
