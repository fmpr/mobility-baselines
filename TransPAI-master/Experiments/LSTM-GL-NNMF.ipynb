{
 "cells": [
  {
   "cell_type": "markdown",
   "metadata": {},
   "source": [
    "# LSTM regularized Neural Network Matrix Factorization\n",
    "> About the author: Jinming Yang, an undergraduate school student of Sun Yet-san University who focus on transpotation research and machine learning. \n",
    "\n",
    "### Data organization\n",
    "We consider a dataset of $m$ discrete time series $\\boldsymbol{y}_{i}\\in\\mathbb{R}^{f},i\\in\\left\\{1,2,...,m\\right\\}$. The time series may have missing elements. We express spatio-temporal dataset as a matrix $Y\\in\\mathbb{R}^{m\\times f}$ with $m$ rows (e.g., locations) and $f$ columns (e.g., discrete time intervals),\n",
    "\n",
    "$$Y=\\left[ \\begin{array}{cccc} y_{11} & y_{12} & \\cdots & y_{1f} \\\\ y_{21} & y_{22} & \\cdots & y_{2f} \\\\ \\vdots & \\vdots & \\ddots & \\vdots \\\\ y_{m1} & y_{m2} & \\cdots & y_{mf} \\\\ \\end{array} \\right]\\in\\mathbb{R}^{m\\times f}.$$\n",
    "\n",
    "### Matrix factorization\n",
    "The incomplete matrix $Y$ can be approximated by the product of to much smaller submatrices $\\boldsymbol{W}\\in\\mathbb{R}^{m\\times r}$ and $\\boldsymbol{X}\\in\\mathbb{R}^{f\\times r}$. $r$ is the rank of submatrices $\\boldsymbol{W}$ and $\\boldsymbol{X}$. The matrix facotrization(MF) process is as follows:\n",
    "$$\n",
    "Y \\approx \\boldsymbol{W}\\boldsymbol{X}^\\top\n",
    "$$"
   ]
  },
  {
   "cell_type": "code",
   "execution_count": 1,
   "metadata": {},
   "outputs": [],
   "source": [
    "import tensorflow as tf\n",
    "from tensorflow.keras import Model\n",
    "from tensorflow.keras import layers\n",
    "import numpy as np\n",
    "import time"
   ]
  },
  {
   "cell_type": "code",
   "execution_count": 2,
   "metadata": {},
   "outputs": [
    {
     "name": "stdout",
     "output_type": "stream",
     "text": [
      "Dataset shape:\n",
      "(207, 17568)\n",
      "(207, 17568)\n"
     ]
    }
   ],
   "source": [
    "directory = '../Datasets/Metr-LA-data-set/'\n",
    "\n",
    "missing_rate = 0.2\n",
    "\n",
    "A = np.load(directory + 'Metr_ADJ.npy')\n",
    "dense_mat = np.load( directory + 'Metr-LA.npy')\n",
    "\n",
    "print('Dataset shape:')\n",
    "print(dense_mat.shape)\n",
    "\n",
    "# =============================================================================\n",
    "### Random missing (RM) scenario\n",
    "### Set the RM scenario by:\n",
    "mode = 'PM'\n",
    "rm_random_mat = np.load(directory + 'rm_random_mat.npy')\n",
    "binary_mat = np.round(rm_random_mat + 0.5 - missing_rate)\n",
    "# =============================================================================\n",
    "# =============================================================================\n",
    "### Non-random missing (NM) scenario\n",
    "### Set the NM scenario by:\n",
    "# mode = 'CM'\n",
    "# nm_random_mat = np.load(directory + 'nm_random_mat.npy')\n",
    "# binary_tensor = np.zeros((dense_mat.shape[0], 61, 288))\n",
    "# for i1 in range(binary_tensor.shape[0]):\n",
    "#     for i2 in range(binary_tensor.shape[1]):\n",
    "#         binary_tensor[i1, i2, :] = np.round(nm_random_mat[i1, i2] + 0.5 - missing_rate)\n",
    "# binary_mat = binary_tensor.reshape([binary_tensor.shape[0], binary_tensor.shape[1] * binary_tensor.shape[2]])\n",
    "# =============================================================================\n",
    "\n",
    "sparse_mat = np.multiply(dense_mat, binary_mat)\n",
    "print(sparse_mat.shape)"
   ]
  },
  {
   "cell_type": "markdown",
   "metadata": {},
   "source": [
    "### Creating training set and test set"
   ]
  },
  {
   "cell_type": "code",
   "execution_count": 3,
   "metadata": {},
   "outputs": [
    {
     "name": "stdout",
     "output_type": "stream",
     "text": [
      "The size of training set is:\n",
      "(207, 11520)\n",
      "\n",
      "The size of test set is:\n",
      "(207, 6048)\n"
     ]
    }
   ],
   "source": [
    "# test_rate = 0.082\n",
    "\n",
    "test_len = 6048 #sparse_mat.shape[1] - train_len\n",
    "train_len = sparse_mat.shape[1] - test_len\n",
    "training_set = sparse_mat[:, :train_len]\n",
    "test_set = sparse_mat[:, train_len:]\n",
    "print('The size of training set is:')\n",
    "print(training_set.shape)\n",
    "print()\n",
    "print('The size of test set is:')\n",
    "print(test_set.shape)"
   ]
  },
  {
   "cell_type": "markdown",
   "metadata": {},
   "source": [
    "### Saving ground truth(real value)"
   ]
  },
  {
   "cell_type": "code",
   "execution_count": 4,
   "metadata": {},
   "outputs": [
    {
     "name": "stdout",
     "output_type": "stream",
     "text": [
      "The size of training set ground truth is:\n",
      "(207, 11520)\n",
      "\n",
      "The size of test set ground truth is:\n",
      "(207, 6048)\n"
     ]
    }
   ],
   "source": [
    "training_ground_truth = dense_mat[:, :train_len]\n",
    "test_ground_truth = dense_mat[:, train_len:]\n",
    "print('The size of training set ground truth is:')\n",
    "print(training_ground_truth.shape)\n",
    "print()\n",
    "print('The size of test set ground truth is:')\n",
    "print(test_ground_truth.shape)"
   ]
  },
  {
   "cell_type": "code",
   "execution_count": 5,
   "metadata": {},
   "outputs": [],
   "source": [
    "rank = 60\n",
    "time_lags = np.array([1, 2, 288])"
   ]
  },
  {
   "cell_type": "code",
   "execution_count": 52,
   "metadata": {},
   "outputs": [],
   "source": [
    "class LSTMNNMF(Model):\n",
    "    def __init__(self, training_set, ground_truth, A, rank, time_lags, lambda_w = 100, lambda_x = 100, eta = 0.02, latent_normal_init_params={'mean': 0.0, 'stddev': 0.1}):\n",
    "        super(LSTMNNMF, self).__init__()\n",
    "        self.rank = tf.constant(rank)\n",
    "        self.time_lags = tf.constant(time_lags[::-1])\n",
    "        self.lag_len = tf.constant(len(self.time_lags))\n",
    "        self.max_lag = tf.constant(np.max(time_lags))\n",
    "        self.train_pos_mask = (training_set != 0)\n",
    "        self.test_pos_mask = ((training_set == 0) & (ground_truth != 0))\n",
    "        self.lambda_w = lambda_w\n",
    "        self.lambda_x = lambda_x\n",
    "        self.eta = eta\n",
    "        self.adj = tf.constant(A, dtype=tf.float32)\n",
    "        \n",
    "        self.ground_truth_tf = tf.constant(ground_truth, dtype=tf.float32)\n",
    "        self.train_ground_truth_vec = tf.boolean_mask(self.ground_truth_tf, self.train_pos_mask)\n",
    "        self.test_ground_truth_vec = tf.boolean_mask(self.ground_truth_tf, self.test_pos_mask)\n",
    "        \n",
    "        self.latent_normal_init_params = latent_normal_init_params\n",
    "        self.num_sensors = training_ground_truth.shape[0]\n",
    "        self.num_times = training_ground_truth.shape[1]\n",
    "        \n",
    "        initializer = tf.compat.v1.truncated_normal_initializer(**self.latent_normal_init_params)\n",
    "        self.W_tf = tf.Variable(initializer(shape=[self.num_sensors, self.rank], dtype=tf.float32))\n",
    "        self.X_tf = tf.Variable(initializer(shape=[self.num_times, self.rank], dtype=tf.float32))\n",
    "\n",
    "        self.LSTM = layers.LSTM(self.rank, input_shape = (self.lag_len, self.rank), unroll=True)\n",
    "        self.Dense = layers.Dense(self.rank)\n",
    "\n",
    "\n",
    "    def call(self):\n",
    "        self.recovered_tensor = tf.matmul(self.W_tf, tf.transpose(self.X_tf))\n",
    "        return self.recovered_tensor\n",
    "\n",
    "    def LSTM_X_predict(self, X_sub):\n",
    "        lstm_out = self.LSTM(X_sub)\n",
    "        self.X_predicted = self.Dense(lstm_out)\n",
    "        return self.X_predicted\n",
    "    \n",
    "    def create_lstm_inputs(self):\n",
    "        lstm_inputs = tf.gather(self.X_tf, 0 + self.max_lag - self.time_lags, axis=0)\n",
    "        lstm_inputs = tf.expand_dims(lstm_inputs, axis=0)\n",
    "        data_len = self.X_tf.shape[0] - self.max_lag\n",
    "        for t in tf.range(1, data_len):\n",
    "            ipt = tf.gather(self.X_tf, t + self.max_lag - self.time_lags, axis=0)\n",
    "            ipt_exp = tf.expand_dims(ipt, axis=0)\n",
    "            e = tf.concat([lstm_inputs, ipt_exp], 0)\n",
    "        return lstm_inputs\n",
    "    \n",
    "    def loss_cal(self):\n",
    "        self.recovered_tensor = self.call()\n",
    "        train_recovered_vec = tf.boolean_mask(self.recovered_tensor, self.train_pos_mask)\n",
    "        train_residual_vec = train_recovered_vec - self.train_ground_truth_vec\n",
    "        train_residual_error = tf.math.square(tf.norm(train_residual_vec, ord='euclidean'))\n",
    "        W_F_norm = tf.math.square(tf.norm(self.W_tf, ord='fro', axis=(0,1))) * self.lambda_w * self.eta\n",
    "        X_F_norm = tf.math.square(tf.norm(self.X_tf, ord='fro', axis=(0,1))) * self.lambda_x * self.eta\n",
    "        \n",
    "        W_norm = tf.constant(0, dtype=tf.float32)\n",
    "        for i in tf.range(self.num_sensors):\n",
    "            for j in tf.range(i + 1, self.num_sensors):\n",
    "                if self.adj[i, j] == 1:\n",
    "                    W_norm = W_norm + tf.math.square(tf.norm(self.W_tf[i, :] - self.W_tf[j, :], ord='euclidean'))\n",
    "        W_norm = W_norm * self.lambda_w\n",
    "        \n",
    "        lstm_inputs = self.create_lstm_inputs()\n",
    "        self.X_predicted = self.LSTM_X_predict(lstm_inputs)\n",
    "\n",
    "        X_norm = tf.math.square(tf.norm(self.X_tf[self.max_lag:, :] - self.X_predicted, ord='fro', axis=(0,1))) * self.lambda_x\n",
    "        \n",
    "        self.loss_val = train_residual_error + W_F_norm  + X_F_norm + X_norm + W_norm\n",
    "        return self.loss_val, train_residual_error, W_F_norm, X_F_norm, X_norm\n",
    "    \n",
    "    def metrics_cal(self):\n",
    "        self.recovered_tensor = self.call()\n",
    "        test_recovered_vec = tf.boolean_mask(self.recovered_tensor, self.test_pos_mask)\n",
    "        self.mape = tf.keras.losses.MAPE(self.test_ground_truth_vec, test_recovered_vec)\n",
    "        self.rmse = tf.math.sqrt(tf.keras.losses.MSE(self.test_ground_truth_vec, test_recovered_vec))\n",
    "        return self.mape, self.rmse\n",
    "        \n",
    "# Create an instance of the model\n",
    "lambda_w = 100\n",
    "lambda_x = 100\n",
    "eta = 0.1 \n",
    "model = LSTMNNMF(training_set, training_ground_truth, A, rank, time_lags, lambda_w = lambda_w, lambda_x = lambda_x, eta = eta)"
   ]
  },
  {
   "cell_type": "markdown",
   "metadata": {},
   "source": [
    "### Choose an optimizer for training"
   ]
  },
  {
   "cell_type": "code",
   "execution_count": 54,
   "metadata": {},
   "outputs": [],
   "source": [
    "optimizer = tf.keras.optimizers.Adam(learning_rate=0.001)"
   ]
  },
  {
   "cell_type": "code",
   "execution_count": 55,
   "metadata": {},
   "outputs": [],
   "source": [
    "@tf.function\n",
    "def train_step():\n",
    "    with tf.GradientTape() as tape:\n",
    "        # training=True is only needed if there are layers with different\n",
    "        # behavior during training versus inference (e.g. Dropout).\n",
    "        loss = model.loss_cal()\n",
    "        gradients = tape.gradient(loss, model.trainable_variables)\n",
    "        optimizer.apply_gradients(zip(gradients, model.trainable_variables))\n",
    "    return loss"
   ]
  },
  {
   "cell_type": "code",
   "execution_count": 56,
   "metadata": {},
   "outputs": [
    {
     "data": {
      "application/vnd.jupyter.widget-view+json": {
       "model_id": "e8b3c819dcd543409d1e7a3b8ab25a8e",
       "version_major": 2,
       "version_minor": 0
      },
      "text/plain": [
       "IntProgress(value=0, max=500)"
      ]
     },
     "metadata": {},
     "output_type": "display_data"
    },
    {
     "name": "stdout",
     "output_type": "stream",
     "text": [
      "Epoch: 50, loss: 6109086720.00, time cost: 116.111125, test MAPE = 99.61, RMSE = 59.81\n",
      "Residual error: 6108453376.000000, W l2 norm: 1406.545654, X l2 norm: 68154.210938, X norm: 492108.687500\n",
      "\n",
      "Epoch: 100, loss: 5933977088.00, time cost: 114.029302, test MAPE = 97.87, RMSE = 58.93\n",
      "Residual error: 5933232128.000000, W l2 norm: 3319.341064, X l2 norm: 158737.796875, X norm: 510935.937500\n",
      "\n",
      "Epoch: 150, loss: 5601289728.00, time cost: 111.924831, test MAPE = 94.53, RMSE = 57.24\n",
      "Residual error: 5600333312.000000, W l2 norm: 6976.474609, X l2 norm: 340603.125000, X norm: 536971.312500\n",
      "\n",
      "Epoch: 200, loss: 5131868160.00, time cost: 107.957180, test MAPE = 89.69, RMSE = 54.77\n",
      "Residual error: 5130609664.000000, W l2 norm: 12302.296875, X l2 norm: 611134.625000, X norm: 562960.000000\n",
      "\n",
      "Epoch: 250, loss: 4559562752.00, time cost: 102.720486, test MAPE = 83.61, RMSE = 51.61\n",
      "Residual error: 4557921792.000000, W l2 norm: 19130.185547, X l2 norm: 962355.750000, X norm: 587634.250000\n",
      "\n",
      "Epoch: 300, loss: 3924359424.00, time cost: 100.335441, test MAPE = 76.69, RMSE = 47.86\n",
      "Residual error: 3922266368.000000, W l2 norm: 27243.417969, X l2 norm: 1383422.625000, X norm: 610622.875000\n",
      "\n",
      "Epoch: 350, loss: 3268226304.00, time cost: 102.648577, test MAPE = 69.37, RMSE = 43.65\n",
      "Residual error: 3265626368.000000, W l2 norm: 36381.011719, X l2 norm: 1861036.875000, X norm: 630436.875000\n",
      "\n",
      "Epoch: 400, loss: 2631167488.00, time cost: 93.609990, test MAPE = 62.13, RMSE = 39.15\n",
      "Residual error: 2628023296.000000, W l2 norm: 46240.589844, X l2 norm: 2379646.500000, X norm: 646193.250000\n",
      "\n",
      "Epoch: 450, loss: 2047424896.00, time cost: 104.082042, test MAPE = 55.30, RMSE = 34.51\n",
      "Residual error: 2043716352.000000, W l2 norm: 56483.929688, X l2 norm: 2921828.000000, X norm: 657637.312500\n",
      "\n",
      "Epoch: 500, loss: 1542222080.00, time cost: 96.773358, test MAPE = 49.05, RMSE = 29.93\n",
      "Residual error: 1537948544.000000, W l2 norm: 66748.445312, X l2 norm: 3468719.000000, X norm: 664606.375000\n",
      "\n"
     ]
    }
   ],
   "source": [
    "from ipywidgets import IntProgress\n",
    "from IPython.display import display\n",
    "\n",
    "EPOCHS = 500\n",
    "start_time = time.time()\n",
    "f = IntProgress(min = 0, max = EPOCHS) # instantiate the bar\n",
    "display(f) # display the bar\n",
    "rmse_list = []\n",
    "mape_list = []\n",
    "with tf.device('/CPU:0'):\n",
    "    for epoch in range(EPOCHS):\n",
    "        f.value = epoch\n",
    "        loss, train_residual_error, W_F_norm, X_F_norm, X_norm = train_step()\n",
    "        mape, rmse = model.metrics_cal()\n",
    "        rmse_list.append(rmse)\n",
    "        mape_list.append(mape)\n",
    "        if (epoch + 1) %50 == 0:\n",
    "            print('Epoch: %d, loss: %.2f, time cost: %f, test MAPE = %.2f, RMSE = %.2f'%((epoch+1, loss, time.time() - start_time, mape, rmse)))\n",
    "            print('Residual error: %f, W l2 norm: %f, X l2 norm: %f, X norm: %f'%(train_residual_error, W_F_norm, X_F_norm, X_norm))\n",
    "            print()\n",
    "            start_time = time.time()"
   ]
  },
  {
   "cell_type": "code",
   "execution_count": 57,
   "metadata": {},
   "outputs": [],
   "source": [
    "# np.save(directory + 'lstmgl_nnmf_rmse_list_0_001', rmse_list)\n",
    "# np.save(directory + 'lstmgl_nnmf_mape_list_0_001', mape_list)"
   ]
  },
  {
   "cell_type": "code",
   "execution_count": 20,
   "metadata": {},
   "outputs": [],
   "source": [
    "# np.save(directory + 'lstmgl_nnmf_rmse_list_0_01', rmse_list)\n",
    "# np.save(directory + 'lstmgl_nnmf_mape_list_0_01', mape_list)"
   ]
  },
  {
   "cell_type": "code",
   "execution_count": 33,
   "metadata": {},
   "outputs": [],
   "source": [
    "# np.save(directory + 'lstmgl_nnmf_rmse_list_0_1', rmse_list)\n",
    "# np.save(directory + 'lstmgl_nnmf_mape_list_0_1', mape_list)"
   ]
  },
  {
   "cell_type": "code",
   "execution_count": 3,
   "metadata": {},
   "outputs": [],
   "source": [
    "directory = 'E://Academic/Datasets/Metr-LA-data-set/'\n",
    "nnmf_0_001_rmse = np.load(directory + 'lstmgl_nnmf_rmse_list_0_001.npy')\n",
    "nnmf_0_01_rmse = np.load(directory + 'lstmgl_nnmf_rmse_list_0_01.npy')\n",
    "nnmf_0_1_rmse = np.load(directory + 'lstmgl_nnmf_rmse_list_0_1.npy')"
   ]
  },
  {
   "cell_type": "code",
   "execution_count": 4,
   "metadata": {},
   "outputs": [],
   "source": [
    "rmse_list_bgl = np.load(directory + 'lstm_gl_remf_metr_rmse_list_PM_0.2.npy')"
   ]
  },
  {
   "cell_type": "code",
   "execution_count": 24,
   "metadata": {},
   "outputs": [
    {
     "data": {
      "image/png": "[encoded data removed]",
      "text/plain": [
       "<Figure size 504x360 with 2 Axes>"
      ]
     },
     "metadata": {
      "needs_background": "light"
     },
     "output_type": "display_data"
    }
   ],
   "source": [
    "import numpy as np\n",
    "import matplotlib.pyplot as plt\n",
    "# import seaborn as sns\n",
    "import numpy as np\n",
    "import matplotlib.pyplot as plt\n",
    "import matplotlib as mpl\n",
    "# import seaborn as sns\n",
    "from pylab import cm\n",
    "import matplotlib.font_manager as fm\n",
    "# Rebuild the matplotlib font cache\n",
    "fm._rebuild\n",
    "\n",
    "# Generate 2 colors from the 'tab10' colormap\n",
    "colors = cm.get_cmap('flag', 10)\n",
    "mpl.rcParams['font.family'] = \"Times New Roman\"\n",
    "plt.rcParams['font.size'] = 14\n",
    "plt.rcParams['axes.linewidth'] = 1\n",
    "# sns.color_palette(\"hls\", 1)\n",
    "# sns.set()\n",
    "# plt.style.use('seaborn-whitegrid')\n",
    "x = np.arange(1, len(nnmf_0_1_rmse) + 1)\n",
    "fig = plt.figure(figsize = (7, 5))\n",
    "plt.ylim(0, 62)\n",
    "ax = fig.add_axes([0,0,1,1])\n",
    "\n",
    "ax.plot(x[:end], rmse_list_bgl[:end], color = colors(0), linewidth = 1, ls = 'solid', label = 'ALS+BP')\n",
    "ax.plot(x[:end], nnmf_0_001_rmse[:end], color = colors(1), linewidth = 1, ls = ':', label = 'BP, lr = 0.001')\n",
    "ax.plot(x[:end], nnmf_0_01_rmse[:end], color = colors(2), linewidth = 1, ls = '-.', label = 'BP, lr = 0.01')\n",
    "ax.plot(x[:end], nnmf_0_1_rmse[:end], color = colors(4), linewidth = 1, ls = '--', label = 'BP, lr = 0.1')\n",
    "plt.ylabel('Training RMSE')\n",
    "plt.xlabel('Epochs')\n",
    "\n",
    "ax.xaxis.set_tick_params(which='major', size=10, width=1, direction='in', top='on')\n",
    "ax.xaxis.set_tick_params(which='minor', size=7, width=1, direction='in', top='on')\n",
    "ax.yaxis.set_tick_params(which='major', size=10, width=1, direction='in', right='on')\n",
    "ax.yaxis.set_tick_params(which='minor', size=7, width=1, direction='in', right='on')\n",
    "\n",
    "ax.xaxis.set_major_locator(mpl.ticker.MultipleLocator(20))\n",
    "ax.xaxis.set_minor_locator(mpl.ticker.MultipleLocator(10))\n",
    "ax.yaxis.set_major_locator(mpl.ticker.MultipleLocator(10))\n",
    "ax.yaxis.set_minor_locator(mpl.ticker.MultipleLocator(5))\n",
    "\n",
    "# plt.grid(True)\n",
    "# ax.legend()\n",
    "ax.legend(fancybox=True, fontsize=14)\n",
    "file_n = 'convergence.pdf'\n",
    "plt.savefig(file_n, bbox_inches = 'tight')"
   ]
  },
  {
   "cell_type": "code",
   "execution_count": null,
   "metadata": {},
   "outputs": [],
   "source": []
  },
  {
   "cell_type": "code",
   "execution_count": 21,
   "metadata": {},
   "outputs": [],
   "source": [
    "W = model.W_tf.numpy()\n",
    "X = model.X_tf.numpy()"
   ]
  },
  {
   "cell_type": "markdown",
   "metadata": {},
   "source": [
    "### Online temporal embedding calibration algorithm"
   ]
  },
  {
   "cell_type": "code",
   "execution_count": 22,
   "metadata": {},
   "outputs": [],
   "source": [
    "from numpy.linalg import inv\n",
    "\n",
    "def OnlineLSTMReMF(sparse_vec, init, lambda_x, time_lags):\n",
    "    time_lags = time_lags[::-1]\n",
    "    W = init[\"W\"]\n",
    "    X = init[\"X\"]\n",
    "    model = init[\"model\"]\n",
    "    dim = sparse_vec.shape[0]\n",
    "    t, rank = X.shape\n",
    "    X_hat = X[t - 1 - time_lags, :].copy()\n",
    "    X_hat_feed = X_hat[np.newaxis, :, :]\n",
    "    Qt =  model.LSTM_X_predict(X_hat_feed)[0].numpy()\n",
    "    pos0 = np.where(sparse_vec != 0)\n",
    "    Wt = W[pos0[0], :]\n",
    "    var_mu = np.matmul(Wt.T, sparse_vec[pos0]) + lambda_x * Qt\n",
    "    inv_var_Lambda = inv(np.matmul(Wt.T, Wt) + lambda_x * np.eye(rank))\n",
    "    return np.matmul(inv_var_Lambda, var_mu)"
   ]
  },
  {
   "cell_type": "markdown",
   "metadata": {},
   "source": [
    "### Online prediction framework"
   ]
  },
  {
   "cell_type": "code",
   "execution_count": 23,
   "metadata": {},
   "outputs": [],
   "source": [
    "def online_prediction(sparse_mat, init, time_lags, lambda_w, lambda_x, eta, maxiter):\n",
    "    W = init[\"W\"]\n",
    "    X = init[\"X\"]\n",
    "    model = init[\"model\"]\n",
    "    pre_step_num = X.shape[0]\n",
    "    rank = X.shape[1]\n",
    "    dim1, dim2 = sparse_mat.shape\n",
    "    X_hat = np.zeros((dim2 + pre_step_num, rank))\n",
    "    mat_pred = np.zeros((dim1, dim2))\n",
    "    X_hat[:pre_step_num,:] = X.copy()\n",
    "    start_time = time.time()\n",
    "    for t in range(dim2):\n",
    "        if t == 0:\n",
    "            X_star = X_hat[pre_step_num + t - time_lags, :][::-1]\n",
    "            X_star_feed = X_star[np.newaxis, :, :]\n",
    "            Qt =  model.LSTM_X_predict(X_star_feed)[0].numpy()\n",
    "            X_hat[pre_step_num + t, :] = Qt.copy()\n",
    "        else:\n",
    "            sparse_vec = sparse_mat[:, t - 1]\n",
    "            if np.where(sparse_vec > 0)[0].shape[0] > 0:\n",
    "                init = {\"W\": W, \"X\": X_hat[pre_step_num + t - np.max(time_lags) - 1 : pre_step_num + t, :],\n",
    "                        \"model\": model}\n",
    "                X_c = OnlineLSTMReMF(sparse_vec, init, lambda_x/dim2, time_lags)\n",
    "                X_hat[pre_step_num + t - 1, :] = X_c.copy()\n",
    "                X_star = X_hat[pre_step_num + t - time_lags, :][::-1]\n",
    "                X_star_feed = X_star[np.newaxis, :, :]\n",
    "                Qt =  model.LSTM_X_predict(X_star_feed)[0].numpy()\n",
    "                X_hat[pre_step_num + t, :] = Qt.copy()\n",
    "            else:\n",
    "                X_star = X_hat[pre_step_num + t - time_lags, :][::-1]\n",
    "                X_star_feed = X_star[np.newaxis, :, :]\n",
    "                Qt =  model.LSTM_X_predict(X_star_feed)[0].numpy()\n",
    "                X_hat[pre_step_num + t, :] = Qt.copy()\n",
    "        mat_pred[:, t] = np.matmul(W, X_hat[pre_step_num + t, :])\n",
    "        if (t + 1) % 1000 == 0:\n",
    "            print('Time step: %d, time cost: %d s'%((t + 1), (time.time() - start_time)))\n",
    "            start_time = time.time()\n",
    "            \n",
    "    sparse_vec = sparse_mat[:, -1]\n",
    "    init = {\"W\": W, \"X\": X_hat[dim2 + pre_step_num - np.max(time_lags) - 1 : , :], \"model\": model}\n",
    "    X_c = OnlineLSTMReMF(sparse_vec, init, lambda_x/dim2, time_lags)\n",
    "    X_hat[dim2 + pre_step_num - 1,:] = X_c.copy()\n",
    "    mat_rec = np.matmul(W, X_hat[pre_step_num : , :].T)\n",
    "    return np.round(mat_rec), np.round(mat_pred)"
   ]
  },
  {
   "cell_type": "markdown",
   "metadata": {},
   "source": [
    "### Making prediction on test set"
   ]
  },
  {
   "cell_type": "code",
   "execution_count": 24,
   "metadata": {},
   "outputs": [
    {
     "name": "stdout",
     "output_type": "stream",
     "text": [
      "Time step: 1000, time cost: 18 s\n",
      "Time step: 2000, time cost: 17 s\n",
      "Time step: 3000, time cost: 16 s\n",
      "Time step: 4000, time cost: 17 s\n",
      "Time step: 5000, time cost: 16 s\n",
      "Time step: 6000, time cost: 17 s\n",
      "Shape of imputed data is:\n",
      "(207, 6048)\n",
      "\n",
      "Shape of predicted data is:\n",
      "(207, 6048)\n"
     ]
    }
   ],
   "source": [
    "import time\n",
    "start_time = time.time()\n",
    "\n",
    "maxiter = 200\n",
    "with tf.device('/CPU:0'):\n",
    "    init = {\"W\": W, \"X\": X[- np.max(time_lags): , :], \"model\": model}\n",
    "    test_mat_rec, test_mat_pred = online_prediction(test_set, init, time_lags\n",
    "                                         , lambda_w, lambda_x, eta, maxiter)\n",
    "print('Shape of imputed data is:')\n",
    "print(test_mat_rec.shape)\n",
    "print()\n",
    "print('Shape of predicted data is:')\n",
    "print(test_mat_pred.shape)"
   ]
  },
  {
   "cell_type": "code",
   "execution_count": 25,
   "metadata": {},
   "outputs": [
    {
     "name": "stdout",
     "output_type": "stream",
     "text": [
      "10 first prediciton on test set:\n",
      "[67. 65. 66. 64. 70. 61. 60. 66. 59. 75. 68. 67. 66. 78. 62. 64. 65. 62.\n",
      " 56. 66.]\n",
      "\n",
      "10 first real value on test set\n",
      "[66.125      62.75       67.22222222 62.375      68.44444444 65.\n",
      " 63.         60.5        65.625      66.11111111 66.625      61.55555556\n",
      " 63.625      64.88888889 63.375      58.22222222 62.375      63.75\n",
      " 63.         64.22222222]\n"
     ]
    }
   ],
   "source": [
    "print('10 first prediciton on test set:')\n",
    "print(test_mat_pred[1,:20])\n",
    "print()\n",
    "print('10 first real value on test set')\n",
    "print(test_ground_truth[1,:20])"
   ]
  },
  {
   "cell_type": "markdown",
   "metadata": {},
   "source": [
    "### Calculate the prediction and imputation error\n",
    "RMSE(root mean squared error) and MAPE(mean absolute percentage error) for both prediction and imputation on test set are calculated in the following code:"
   ]
  },
  {
   "cell_type": "code",
   "execution_count": 26,
   "metadata": {},
   "outputs": [],
   "source": [
    "def mean_absolute_percentage_error(y_true, y_pred, pos): \n",
    "    return np.mean(np.abs((y_true[pos] - y_pred[pos]) / y_true[pos])) * 100\n",
    "def root_mean_squared_error(y_true, y_pred, pos): \n",
    "    return np.sqrt(np.mean(np.square(y_true[pos] - y_pred[pos])))"
   ]
  },
  {
   "cell_type": "markdown",
   "metadata": {},
   "source": [
    "### Prediction error"
   ]
  },
  {
   "cell_type": "code",
   "execution_count": 27,
   "metadata": {},
   "outputs": [
    {
     "name": "stdout",
     "output_type": "stream",
     "text": [
      "Test prediction RMSE: 19.72 RMSE\n",
      "Test prediction MAPE: 28.10% MAPE\n"
     ]
    }
   ],
   "source": [
    "pos = np.where(test_ground_truth != 0)\n",
    "testPred_rmse = root_mean_squared_error(test_ground_truth, test_mat_pred, pos)\n",
    "print('Test prediction RMSE: %.2f RMSE' % (testPred_rmse))\n",
    "testPred_mape = mean_absolute_percentage_error(test_ground_truth, test_mat_pred, pos)\n",
    "print('Test prediction MAPE: %.2f%% MAPE' % (testPred_mape))"
   ]
  },
  {
   "cell_type": "markdown",
   "metadata": {},
   "source": [
    "### Online imputation error"
   ]
  },
  {
   "cell_type": "code",
   "execution_count": 28,
   "metadata": {},
   "outputs": [
    {
     "name": "stdout",
     "output_type": "stream",
     "text": [
      "Test prediction RMSE: 6.92 RMSE\n",
      "Test prediction MAPE: 10.68% MAPE\n"
     ]
    }
   ],
   "source": [
    "pos = np.where((test_set == 0) & (test_ground_truth != 0))\n",
    "testPred_rmse = root_mean_squared_error(test_ground_truth, test_mat_rec, pos)\n",
    "print('Test prediction RMSE: %.2f RMSE' % (testPred_rmse))\n",
    "testPred_mape = mean_absolute_percentage_error(test_ground_truth, test_mat_rec, pos)\n",
    "print('Test prediction MAPE: %.2f%% MAPE' % (testPred_mape))"
   ]
  },
  {
   "cell_type": "code",
   "execution_count": null,
   "metadata": {},
   "outputs": [],
   "source": []
  }
 ],
 "metadata": {
  "kernelspec": {
   "display_name": "tf24",
   "language": "python",
   "name": "tf24"
  },
  "language_info": {
   "codemirror_mode": {
    "name": "ipython",
    "version": 3
   },
   "file_extension": ".py",
   "mimetype": "text/x-python",
   "name": "python",
   "nbconvert_exporter": "python",
   "pygments_lexer": "ipython3",
   "version": "3.7.10"
  },
  "nbTranslate": {
   "displayLangs": [
    "*"
   ],
   "hotkey": "alt-t",
   "langInMainMenu": true,
   "sourceLang": "en",
   "targetLang": "fr",
   "useGoogleTranslate": true
  }
 },
 "nbformat": 4,
 "nbformat_minor": 4
}
