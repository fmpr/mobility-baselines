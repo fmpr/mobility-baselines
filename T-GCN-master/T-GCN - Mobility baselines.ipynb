{
 "cells": [
  {
   "cell_type": "code",
   "execution_count": 14,
   "metadata": {},
   "outputs": [
    {
     "name": "stdout",
     "output_type": "stream",
     "text": [
      "/home/rodr/code/mobility-baselines/T-GCN-master/T-GCN/T-GCN-PyTorch\n"
     ]
    }
   ],
   "source": [
    "import sys, os\n",
    "file_dir = os.path.abspath(\"/home/rodr/code/mobility-baselines/T-GCN-master/T-GCN/T-GCN-PyTorch\")\n",
    "print(file_dir)\n",
    "sys.path.append(file_dir)\n",
    "\n",
    "import argparse\n",
    "import traceback\n",
    "import pytorch_lightning as pl\n",
    "from pytorch_lightning.utilities import rank_zero_info\n",
    "import models\n",
    "import tasks\n",
    "import utils.callbacks\n",
    "import utils.data\n",
    "import utils.logging\n",
    "\n",
    "import numpy as np\n",
    "from sklearn.linear_model import LinearRegression, Lasso\n",
    "from sklearn.ensemble import GradientBoostingRegressor\n",
    "\n",
    "\n",
    "DATA_PATHS = {\n",
    "    \"shenzhen\": {\"feat\": \"data/sz_speed.csv\", \"adj\": \"data/sz_adj.csv\"},\n",
    "    \"losloop\": {\"feat\": \"data/los_speed.csv\", \"adj\": \"data/los_adj.csv\"},\n",
    "}\n",
    "\n",
    "\n",
    "def get_model(args, dm):\n",
    "    model = None\n",
    "    if args.model_name == \"GCN\":\n",
    "        model = models.GCN(adj=dm.adj, input_dim=args.seq_len, output_dim=args.hidden_dim)\n",
    "    if args.model_name == \"GRU\":\n",
    "        model = models.GRU(input_dim=dm.adj.shape[0], hidden_dim=args.hidden_dim)\n",
    "    if args.model_name == \"TGCN\":\n",
    "        model = models.TGCN(adj=dm.adj, hidden_dim=args.hidden_dim)\n",
    "    return model\n",
    "\n",
    "\n",
    "def get_task(args, model, dm):\n",
    "    task = getattr(tasks, args.settings.capitalize() + \"ForecastTask\")(\n",
    "        model=model, feat_max_val=dm.feat_max_val, **vars(args)\n",
    "    )\n",
    "    return task\n",
    "\n",
    "\n",
    "def get_callbacks(args):\n",
    "    checkpoint_callback = pl.callbacks.ModelCheckpoint(monitor=\"train_loss\")\n",
    "    plot_validation_predictions_callback = utils.callbacks.PlotValidationPredictionsCallback(monitor=\"train_loss\")\n",
    "    callbacks = [\n",
    "        checkpoint_callback,\n",
    "        plot_validation_predictions_callback,\n",
    "    ]\n",
    "    return callbacks\n",
    "\n",
    "\n",
    "def main_supervised(args):\n",
    "    dm = utils.data.SpatioTemporalCSVDataModule(\n",
    "        feat_path=DATA_PATHS[args.data][\"feat\"], adj_path=DATA_PATHS[args.data][\"adj\"], **vars(args)\n",
    "    )\n",
    "    model = get_model(args, dm)\n",
    "    task = get_task(args, model, dm)\n",
    "    callbacks = get_callbacks(args)\n",
    "    trainer = pl.Trainer.from_argparse_args(args, callbacks=callbacks)\n",
    "    trainer.fit(task, dm)\n",
    "    results = trainer.validate(datamodule=dm)\n",
    "    return results\n",
    "\n",
    "\n",
    "def main(args):\n",
    "    rank_zero_info(vars(args))\n",
    "    results = globals()[\"main_\" + args.settings](args)\n",
    "    return results\n",
    "\n",
    "\n",
    "parser = argparse.ArgumentParser()\n",
    "parser = pl.Trainer.add_argparse_args(parser)\n",
    "\n",
    "parser.add_argument(\n",
    "    \"--data\", type=str, help=\"The name of the dataset\", choices=(\"shenzhen\", \"losloop\"), default=\"losloop\"\n",
    ")\n",
    "parser.add_argument(\n",
    "    \"--model_name\",\n",
    "    type=str,\n",
    "    help=\"The name of the model for spatiotemporal prediction\",\n",
    "    choices=(\"GCN\", \"GRU\", \"TGCN\"),\n",
    "    default=\"GCN\",\n",
    ")\n",
    "parser.add_argument(\n",
    "    \"--settings\",\n",
    "    type=str,\n",
    "    help=\"The type of settings, e.g. supervised learning\",\n",
    "    choices=(\"supervised\",),\n",
    "    default=\"supervised\",\n",
    ")\n",
    "parser.add_argument(\"--log_path\", type=str, default=None, help=\"Path to the output console log file\")\n",
    "parser.add_argument(\"--send_email\", \"--email\", action=\"store_true\", help=\"Send email when finished\")\n",
    "parser.add_argument(\"-f\", type=str, default=None)\n",
    "\n",
    "temp_args, _ = parser.parse_known_args()\n",
    "\n",
    "parser = getattr(utils.data, temp_args.settings.capitalize() + \"DataModule\").add_data_specific_arguments(parser)\n",
    "parser = getattr(models, temp_args.model_name).add_model_specific_arguments(parser)\n",
    "parser = getattr(tasks, temp_args.settings.capitalize() + \"ForecastTask\").add_task_specific_arguments(parser)\n",
    "\n",
    "args = parser.parse_args()\n",
    "args.pre_len = 4\n",
    "utils.logging.format_logger(pl._logger)\n",
    "if args.log_path is not None:\n",
    "    utils.logging.output_logger_to_file(pl._logger, args.log_path)\n",
    "\n",
    "dm = utils.data.SpatioTemporalCSVDataModule(\n",
    "        feat_path=DATA_PATHS[\"shenzhen\"][\"feat\"], adj_path=DATA_PATHS[args.data][\"adj\"], **vars(args)\n",
    "    )"
   ]
  },
  {
   "cell_type": "code",
   "execution_count": 15,
   "metadata": {},
   "outputs": [
    {
     "data": {
      "text/plain": [
       "(2976, 156)"
      ]
     },
     "execution_count": 15,
     "metadata": {},
     "output_type": "execute_result"
    }
   ],
   "source": [
    "data = utils.data.functions.load_features(DATA_PATHS[\"shenzhen\"][\"feat\"])\n",
    "data.shape"
   ]
  },
  {
   "cell_type": "code",
   "execution_count": 16,
   "metadata": {},
   "outputs": [
    {
     "data": {
      "text/plain": [
       "31.0"
      ]
     },
     "execution_count": 16,
     "metadata": {},
     "output_type": "execute_result"
    }
   ],
   "source": [
    "2976/(4*24) # data is in 15 minutes intervals, not 5min! 1 month of data"
   ]
  },
  {
   "cell_type": "code",
   "execution_count": 17,
   "metadata": {},
   "outputs": [
    {
     "data": {
      "text/plain": [
       "[(datetime.date(2015, 1, 1), 'New year'),\n",
       " (datetime.date(2015, 2, 19), 'Chinese New Year')]"
      ]
     },
     "execution_count": 17,
     "metadata": {},
     "output_type": "execute_result"
    }
   ],
   "source": [
    "from workalendar.asia.china import ChineseNewYearCalendar\n",
    "holidays = [ChineseNewYearCalendar().holidays(y) for y in [2015]][0]\n",
    "holidays"
   ]
  },
  {
   "cell_type": "code",
   "execution_count": 18,
   "metadata": {},
   "outputs": [
    {
     "data": {
      "text/plain": [
       "0.8"
      ]
     },
     "execution_count": 18,
     "metadata": {},
     "output_type": "execute_result"
    }
   ],
   "source": [
    "args.split_ratio"
   ]
  },
  {
   "cell_type": "code",
   "execution_count": 19,
   "metadata": {},
   "outputs": [
    {
     "data": {
      "image/png": "[encoded data removed]",
      "text/plain": [
       "<Figure size 1152x432 with 6 Axes>"
      ]
     },
     "metadata": {
      "needs_background": "light"
     },
     "output_type": "display_data"
    }
   ],
   "source": [
    "import sys\n",
    "sys.path.append(os.path.abspath(\"/home/rodr/code/mobility-baselines\"))\n",
    "import datetime\n",
    "from mobility_detrender import MobilityDetrender\n",
    "from evaluation import evaluation\n",
    "\n",
    "detrender = MobilityDetrender(day_duration=4*24, week_duration=7)\n",
    "trainset_len = int(args.split_ratio*len(data)) # use only trainset for fitting historical averages\n",
    "detrender.fit(data[:trainset_len], start_date=datetime.date(2015,1,1), holidays=[])\n",
    "detrender.visualize(0)"
   ]
  },
  {
   "cell_type": "code",
   "execution_count": 20,
   "metadata": {},
   "outputs": [
    {
     "name": "stdout",
     "output_type": "stream",
     "text": [
      "Residuals of Historical Average (on all data) -> MAPE: 1012456714713.656; MAE:  4.501; RMSE: 6.416\n"
     ]
    },
    {
     "data": {
      "text/plain": [
       "(2976, 156)"
      ]
     },
     "execution_count": 20,
     "metadata": {},
     "output_type": "execute_result"
    }
   ],
   "source": [
    "detrended_data = detrender.transform(data, start_date=datetime.date(2015,1,1), holidays=[], mode='avg')\n",
    "evl_train = evaluation(data, detrender.ha_trend)\n",
    "print('Residuals of Historical Average (on all data) -> MAPE: %.3f; MAE:  %.3f; RMSE: %.3f' % tuple(evl_train)) \n",
    "detrended_data.shape"
   ]
  },
  {
   "cell_type": "code",
   "execution_count": 21,
   "metadata": {},
   "outputs": [
    {
     "name": "stdout",
     "output_type": "stream",
     "text": [
      "Train:  (2364, 12, 156) (2364, 4, 156)\n",
      "Test:  (580, 12, 156) (580, 4, 156)\n",
      "Train HA:  (2364, 12, 156) (2364, 4, 156)\n",
      "Test HA:  (580, 12, 156) (580, 4, 156)\n"
     ]
    }
   ],
   "source": [
    "# train/val/test split\n",
    "train_dataset, test_dataset = utils.data.functions.generate_torch_datasets(\n",
    "                                data,\n",
    "                                args.seq_len,\n",
    "                                args.pre_len,\n",
    "                                split_ratio=args.split_ratio,\n",
    "                                normalize=False)\n",
    "train_ha, test_ha = utils.data.functions.generate_torch_datasets(\n",
    "                                detrender.ha_trend,\n",
    "                                args.seq_len,\n",
    "                                args.pre_len,\n",
    "                                split_ratio=args.split_ratio,\n",
    "                                normalize=False)\n",
    "\n",
    "#add time window\n",
    "x_tra, y_tra = train_dataset.tensors\n",
    "x_tra, y_tra = x_tra.numpy(), y_tra.numpy()\n",
    "x_test, y_test = test_dataset.tensors\n",
    "x_test, y_test = x_test.numpy(), y_test.numpy()\n",
    "print('Train: ', x_tra.shape, y_tra.shape)\n",
    "print('Test: ', x_test.shape, y_test.shape)\n",
    "x_tra_ha, y_tra_ha = train_ha.tensors\n",
    "x_tra_ha, y_tra_ha = x_tra_ha.numpy(), y_tra_ha.numpy()\n",
    "x_test_ha, y_test_ha = test_ha.tensors\n",
    "x_test_ha, y_test_ha = x_test_ha.numpy(), y_test_ha.numpy()\n",
    "print('Train HA: ', x_tra_ha.shape, y_tra_ha.shape)\n",
    "print('Test HA: ', x_test_ha.shape, y_test_ha.shape)"
   ]
  },
  {
   "cell_type": "code",
   "execution_count": 22,
   "metadata": {},
   "outputs": [
    {
     "name": "stdout",
     "output_type": "stream",
     "text": [
      "Test set -> MAPE: 4078078787584.000; MAE:  4.629; RMSE: 6.462\n"
     ]
    }
   ],
   "source": [
    "evl_test = evaluation(y_test[:,0,:], y_test_ha[:,0,:])\n",
    "print('Test set -> MAPE: %.3f; MAE:  %.3f; RMSE: %.3f' % tuple(evl_test)) "
   ]
  },
  {
   "cell_type": "code",
   "execution_count": 23,
   "metadata": {},
   "outputs": [
    {
     "name": "stdout",
     "output_type": "stream",
     "text": [
      "(580, 156)\n",
      "(580, 156)\n",
      "Test set -> MAPE: 4676026630144.000; MAE:  3.464; RMSE: 4.998\n"
     ]
    }
   ],
   "source": [
    "steps_ahead = 0 # number of step-ahead for prediction (0=15min, 1=30min, 2=45min, 3=60min)\n",
    "\n",
    "all_preds = []\n",
    "all_trues = []\n",
    "for loc in range(data.shape[1]):\n",
    "    # prepare input data\n",
    "    x = x_tra[:, :, loc] - x_tra_ha[:, :, loc] # detrend input data for training\n",
    "    y = y_tra[:, steps_ahead, loc] - y_tra_ha[:, steps_ahead, loc] # detrend targets for training\n",
    "\n",
    "    # fit ML models\n",
    "    reg = LinearRegression()\n",
    "    reg.fit(x, y)\n",
    "\n",
    "    # predict on test set\n",
    "    trues = y_test[:, steps_ahead, loc] # targets for test set (i.e., actual observations w/o detrending)\n",
    "    preds = reg.predict(x_test[:, :, loc] - x_test_ha[:, :, loc]) # make predictions on detrended inputs\n",
    "    preds = preds + y_test_ha[:, steps_ahead, loc] # convert preds back to original scale (revert detrending)\n",
    "\n",
    "    all_preds.append(preds)\n",
    "    all_trues.append(trues)\n",
    "    \n",
    "all_preds = np.array(all_preds).T\n",
    "print(all_preds.shape)\n",
    "all_trues = np.array(all_trues).T\n",
    "print(all_trues.shape)\n",
    "\n",
    "evl_test = evaluation(all_trues, all_preds)\n",
    "print('Test set -> MAPE: %.3f; MAE:  %.3f; RMSE: %.3f' % tuple(evl_test)) "
   ]
  },
  {
   "cell_type": "code",
   "execution_count": 24,
   "metadata": {},
   "outputs": [
    {
     "name": "stdout",
     "output_type": "stream",
     "text": [
      "(580, 156)\n",
      "(580, 156)\n",
      "Test set -> MAPE: 4253054140416.000; MAE:  3.507; RMSE: 5.057\n"
     ]
    }
   ],
   "source": [
    "steps_ahead = 1 # number of step-ahead for prediction (0=15min, 1=30min, 2=45min, 3=60min)\n",
    "\n",
    "all_preds = []\n",
    "all_trues = []\n",
    "for loc in range(data.shape[1]):\n",
    "    # prepare input data\n",
    "    x = x_tra[:, :, loc] - x_tra_ha[:, :, loc] # detrend input data for training\n",
    "    y = y_tra[:, steps_ahead, loc] - y_tra_ha[:, steps_ahead, loc] # detrend targets for training\n",
    "\n",
    "    # fit ML models\n",
    "    reg = LinearRegression()\n",
    "    reg.fit(x, y)\n",
    "\n",
    "    # predict on test set\n",
    "    trues = y_test[:, steps_ahead, loc] # targets for test set (i.e., actual observations w/o detrending)\n",
    "    preds = reg.predict(x_test[:, :, loc] - x_test_ha[:, :, loc]) # make predictions on detrended inputs\n",
    "    preds = preds + y_test_ha[:, steps_ahead, loc] # convert preds back to original scale (revert detrending)\n",
    "\n",
    "    all_preds.append(preds)\n",
    "    all_trues.append(trues)\n",
    "    \n",
    "all_preds = np.array(all_preds).T\n",
    "print(all_preds.shape)\n",
    "all_trues = np.array(all_trues).T\n",
    "print(all_trues.shape)\n",
    "\n",
    "evl_test = evaluation(all_trues, all_preds)\n",
    "print('Test set -> MAPE: %.3f; MAE:  %.3f; RMSE: %.3f' % tuple(evl_test)) "
   ]
  },
  {
   "cell_type": "code",
   "execution_count": 25,
   "metadata": {},
   "outputs": [
    {
     "name": "stdout",
     "output_type": "stream",
     "text": [
      "(580, 156)\n",
      "(580, 156)\n",
      "Test set -> MAPE: 4231681802240.000; MAE:  3.534; RMSE: 5.091\n"
     ]
    }
   ],
   "source": [
    "steps_ahead = 2 # number of step-ahead for prediction (0=15min, 1=30min, 2=45min, 3=60min)\n",
    "\n",
    "all_preds = []\n",
    "all_trues = []\n",
    "for loc in range(data.shape[1]):\n",
    "    # prepare input data\n",
    "    x = x_tra[:, :, loc] - x_tra_ha[:, :, loc] # detrend input data for training\n",
    "    y = y_tra[:, steps_ahead, loc] - y_tra_ha[:, steps_ahead, loc] # detrend targets for training\n",
    "\n",
    "    # fit ML models\n",
    "    reg = LinearRegression()\n",
    "    reg.fit(x, y)\n",
    "\n",
    "    # predict on test set\n",
    "    trues = y_test[:, steps_ahead, loc] # targets for test set (i.e., actual observations w/o detrending)\n",
    "    preds = reg.predict(x_test[:, :, loc] - x_test_ha[:, :, loc]) # make predictions on detrended inputs\n",
    "    preds = preds + y_test_ha[:, steps_ahead, loc] # convert preds back to original scale (revert detrending)\n",
    "\n",
    "    all_preds.append(preds)\n",
    "    all_trues.append(trues)\n",
    "    \n",
    "all_preds = np.array(all_preds).T\n",
    "print(all_preds.shape)\n",
    "all_trues = np.array(all_trues).T\n",
    "print(all_trues.shape)\n",
    "\n",
    "evl_test = evaluation(all_trues, all_preds)\n",
    "print('Test set -> MAPE: %.3f; MAE:  %.3f; RMSE: %.3f' % tuple(evl_test)) "
   ]
  },
  {
   "cell_type": "code",
   "execution_count": 28,
   "metadata": {},
   "outputs": [
    {
     "name": "stdout",
     "output_type": "stream",
     "text": [
      "(580, 156)\n",
      "(580, 156)\n",
      "Test set -> MAPE: 4346771406848.000; MAE:  3.554; RMSE: 5.115\n"
     ]
    }
   ],
   "source": [
    "steps_ahead = 3 # number of step-ahead for prediction (0=15min, 1=30min, 2=45min, 3=60min)\n",
    "\n",
    "all_preds = []\n",
    "all_trues = []\n",
    "for loc in range(data.shape[1]):\n",
    "    # prepare input data\n",
    "    x = x_tra[:, :, loc] - x_tra_ha[:, :, loc] # detrend input data for training\n",
    "    y = y_tra[:, steps_ahead, loc] - y_tra_ha[:, steps_ahead, loc] # detrend targets for training\n",
    "\n",
    "    # fit ML models\n",
    "    reg = LinearRegression()\n",
    "    reg.fit(x, y)\n",
    "\n",
    "    # predict on test set\n",
    "    trues = y_test[:, steps_ahead, loc] # targets for test set (i.e., actual observations w/o detrending)\n",
    "    preds = reg.predict(x_test[:, :, loc] - x_test_ha[:, :, loc]) # make predictions on detrended inputs\n",
    "    preds = preds + y_test_ha[:, steps_ahead, loc] # convert preds back to original scale (revert detrending)\n",
    "\n",
    "    all_preds.append(preds)\n",
    "    all_trues.append(trues)\n",
    "    \n",
    "all_preds = np.array(all_preds).T\n",
    "print(all_preds.shape)\n",
    "all_trues = np.array(all_trues).T\n",
    "print(all_trues.shape)\n",
    "\n",
    "evl_test = evaluation(all_trues, all_preds)\n",
    "print('Test set -> MAPE: %.3f; MAE:  %.3f; RMSE: %.3f' % tuple(evl_test)) "
   ]
  },
  {
   "cell_type": "code",
   "execution_count": null,
   "metadata": {},
   "outputs": [],
   "source": []
  }
 ],
 "metadata": {
  "kernelspec": {
   "display_name": "Python 3",
   "language": "python",
   "name": "python3"
  },
  "language_info": {
   "codemirror_mode": {
    "name": "ipython",
    "version": 3
   },
   "file_extension": ".py",
   "mimetype": "text/x-python",
   "name": "python",
   "nbconvert_exporter": "python",
   "pygments_lexer": "ipython3",
   "version": "3.8.10"
  }
 },
 "nbformat": 4,
 "nbformat_minor": 4
}
