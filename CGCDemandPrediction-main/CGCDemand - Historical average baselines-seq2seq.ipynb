{
 "cells": [
  {
   "cell_type": "code",
   "execution_count": 1,
   "metadata": {
    "scrolled": false
   },
   "outputs": [
    {
     "data": {
      "text/plain": [
       "(4368, 250, 2)"
      ]
     },
     "execution_count": 1,
     "metadata": {},
     "output_type": "execute_result"
    }
   ],
   "source": [
    "import json,os,shutil,yaml,torch\n",
    "import torch.nn as nn\n",
    "import h5py\n",
    "import numpy as np\n",
    "\n",
    "from models import create_model\n",
    "from utils.train import train_model, test_model\n",
    "from utils.util import get_optimizer, get_loss, get_scheduler\n",
    "from utils.data_container import get_data_loader\n",
    "from utils.preprocess import  preprocessing_for_metric\n",
    "\n",
    "\n",
    "con = 'evoconv2-config'\n",
    "data_category = ['bike']\n",
    "with open(os.path.join('config', f'{con}.yaml')) as f:\n",
    "    conf = yaml.safe_load(f)\n",
    "\n",
    "#print(json.dumps(conf, indent=4))\n",
    "\n",
    "#os.environ[\"CUDA_VISIBLE_DEVICES\"] = str(conf['device'])\n",
    "os.environ[\"CUDA_VISIBLE_DEVICES\"] = str(1)\n",
    "device = torch.device(0)\n",
    "\n",
    "model_name = conf['model']['name']\n",
    "data_set = dataset = conf['data']['dataset']\n",
    "\n",
    "data = list()\n",
    "for i,category in enumerate(data_category):\n",
    "    with h5py.File(f\"data/{dataset}/{category}_data.h5\", 'r') as hf:\n",
    "        data_pick = hf[f'{category}_pick'][:]\n",
    "    with h5py.File(f\"data/{dataset}/{category}_data.h5\", 'r') as hf:\n",
    "        data_drop = hf[f'{category}_drop'][:]\n",
    "    data.append(np.stack([data_pick, data_drop], axis=2))\n",
    "    data = np.concatenate(data, axis=1)\n",
    "    \n",
    "data.shape"
   ]
  },
  {
   "cell_type": "code",
   "execution_count": 2,
   "metadata": {},
   "outputs": [
    {
     "data": {
      "text/plain": [
       "[(datetime.date(2016, 1, 1), 'New year'),\n",
       " (datetime.date(2016, 1, 18), 'Birthday of Martin Luther King, Jr.'),\n",
       " (datetime.date(2016, 2, 12), \"Lincoln's Birthday\"),\n",
       " (datetime.date(2016, 2, 15), \"Washington's Birthday\"),\n",
       " (datetime.date(2016, 5, 30), 'Memorial Day'),\n",
       " (datetime.date(2016, 7, 4), 'Independence Day'),\n",
       " (datetime.date(2016, 9, 5), 'Labor Day'),\n",
       " (datetime.date(2016, 10, 10), 'Columbus Day'),\n",
       " (datetime.date(2016, 11, 8), 'Election Day'),\n",
       " (datetime.date(2016, 11, 11), 'Veterans Day'),\n",
       " (datetime.date(2016, 11, 24), 'Thanksgiving Day'),\n",
       " (datetime.date(2016, 12, 25), 'Christmas Day'),\n",
       " (datetime.date(2016, 12, 26), 'Christmas Day (Observed)')]"
      ]
     },
     "execution_count": 2,
     "metadata": {},
     "output_type": "execute_result"
    }
   ],
   "source": [
    "from workalendar.usa.new_york import NewYork\n",
    "holidays = [NewYork().holidays(y) for y in [2016]][0]\n",
    "holidays"
   ]
  },
  {
   "cell_type": "code",
   "execution_count": 3,
   "metadata": {},
   "outputs": [
    {
     "data": {
      "text/plain": [
       "{'dataset': 'nogrid',\n",
       " 'batch_size': 32,\n",
       " 'X_list': [12, 11, 10, 9, 8, 7, 6, 5, 4, 3, 2, 1],\n",
       " 'Y_list': [0, 1, 2, 3, 4, 5, 6, 7, 8, 9, 10, 11],\n",
       " '_len': [672, 672],\n",
       " 'Normal_Method': 'Standard'}"
      ]
     },
     "execution_count": 3,
     "metadata": {},
     "output_type": "execute_result"
    }
   ],
   "source": [
    "val_len, test_len = conf['data']['_len']\n",
    "X_list = conf['data']['X_list']\n",
    "Y_list = conf['data']['Y_list']\n",
    "conf['data']"
   ]
  },
  {
   "cell_type": "code",
   "execution_count": 4,
   "metadata": {},
   "outputs": [
    {
     "name": "stdout",
     "output_type": "stream",
     "text": [
      "data size for computing historical averages: 3024\n"
     ]
    }
   ],
   "source": [
    "# compute historical averages only for train data\n",
    "speed_sum = np.zeros((data.shape[1],7,2*24,2)) # the last dimension is 2 because it holds pickups and dropoffs\n",
    "speed_sum_sq = np.zeros((data.shape[1],7,2*24,2))\n",
    "counts = np.zeros((data.shape[1],7,2*24,2))\n",
    "num_train = len(data)-val_len-test_len\n",
    "print(\"data size for computing historical averages:\", num_train)\n",
    "for i in range(num_train):\n",
    "    day = int(i / (2*24))\n",
    "    weekday = int((day+5) % 7) # adjust with +5, because April 2016 starts on a Friday (and 0 is Sunday)\n",
    "    if day == 59: # these are holidays (Memorial Day)\n",
    "        weekday = 0 # treat holidays as sundays (weekday = 0)\n",
    "    tod = int(i % (2*24))\n",
    "    #print(day, weekday, tod)\n",
    "    speed_sum[:,weekday,tod,:] += data[i,:,:]\n",
    "    speed_sum_sq[:,weekday,tod,:] += (data[i,:,:]**2)\n",
    "    counts[:,weekday,tod,:] += 1.0\n",
    "    \n",
    "historical_avg = speed_sum / counts\n",
    "historical_std = np.sqrt(0.1+(speed_sum_sq / counts) - (historical_avg**2))"
   ]
  },
  {
   "cell_type": "code",
   "execution_count": 3,
   "metadata": {
    "scrolled": true
   },
   "outputs": [
    {
     "data": {
      "text/plain": [
       "14.0"
      ]
     },
     "execution_count": 3,
     "metadata": {},
     "output_type": "execute_result"
    }
   ],
   "source": [
    "672/(24*2)"
   ]
  },
  {
   "cell_type": "code",
   "execution_count": 6,
   "metadata": {},
   "outputs": [
    {
     "data": {
      "image/png": "[encoded data removed]",
      "text/plain": [
       "<Figure size 1152x144 with 2 Axes>"
      ]
     },
     "metadata": {
      "needs_background": "light"
     },
     "output_type": "display_data"
    }
   ],
   "source": [
    "from matplotlib import pyplot as plt\n",
    "plt.figure(figsize=(16,2))\n",
    "plt.imshow(counts[0,:,:,0])\n",
    "plt.colorbar();"
   ]
  },
  {
   "cell_type": "code",
   "execution_count": 8,
   "metadata": {},
   "outputs": [
    {
     "data": {
      "image/png": "[encoded data removed]",
      "text/plain": [
       "<Figure size 1152x144 with 2 Axes>"
      ]
     },
     "metadata": {
      "needs_background": "light"
     },
     "output_type": "display_data"
    }
   ],
   "source": [
    "from matplotlib import pyplot as plt\n",
    "plt.figure(figsize=(16,2))\n",
    "plt.imshow(historical_avg[0,:,:,0])\n",
    "plt.colorbar();"
   ]
  },
  {
   "cell_type": "code",
   "execution_count": 9,
   "metadata": {},
   "outputs": [
    {
     "data": {
      "image/png": "[encoded data removed]",
      "text/plain": [
       "<Figure size 1152x144 with 2 Axes>"
      ]
     },
     "metadata": {
      "needs_background": "light"
     },
     "output_type": "display_data"
    }
   ],
   "source": [
    "from matplotlib import pyplot as plt\n",
    "plt.figure(figsize=(16,2))\n",
    "plt.imshow(historical_avg[0,:,:,1])\n",
    "plt.colorbar();"
   ]
  },
  {
   "cell_type": "code",
   "execution_count": 10,
   "metadata": {},
   "outputs": [
    {
     "data": {
      "image/png": "[encoded data removed]",
      "text/plain": [
       "<Figure size 1152x144 with 2 Axes>"
      ]
     },
     "metadata": {
      "needs_background": "light"
     },
     "output_type": "display_data"
    }
   ],
   "source": [
    "from matplotlib import pyplot as plt\n",
    "plt.figure(figsize=(16,2))\n",
    "plt.imshow(historical_std[0,:,:,0])\n",
    "plt.colorbar();"
   ]
  },
  {
   "cell_type": "code",
   "execution_count": 13,
   "metadata": {},
   "outputs": [
    {
     "name": "stdout",
     "output_type": "stream",
     "text": [
      "(3024, 250, 2)\n",
      "(3024, 250, 2)\n",
      "Trainset Residuals (pickups and dropoffs) -> MAPE: 24862.449; MAE:  1.315; RMSE: 2.165\n",
      "Trainset Residuals (pickups) -> MAPE: 25512.395; MAE:  1.344; RMSE: 2.240\n",
      "Trainset Residuals (dropoffs) -> MAPE: 24212.502; MAE:  1.286; RMSE: 2.088\n"
     ]
    }
   ],
   "source": [
    "# compute residuals of historical averages\n",
    "trues_train = []\n",
    "preds_train_ha = []\n",
    "#for i in range((n_train+n_val)*12*24):\n",
    "for i in range(num_train):\n",
    "    day = int(i / (2*24))\n",
    "    weekday = int((day+5) % 7) # adjust with +5, because April 2016 starts on a Friday (and 0 is Sunday)\n",
    "    if day == 59: # these are holidays (Memorial Day)\n",
    "        weekday = 0 # treat holidays as sundays (weekday = 0)\n",
    "    tod = int(i % (2*24))\n",
    "    preds_train_ha.append(historical_avg[:,weekday,tod,:])\n",
    "    trues_train.append(data[i,:,:])\n",
    "    \n",
    "trues_train = np.array(trues_train)\n",
    "print(trues_train.shape)\n",
    "preds_train_ha = np.array(preds_train_ha)\n",
    "print(preds_train_ha.shape)\n",
    "\n",
    "from math_utils import evaluation\n",
    "evl_train = evaluation(trues_train, preds_train_ha, {\"mean\": 0, \"std\": 1})\n",
    "print('Trainset Residuals (pickups and dropoffs) -> MAPE: %.3f; MAE:  %.3f; RMSE: %.3f' % tuple(evl_train)) \n",
    "evl_train = evaluation(trues_train[:,:,:1], preds_train_ha[:,:,:1], {\"mean\": 0, \"std\": 1})\n",
    "print('Trainset Residuals (pickups) -> MAPE: %.3f; MAE:  %.3f; RMSE: %.3f' % tuple(evl_train)) \n",
    "evl_train = evaluation(trues_train[:,:,1:], preds_train_ha[:,:,1:], {\"mean\": 0, \"std\": 1})\n",
    "print('Trainset Residuals (dropoffs) -> MAPE: %.3f; MAE:  %.3f; RMSE: %.3f' % tuple(evl_train)) "
   ]
  },
  {
   "cell_type": "code",
   "execution_count": 14,
   "metadata": {},
   "outputs": [
    {
     "name": "stdout",
     "output_type": "stream",
     "text": [
      "(4368, 250, 2)\n"
     ]
    }
   ],
   "source": [
    "# compute predictions based on historical averages for entire dataset\n",
    "trues = []\n",
    "preds_ha = []\n",
    "for i in range(len(data)):\n",
    "    trues.append(data[i,:,:])\n",
    "    day = int(i / (2*24))\n",
    "    weekday = int((day+5) % 7) # adjust with +5, because April 2016 starts on a Friday (and 0 is Sunday)\n",
    "    if day == 59: # these are holidays (Memorial Day)\n",
    "        weekday = 0 # treat holidays as sundays (weekday = 0)\n",
    "    tod = int(i % (2*24))\n",
    "    preds_ha.append(historical_avg[:,weekday,tod,:])\n",
    "    \n",
    "trues = np.array(trues)\n",
    "preds_ha = np.array(preds_ha)\n",
    "print(preds_ha.shape)"
   ]
  },
  {
   "cell_type": "code",
   "execution_count": 15,
   "metadata": {},
   "outputs": [
    {
     "name": "stdout",
     "output_type": "stream",
     "text": [
      "Train:  (3001, 12, 250, 2) (3001, 12, 250, 2)\n",
      "Val:  (672, 12, 250, 2) (672, 12, 250, 2)\n",
      "Test:  (672, 12, 250, 2) (672, 12, 250, 2)\n",
      "Train HA:  (3001, 12, 250, 2) (3001, 12, 250, 2)\n",
      "Val HA:  (672, 12, 250, 2) (672, 12, 250, 2)\n",
      "Test HA:  (672, 12, 250, 2) (672, 12, 250, 2)\n"
     ]
    }
   ],
   "source": [
    "from utils.data_container import traffic_demand_prediction_dataset\n",
    "\n",
    "#add time window\n",
    "X_, Y_ = list(), list()\n",
    "X_ha, Y_ha = list(), list()\n",
    "for i in range(max(X_list), data.shape[0] - max(Y_list)):\n",
    "    X_.append([data[i - j] for j in X_list])\n",
    "    Y_.append([data[i + j] for j in Y_list])\n",
    "    X_ha.append([preds_ha[i - j] for j in X_list])\n",
    "    Y_ha.append([preds_ha[i + j] for j in Y_list])\n",
    "X_ = np.asarray(X_)\n",
    "Y_ = np.asarray(Y_)\n",
    "X_ha = np.asarray(X_ha)\n",
    "Y_ha = np.asarray(Y_ha)\n",
    "\n",
    "#split dataset by days or by ratio\n",
    "\n",
    "x_tra, y_tra = X_[:(-val_len-test_len)], Y_[:(-val_len-test_len)]\n",
    "x_val, y_val = X_[(-val_len-test_len):(-test_len)], Y_[(-val_len-test_len):(-test_len)]\n",
    "x_test, y_test = X_[(-test_len):], Y_[(-test_len):]\n",
    "print('Train: ', x_tra.shape, y_tra.shape)\n",
    "print('Val: ', x_val.shape, y_val.shape)\n",
    "print('Test: ', x_test.shape, y_test.shape)\n",
    "x_tra_ha, y_tra_ha = X_ha[:(-val_len-test_len)], Y_ha[:(-val_len-test_len)]\n",
    "x_val_ha, y_val_ha = X_ha[(-val_len-test_len):(-test_len)], Y_ha[(-val_len-test_len):(-test_len)]\n",
    "x_test_ha, y_test_ha = X_ha[(-test_len):], Y_ha[(-test_len):]\n",
    "print('Train HA: ', x_tra_ha.shape, y_tra_ha.shape)\n",
    "print('Val HA: ', x_val_ha.shape, y_val_ha.shape)\n",
    "print('Test HA: ', x_test_ha.shape, y_test_ha.shape)"
   ]
  },
  {
   "cell_type": "code",
   "execution_count": 25,
   "metadata": {},
   "outputs": [
    {
     "name": "stdout",
     "output_type": "stream",
     "text": [
      "Validation set (pickups and dropoffs) -> MAPE: 21825.662; MAE:  1.626; RMSE: 2.699\n",
      "Validation set (pickups) -> MAPE: 22643.681; MAE:  1.671; RMSE: 2.829\n",
      "Validation set (dropoffs) -> MAPE: 21007.643; MAE:  1.580; RMSE: 2.561\n",
      "Test set (pickups and dropoffs) -> MAPE: 17446.485; MAE:  1.726; RMSE: 2.871\n",
      "Test set (pickups) -> MAPE: 17912.127; MAE:  1.764; RMSE: 2.977\n",
      "Test set (dropoffs) -> MAPE: 16980.842; MAE:  1.688; RMSE: 2.761\n"
     ]
    }
   ],
   "source": [
    "from math_utils import evaluation\n",
    "\n",
    "steps_ahead = -1\n",
    "\n",
    "evl_val = evaluation(y_val[:,steps_ahead,:,:], y_val_ha[:,steps_ahead,:,:], {\"mean\": 0, \"std\": 1})\n",
    "print('Validation set (pickups and dropoffs) -> MAPE: %.3f; MAE:  %.3f; RMSE: %.3f' % tuple(evl_val)) \n",
    "evl_val = evaluation(y_val[:,steps_ahead,:,:1], y_val_ha[:,steps_ahead,:,:1], {\"mean\": 0, \"std\": 1})\n",
    "print('Validation set (pickups) -> MAPE: %.3f; MAE:  %.3f; RMSE: %.3f' % tuple(evl_val)) \n",
    "evl_val = evaluation(y_val[:,steps_ahead,:,1:], y_val_ha[:,steps_ahead,:,1:], {\"mean\": 0, \"std\": 1})\n",
    "print('Validation set (dropoffs) -> MAPE: %.3f; MAE:  %.3f; RMSE: %.3f' % tuple(evl_val)) \n",
    "\n",
    "evl_test = evaluation(y_test[:,steps_ahead,:,:], y_test_ha[:,steps_ahead,:,:], {\"mean\": 0, \"std\": 1})\n",
    "print('Test set (pickups and dropoffs) -> MAPE: %.3f; MAE:  %.3f; RMSE: %.3f' % tuple(evl_test)) \n",
    "evl_test = evaluation(y_test[:,steps_ahead,:,:1], y_test_ha[:,steps_ahead,:,:1], {\"mean\": 0, \"std\": 1})\n",
    "print('Test set (pickups) -> MAPE: %.3f; MAE:  %.3f; RMSE: %.3f' % tuple(evl_test)) \n",
    "evl_test = evaluation(y_test[:,steps_ahead,:,1:], y_test_ha[:,steps_ahead,:,1:], {\"mean\": 0, \"std\": 1})\n",
    "print('Test set (dropoffs) -> MAPE: %.3f; MAE:  %.3f; RMSE: %.3f' % tuple(evl_test)) "
   ]
  },
  {
   "cell_type": "code",
   "execution_count": 57,
   "metadata": {},
   "outputs": [
    {
     "name": "stdout",
     "output_type": "stream",
     "text": [
      "0\n",
      "50\n",
      "100\n",
      "150\n",
      "200\n",
      "(672, 250, 2, 12)\n",
      "(672, 250, 2, 12)\n",
      "Test set -> MAPE: 24922.866; MAE:  1.738; RMSE: 2.758\n"
     ]
    }
   ],
   "source": [
    "from sklearn.linear_model import LinearRegression, Lasso\n",
    "from sklearn.ensemble import GradientBoostingRegressor\n",
    "all_preds = []\n",
    "all_trues = []\n",
    "for loc in range(data.shape[1]):\n",
    "    if not loc % 50:\n",
    "        print(loc)\n",
    "    \n",
    "    loc_preds = []\n",
    "    loc_trues = []\n",
    "    for steps_ahead in range(12):\n",
    "        x1 = x_tra[:, :, loc, 0] - x_tra_ha[:, :, loc, 0]\n",
    "        y1 = y_tra[:, steps_ahead, loc, 0] - y_tra_ha[:, steps_ahead, loc, 0]\n",
    "        reg1 = LinearRegression()\n",
    "        #reg = Lasso(alpha=0.1)\n",
    "        #reg = GradientBoostingRegressor(random_state=0)\n",
    "        reg1.fit(x1, y1)\n",
    "        trues1 = y_test[:, steps_ahead, loc, 0]\n",
    "        preds1 = reg1.predict(x_test[:, :, loc, 0] - x_test_ha[:, :, loc, 0]) + y_test_ha[:, steps_ahead, loc, 0]\n",
    "\n",
    "        x2 = x_tra[:, :, loc, 1] - x_tra_ha[:, :, loc, 1]\n",
    "        y2 = y_tra[:, steps_ahead, loc, 1] - y_tra_ha[:, steps_ahead, loc, 1]\n",
    "        reg2 = LinearRegression()\n",
    "        #reg = Lasso(alpha=0.1)\n",
    "        #reg = GradientBoostingRegressor(random_state=0)\n",
    "        reg2.fit(x2, y2)\n",
    "        trues2 = y_test[:, steps_ahead, loc, 1]\n",
    "        preds2 = reg2.predict(x_test[:, :, loc, 1] - x_test_ha[:, :, loc, 0]) + y_test_ha[:, steps_ahead, loc, 1]\n",
    "\n",
    "        loc_preds.append([preds1, preds2])\n",
    "        loc_trues.append([trues1, trues2])\n",
    "\n",
    "    all_preds.append(loc_preds)\n",
    "    all_trues.append(loc_trues)\n",
    "\n",
    "all_preds = np.array(all_preds).transpose([3,0,2,1])\n",
    "print(all_preds.shape)\n",
    "all_trues = np.array(all_trues).transpose([3,0,2,1])\n",
    "print(all_trues.shape)\n",
    "\n",
    "evl_test = evaluation(all_trues.reshape([all_trues.shape[0],all_trues.shape[1],12*2]), \n",
    "                      all_preds.reshape([all_trues.shape[0],all_trues.shape[1],12*2]), \n",
    "                      {\"mean\": 0, \"std\": 1})\n",
    "print('Test set -> MAPE: %.3f; MAE:  %.3f; RMSE: %.3f' % tuple(evl_test)) "
   ]
  },
  {
   "cell_type": "code",
   "execution_count": null,
   "metadata": {},
   "outputs": [],
   "source": [
    "# confirm that real model (neural net) is worse"
   ]
  },
  {
   "cell_type": "code",
   "execution_count": 81,
   "metadata": {},
   "outputs": [
    {
     "data": {
      "text/plain": [
       "'save/Evoconv2/nogrid_bike/train1'"
      ]
     },
     "execution_count": 81,
     "metadata": {},
     "output_type": "execute_result"
    }
   ],
   "source": [
    "folder = os.path.join('save', conf['name'], f'{data_set}_{\"\".join(data_category)}', conf['tag'])\n",
    "folder"
   ]
  },
  {
   "cell_type": "code",
   "execution_count": 82,
   "metadata": {},
   "outputs": [
    {
     "name": "stdout",
     "output_type": "stream",
     "text": [
      "(672, 12, 250, 2)\n",
      "(672, 12, 250, 2)\n"
     ]
    }
   ],
   "source": [
    "predictions = np.load(os.path.join(folder, 'test-results.npz'))[\"predictions\"]\n",
    "running_targets = np.load(os.path.join(folder, 'test-results.npz'))[\"targets\"]\n",
    "print(predictions.shape)\n",
    "print(running_targets.shape)"
   ]
  },
  {
   "cell_type": "code",
   "execution_count": 83,
   "metadata": {},
   "outputs": [
    {
     "name": "stdout",
     "output_type": "stream",
     "text": [
      "\n",
      "std: 4.010208024889097 mean: 2.7760608974358973\n"
     ]
    }
   ],
   "source": [
    "_, normal = get_data_loader(**conf['data'], data_category=data_category, device=device,\n",
    "                                          model_name=model_name)\n",
    "\n",
    "predictions = normal[0].inverse_transform(predictions)\n",
    "running_targets = normal[0].inverse_transform(running_targets)"
   ]
  },
  {
   "cell_type": "code",
   "execution_count": 85,
   "metadata": {},
   "outputs": [
    {
     "name": "stdout",
     "output_type": "stream",
     "text": [
      "Test set -> MAPE: 0.956; MAE:  1.767; RMSE: 2.885\n"
     ]
    }
   ],
   "source": [
    "evl_test = evaluation(predictions.transpose([0,2,1,3]).reshape([all_trues.shape[0],all_trues.shape[1],12*2]), \n",
    "                      running_targets.transpose([0,2,1,3]).reshape([all_trues.shape[0],all_trues.shape[1],12*2]), \n",
    "                      {\"mean\": 0, \"std\": 1})\n",
    "print('Test set -> MAPE: %.3f; MAE:  %.3f; RMSE: %.3f' % tuple(evl_test)) "
   ]
  }
 ],
 "metadata": {
  "kernelspec": {
   "display_name": "Python 3",
   "language": "python",
   "name": "python3"
  },
  "language_info": {
   "codemirror_mode": {
    "name": "ipython",
    "version": 3
   },
   "file_extension": ".py",
   "mimetype": "text/x-python",
   "name": "python",
   "nbconvert_exporter": "python",
   "pygments_lexer": "ipython3",
   "version": "3.8.10"
  }
 },
 "nbformat": 4,
 "nbformat_minor": 4
}
