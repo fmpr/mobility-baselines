{
 "cells": [
  {
   "cell_type": "code",
   "execution_count": 1,
   "metadata": {
    "scrolled": false
   },
   "outputs": [
    {
     "name": "stdout",
     "output_type": "stream",
     "text": [
      "{\n",
      "    \"name\": \"Evoconv2\",\n",
      "    \"tag\": \"train1\",\n",
      "    \"device\": 0,\n",
      "    \"data\": {\n",
      "        \"dataset\": \"nogrid\",\n",
      "        \"batch_size\": 32,\n",
      "        \"X_list\": [\n",
      "            12,\n",
      "            11,\n",
      "            10,\n",
      "            9,\n",
      "            8,\n",
      "            7,\n",
      "            6,\n",
      "            5,\n",
      "            4,\n",
      "            3,\n",
      "            2,\n",
      "            1\n",
      "        ],\n",
      "        \"Y_list\": [\n",
      "            0,\n",
      "            1,\n",
      "            2,\n",
      "            3,\n",
      "            4,\n",
      "            5,\n",
      "            6,\n",
      "            7,\n",
      "            8,\n",
      "            9,\n",
      "            10,\n",
      "            11\n",
      "        ],\n",
      "        \"_len\": [\n",
      "            672,\n",
      "            672\n",
      "        ],\n",
      "        \"Normal_Method\": \"Standard\"\n",
      "    },\n",
      "    \"preprocess\": {\n",
      "        \"hidden_size\": 20,\n",
      "        \"normalized_category\": \"randomwalk\"\n",
      "    },\n",
      "    \"train\": {\n",
      "        \"epochs\": 200,\n",
      "        \"max_grad_norm\": 5,\n",
      "        \"early_stop_steps\": 10\n",
      "    },\n",
      "    \"optimizer\": {\n",
      "        \"name\": \"Adam\",\n",
      "        \"Adam\": {\n",
      "            \"lr\": 0.0005,\n",
      "            \"weight_decay\": 0.0005,\n",
      "            \"eps\": 0.001,\n",
      "            \"amsgrad\": true\n",
      "        },\n",
      "        \"RMSprop\": {\n",
      "            \"lr\": 0.01,\n",
      "            \"weight_decay\": 0.001\n",
      "        }\n",
      "    },\n",
      "    \"loss\": {\n",
      "        \"name\": \"rmse\"\n",
      "    },\n",
      "    \"model\": {\n",
      "        \"name\": \"Evonet2\",\n",
      "        \"Evonet2\": {\n",
      "            \"n_pred\": 12,\n",
      "            \"hidden_size\": 25,\n",
      "            \"num_nodes\": 250,\n",
      "            \"n_dim\": 50,\n",
      "            \"n_supports\": 1,\n",
      "            \"k_hop\": 3,\n",
      "            \"n_rnn_layers\": 1,\n",
      "            \"n_gconv_layers\": 3,\n",
      "            \"input_dim\": 2,\n",
      "            \"output_dim\": 2,\n",
      "            \"cl_decay_steps\": 300\n",
      "        }\n",
      "    },\n",
      "    \"scheduler\": {\n",
      "        \"name\": \"ReduceLROnPlateau\",\n",
      "        \"ReduceLROnPlateau\": {\n",
      "            \"factor\": 0.2,\n",
      "            \"patience\": 5,\n",
      "            \"threshold\": 0.001,\n",
      "            \"min_lr\": 1e-06\n",
      "        },\n",
      "        \"StepLR\": {\n",
      "            \"step_size\": 10,\n",
      "            \"gamma\": 0.1\n",
      "        },\n",
      "        \"MultiStepLR\": {\n",
      "            \"milestones\": [\n",
      "                1,\n",
      "                5,\n",
      "                10,\n",
      "                15,\n",
      "                20\n",
      "            ],\n",
      "            \"gamma\": 0.1\n",
      "        }\n",
      "    }\n",
      "}\n",
      "std: 4.010208024889097 mean: 2.7760608974358973\n",
      "nodevec1 : torch.Size([250, 50])\n",
      "nodevec2 : torch.Size([50, 250])\n",
      "w1 : torch.Size([50, 50])\n",
      "w2 : torch.Size([50, 50])\n",
      "b1 : torch.Size([50])\n",
      "b2 : torch.Size([50])\n",
      "encoder.0.ru_gate_g_conv.graphconv.0.out.weight : torch.Size([50, 108])\n",
      "encoder.0.ru_gate_g_conv.graphconv.0.out.bias : torch.Size([50])\n",
      "encoder.0.ru_gate_g_conv.graphconv.1.out.weight : torch.Size([50, 200])\n",
      "encoder.0.ru_gate_g_conv.graphconv.1.out.bias : torch.Size([50])\n",
      "encoder.0.ru_gate_g_conv.graphconv.2.out.weight : torch.Size([50, 200])\n",
      "encoder.0.ru_gate_g_conv.graphconv.2.out.bias : torch.Size([50])\n",
      "encoder.0.ru_gate_g_conv.attlinear.weight : torch.Size([1, 12500])\n",
      "encoder.0.ru_gate_g_conv.attlinear.bias : torch.Size([1])\n",
      "encoder.0.candidate_g_conv.graphconv.0.out.weight : torch.Size([25, 108])\n",
      "encoder.0.candidate_g_conv.graphconv.0.out.bias : torch.Size([25])\n",
      "encoder.0.candidate_g_conv.graphconv.1.out.weight : torch.Size([25, 100])\n",
      "encoder.0.candidate_g_conv.graphconv.1.out.bias : torch.Size([25])\n",
      "encoder.0.candidate_g_conv.graphconv.2.out.weight : torch.Size([25, 100])\n",
      "encoder.0.candidate_g_conv.graphconv.2.out.bias : torch.Size([25])\n",
      "encoder.0.candidate_g_conv.attlinear.weight : torch.Size([1, 6250])\n",
      "encoder.0.candidate_g_conv.attlinear.bias : torch.Size([1])\n",
      "decoder.0.ru_gate_g_conv.graphconv.0.out.weight : torch.Size([50, 108])\n",
      "decoder.0.ru_gate_g_conv.graphconv.0.out.bias : torch.Size([50])\n",
      "decoder.0.ru_gate_g_conv.graphconv.1.out.weight : torch.Size([50, 200])\n",
      "decoder.0.ru_gate_g_conv.graphconv.1.out.bias : torch.Size([50])\n",
      "decoder.0.ru_gate_g_conv.graphconv.2.out.weight : torch.Size([50, 200])\n",
      "decoder.0.ru_gate_g_conv.graphconv.2.out.bias : torch.Size([50])\n",
      "decoder.0.ru_gate_g_conv.attlinear.weight : torch.Size([1, 12500])\n",
      "decoder.0.ru_gate_g_conv.attlinear.bias : torch.Size([1])\n",
      "decoder.0.candidate_g_conv.graphconv.0.out.weight : torch.Size([25, 108])\n",
      "decoder.0.candidate_g_conv.graphconv.0.out.bias : torch.Size([25])\n",
      "decoder.0.candidate_g_conv.graphconv.1.out.weight : torch.Size([25, 100])\n",
      "decoder.0.candidate_g_conv.graphconv.1.out.bias : torch.Size([25])\n",
      "decoder.0.candidate_g_conv.graphconv.2.out.weight : torch.Size([25, 100])\n",
      "decoder.0.candidate_g_conv.graphconv.2.out.bias : torch.Size([25])\n",
      "decoder.0.candidate_g_conv.attlinear.weight : torch.Size([1, 6250])\n",
      "decoder.0.candidate_g_conv.attlinear.bias : torch.Size([1])\n",
      "decoder.out.weight : torch.Size([2, 25])\n",
      "decoder.out.bias : torch.Size([2])\n",
      "\n",
      "std: 4.010208024889097 mean: 2.7760608974358973\n",
      "path does not exist\n",
      "EvoNN2(\n",
      "  (encoder): DCRNNEncoder(\n",
      "    (0): DCGRUCell(\n",
      "      (ru_gate_g_conv): EvolutionCell(\n",
      "        (perceptron): ModuleList()\n",
      "        (graphconv): ModuleList(\n",
      "          (0): GraphConv_(\n",
      "            (out): Linear(in_features=108, out_features=50, bias=True)\n",
      "          )\n",
      "          (1): GraphConv_(\n",
      "            (out): Linear(in_features=200, out_features=50, bias=True)\n",
      "          )\n",
      "          (2): GraphConv_(\n",
      "            (out): Linear(in_features=200, out_features=50, bias=True)\n",
      "          )\n",
      "        )\n",
      "        (attlinear): Linear(in_features=12500, out_features=1, bias=True)\n",
      "      )\n",
      "      (candidate_g_conv): EvolutionCell(\n",
      "        (perceptron): ModuleList()\n",
      "        (graphconv): ModuleList(\n",
      "          (0): GraphConv_(\n",
      "            (out): Linear(in_features=108, out_features=25, bias=True)\n",
      "          )\n",
      "          (1): GraphConv_(\n",
      "            (out): Linear(in_features=100, out_features=25, bias=True)\n",
      "          )\n",
      "          (2): GraphConv_(\n",
      "            (out): Linear(in_features=100, out_features=25, bias=True)\n",
      "          )\n",
      "        )\n",
      "        (attlinear): Linear(in_features=6250, out_features=1, bias=True)\n",
      "      )\n",
      "    )\n",
      "  )\n",
      "  (decoder): DCRNNDecoder(\n",
      "    (0): DCGRUCell(\n",
      "      (ru_gate_g_conv): EvolutionCell(\n",
      "        (perceptron): ModuleList()\n",
      "        (graphconv): ModuleList(\n",
      "          (0): GraphConv_(\n",
      "            (out): Linear(in_features=108, out_features=50, bias=True)\n",
      "          )\n",
      "          (1): GraphConv_(\n",
      "            (out): Linear(in_features=200, out_features=50, bias=True)\n",
      "          )\n",
      "          (2): GraphConv_(\n",
      "            (out): Linear(in_features=200, out_features=50, bias=True)\n",
      "          )\n",
      "        )\n",
      "        (attlinear): Linear(in_features=12500, out_features=1, bias=True)\n",
      "      )\n",
      "      (candidate_g_conv): EvolutionCell(\n",
      "        (perceptron): ModuleList()\n",
      "        (graphconv): ModuleList(\n",
      "          (0): GraphConv_(\n",
      "            (out): Linear(in_features=108, out_features=25, bias=True)\n",
      "          )\n",
      "          (1): GraphConv_(\n",
      "            (out): Linear(in_features=100, out_features=25, bias=True)\n",
      "          )\n",
      "          (2): GraphConv_(\n",
      "            (out): Linear(in_features=100, out_features=25, bias=True)\n",
      "          )\n",
      "        )\n",
      "        (attlinear): Linear(in_features=6250, out_features=1, bias=True)\n",
      "      )\n",
      "    )\n",
      "    (out): Linear(in_features=25, out_features=2, bias=True)\n",
      "  )\n",
      ")\n",
      "Trainable parameters: 134306.\n"
     ]
    },
    {
     "name": "stderr",
     "output_type": "stream",
     "text": [
      "train epoch:   0, train loss: 4.03245: : 94it [00:18,  5.17it/s]\n",
      "validate epoch:   0, validate loss: 4.84322: : 21it [00:00, 24.38it/s]\n"
     ]
    },
    {
     "name": "stdout",
     "output_type": "stream",
     "text": [
      "Better model at epoch 0 recorded.\n"
     ]
    },
    {
     "name": "stderr",
     "output_type": "stream",
     "text": [
      "test  epoch:   0, test  loss: 5.05964: : 21it [00:00, 25.09it/s]\n",
      "train epoch:   1, train loss: 3.18362: : 94it [00:18,  5.09it/s]\n",
      "validate epoch:   1, validate loss: 4.50127: : 21it [00:00, 24.22it/s]\n"
     ]
    },
    {
     "name": "stdout",
     "output_type": "stream",
     "text": [
      "Better model at epoch 1 recorded.\n"
     ]
    },
    {
     "name": "stderr",
     "output_type": "stream",
     "text": [
      "test  epoch:   1, test  loss: 4.58771: : 21it [00:00, 24.25it/s]\n",
      "train epoch:   2, train loss: 2.57099: : 94it [00:18,  5.09it/s]\n",
      "validate epoch:   2, validate loss: 3.93373: : 21it [00:00, 23.26it/s]\n"
     ]
    },
    {
     "name": "stdout",
     "output_type": "stream",
     "text": [
      "Better model at epoch 2 recorded.\n"
     ]
    },
    {
     "name": "stderr",
     "output_type": "stream",
     "text": [
      "test  epoch:   2, test  loss: 4.06912: : 21it [00:00, 23.47it/s]\n",
      "train epoch:   3, train loss: 2.43413: : 94it [00:18,  5.06it/s]\n",
      "validate epoch:   3, validate loss: 3.86365: : 21it [00:00, 23.86it/s]\n"
     ]
    },
    {
     "name": "stdout",
     "output_type": "stream",
     "text": [
      "Better model at epoch 3 recorded.\n"
     ]
    },
    {
     "name": "stderr",
     "output_type": "stream",
     "text": [
      "test  epoch:   3, test  loss: 3.95097: : 21it [00:00, 24.00it/s]\n",
      "train epoch:   4, train loss: 2.36485: : 94it [00:18,  5.04it/s]\n",
      "validate epoch:   4, validate loss: 3.77715: : 21it [00:00, 23.82it/s]\n"
     ]
    },
    {
     "name": "stdout",
     "output_type": "stream",
     "text": [
      "Better model at epoch 4 recorded.\n"
     ]
    },
    {
     "name": "stderr",
     "output_type": "stream",
     "text": [
      "test  epoch:   4, test  loss: 3.90704: : 21it [00:00, 23.62it/s]\n",
      "train epoch:   5, train loss: 2.31471: : 94it [00:18,  5.05it/s]\n",
      "validate epoch:   5, validate loss: 3.67512: : 21it [00:00, 23.17it/s]\n"
     ]
    },
    {
     "name": "stdout",
     "output_type": "stream",
     "text": [
      "Better model at epoch 5 recorded.\n"
     ]
    },
    {
     "name": "stderr",
     "output_type": "stream",
     "text": [
      "test  epoch:   5, test  loss: 3.81424: : 21it [00:00, 23.24it/s]\n",
      "train epoch:   6, train loss: 2.27164: : 94it [00:18,  5.07it/s]\n",
      "validate epoch:   6, validate loss: 3.76392: : 21it [00:00, 23.25it/s]\n",
      "test  epoch:   6, test  loss: 3.83059: : 21it [00:00, 23.49it/s]\n",
      "train epoch:   7, train loss: 2.23666: : 94it [00:18,  5.08it/s]\n",
      "validate epoch:   7, validate loss: 3.61424: : 21it [00:00, 23.61it/s]\n"
     ]
    },
    {
     "name": "stdout",
     "output_type": "stream",
     "text": [
      "Better model at epoch 7 recorded.\n"
     ]
    },
    {
     "name": "stderr",
     "output_type": "stream",
     "text": [
      "test  epoch:   7, test  loss: 3.77588: : 21it [00:00, 24.14it/s]\n",
      "train epoch:   8, train loss: 2.19641: : 94it [00:18,  5.07it/s]\n",
      "validate epoch:   8, validate loss: 3.73963: : 21it [00:00, 24.21it/s]\n",
      "test  epoch:   8, test  loss: 3.88836: : 21it [00:00, 23.78it/s]\n",
      "train epoch:   9, train loss: 2.16411: : 94it [00:18,  5.10it/s]\n",
      "validate epoch:   9, validate loss: 3.71803: : 21it [00:00, 23.67it/s]\n",
      "test  epoch:   9, test  loss: 3.66235: : 21it [00:00, 24.14it/s]\n",
      "train epoch:  10, train loss: 2.1478: : 94it [00:18,  5.14it/s] \n",
      "validate epoch:  10, validate loss: 3.75021: : 21it [00:00, 24.50it/s]\n",
      "test  epoch:  10, test  loss: 3.90184: : 21it [00:00, 23.69it/s]\n",
      "train epoch:  11, train loss: 2.13332: : 94it [00:18,  5.08it/s]\n",
      "validate epoch:  11, validate loss: 3.61969: : 21it [00:00, 23.94it/s]\n",
      "test  epoch:  11, test  loss: 3.77611: : 21it [00:00, 23.25it/s]\n",
      "train epoch:  12, train loss: 2.12137: : 94it [00:18,  5.15it/s]\n",
      "validate epoch:  12, validate loss: 4.07126: : 21it [00:00, 24.08it/s]\n",
      "test  epoch:  12, test  loss: 4.08838: : 21it [00:00, 23.58it/s]\n",
      "train epoch:  13, train loss: 2.11735: : 94it [00:18,  5.07it/s]\n",
      "validate epoch:  13, validate loss: 3.34128: : 21it [00:00, 23.57it/s]\n"
     ]
    },
    {
     "name": "stdout",
     "output_type": "stream",
     "text": [
      "Better model at epoch 13 recorded.\n"
     ]
    },
    {
     "name": "stderr",
     "output_type": "stream",
     "text": [
      "test  epoch:  13, test  loss: 3.52041: : 21it [00:00, 23.43it/s]\n",
      "train epoch:  14, train loss: 2.11689: : 94it [00:18,  5.06it/s]\n",
      "validate epoch:  14, validate loss: 3.42892: : 21it [00:00, 23.89it/s]\n",
      "test  epoch:  14, test  loss: 3.57165: : 21it [00:00, 23.93it/s]\n",
      "train epoch:  15, train loss: 2.11848: : 94it [00:20,  4.69it/s]\n",
      "validate epoch:  15, validate loss: 3.65103: : 21it [00:00, 23.18it/s]\n",
      "test  epoch:  15, test  loss: 3.73981: : 21it [00:00, 23.39it/s]\n",
      "train epoch:  16, train loss: 2.16337: : 94it [00:20,  4.66it/s]\n",
      "validate epoch:  16, validate loss: 3.45228: : 21it [00:00, 23.81it/s]\n",
      "test  epoch:  16, test  loss: 3.55079: : 21it [00:00, 23.85it/s]\n",
      "train epoch:  17, train loss: 2.16607: : 94it [00:18,  5.12it/s]\n",
      "validate epoch:  17, validate loss: 3.89601: : 21it [00:00, 24.05it/s]\n",
      "test  epoch:  17, test  loss: 4.08273: : 21it [00:00, 23.95it/s]\n",
      "train epoch:  18, train loss: 2.20238: : 94it [00:18,  5.09it/s]\n",
      "validate epoch:  18, validate loss: 3.39927: : 21it [00:00, 23.67it/s]\n",
      "test  epoch:  18, test  loss: 3.60474: : 21it [00:00, 24.34it/s]\n",
      "train epoch:  19, train loss: 2.23338: : 94it [00:18,  5.11it/s]\n",
      "validate epoch:  19, validate loss: 3.06984: : 21it [00:00, 24.00it/s]\n"
     ]
    },
    {
     "name": "stdout",
     "output_type": "stream",
     "text": [
      "Better model at epoch 19 recorded.\n"
     ]
    },
    {
     "name": "stderr",
     "output_type": "stream",
     "text": [
      "test  epoch:  19, test  loss: 3.17132: : 21it [00:00, 23.75it/s]\n",
      "train epoch:  20, train loss: 2.17513: : 94it [00:18,  5.08it/s]\n",
      "validate epoch:  20, validate loss: 3.05775: : 21it [00:00, 23.81it/s]\n"
     ]
    },
    {
     "name": "stdout",
     "output_type": "stream",
     "text": [
      "Better model at epoch 20 recorded.\n"
     ]
    },
    {
     "name": "stderr",
     "output_type": "stream",
     "text": [
      "test  epoch:  20, test  loss: 3.1855: : 21it [00:00, 24.17it/s] \n",
      "train epoch:  21, train loss: 2.20703: : 94it [00:18,  5.08it/s]\n",
      "validate epoch:  21, validate loss: 2.89842: : 21it [00:00, 24.03it/s]\n"
     ]
    },
    {
     "name": "stdout",
     "output_type": "stream",
     "text": [
      "Better model at epoch 21 recorded.\n"
     ]
    },
    {
     "name": "stderr",
     "output_type": "stream",
     "text": [
      "test  epoch:  21, test  loss: 2.99493: : 21it [00:00, 23.62it/s]\n",
      "train epoch:  22, train loss: 2.23088: : 94it [00:18,  5.14it/s]\n",
      "validate epoch:  22, validate loss: 2.92805: : 21it [00:00, 24.00it/s]\n",
      "test  epoch:  22, test  loss: 3.06281: : 21it [00:00, 23.12it/s]\n",
      "train epoch:  23, train loss: 2.2928: : 94it [00:18,  5.06it/s] \n",
      "validate epoch:  23, validate loss: 2.81972: : 21it [00:00, 23.76it/s]\n"
     ]
    },
    {
     "name": "stdout",
     "output_type": "stream",
     "text": [
      "Better model at epoch 23 recorded.\n"
     ]
    },
    {
     "name": "stderr",
     "output_type": "stream",
     "text": [
      "test  epoch:  23, test  loss: 2.91204: : 21it [00:00, 23.42it/s]\n",
      "train epoch:  24, train loss: 2.31453: : 94it [00:18,  5.07it/s]\n",
      "validate epoch:  24, validate loss: 2.94844: : 21it [00:00, 23.72it/s]\n",
      "test  epoch:  24, test  loss: 3.08155: : 21it [00:00, 23.94it/s]\n",
      "train epoch:  25, train loss: 2.31486: : 94it [00:18,  5.11it/s]\n",
      "validate epoch:  25, validate loss: 2.85655: : 21it [00:00, 24.09it/s]\n",
      "test  epoch:  25, test  loss: 2.95855: : 21it [00:00, 23.78it/s]\n",
      "train epoch:  26, train loss: 2.30103: : 94it [00:18,  5.12it/s]\n",
      "validate epoch:  26, validate loss: 2.84261: : 21it [00:00, 23.58it/s]\n",
      "test  epoch:  26, test  loss: 2.97707: : 21it [00:00, 23.92it/s]\n",
      "train epoch:  27, train loss: 2.29467: : 94it [00:18,  5.08it/s]\n",
      "validate epoch:  27, validate loss: 2.78856: : 21it [00:00, 24.23it/s]\n"
     ]
    },
    {
     "name": "stdout",
     "output_type": "stream",
     "text": [
      "Better model at epoch 27 recorded.\n"
     ]
    },
    {
     "name": "stderr",
     "output_type": "stream",
     "text": [
      "test  epoch:  27, test  loss: 2.91454: : 21it [00:00, 23.85it/s]\n",
      "train epoch:  28, train loss: 2.30832: : 94it [00:18,  5.11it/s]\n",
      "validate epoch:  28, validate loss: 2.80712: : 21it [00:00, 23.78it/s]\n",
      "test  epoch:  28, test  loss: 2.92788: : 21it [00:00, 23.91it/s]\n",
      "train epoch:  29, train loss: 2.30344: : 94it [00:18,  5.09it/s]\n",
      "validate epoch:  29, validate loss: 2.73655: : 21it [00:00, 23.94it/s]\n"
     ]
    },
    {
     "name": "stdout",
     "output_type": "stream",
     "text": [
      "Better model at epoch 29 recorded.\n"
     ]
    },
    {
     "name": "stderr",
     "output_type": "stream",
     "text": [
      "test  epoch:  29, test  loss: 2.84966: : 21it [00:00, 24.08it/s]\n",
      "train epoch:  30, train loss: 2.30469: : 94it [00:18,  5.09it/s]\n",
      "validate epoch:  30, validate loss: 2.81835: : 21it [00:00, 23.62it/s]\n",
      "test  epoch:  30, test  loss: 2.96549: : 21it [00:00, 23.15it/s]\n",
      "train epoch:  31, train loss: 2.30248: : 94it [00:18,  5.09it/s]\n",
      "validate epoch:  31, validate loss: 2.75764: : 21it [00:00, 23.51it/s]\n",
      "test  epoch:  31, test  loss: 2.88399: : 21it [00:00, 23.83it/s]\n",
      "train epoch:  32, train loss: 2.30587: : 94it [00:18,  5.07it/s]\n",
      "validate epoch:  32, validate loss: 2.78812: : 21it [00:00, 23.52it/s]\n",
      "test  epoch:  32, test  loss: 2.91382: : 21it [00:00, 23.58it/s]\n",
      "train epoch:  33, train loss: 2.29851: : 94it [00:18,  5.09it/s]\n",
      "validate epoch:  33, validate loss: 2.76151: : 21it [00:00, 23.99it/s]\n",
      "test  epoch:  33, test  loss: 2.88916: : 21it [00:00, 23.69it/s]\n",
      "train epoch:  34, train loss: 2.30471: : 94it [00:18,  5.12it/s]\n",
      "validate epoch:  34, validate loss: 2.76932: : 21it [00:00, 23.86it/s]\n",
      "test  epoch:  34, test  loss: 2.89275: : 21it [00:00, 24.23it/s]\n",
      "train epoch:  35, train loss: 2.30475: : 94it [00:18,  5.10it/s]\n",
      "validate epoch:  35, validate loss: 2.77002: : 21it [00:00, 23.43it/s]\n",
      "test  epoch:  35, test  loss: 2.89821: : 21it [00:00, 23.72it/s]\n",
      "train epoch:  36, train loss: 2.30468: : 94it [00:18,  5.10it/s]\n",
      "validate epoch:  36, validate loss: 2.76058: : 21it [00:00, 23.76it/s]\n",
      "test  epoch:  36, test  loss: 2.88831: : 21it [00:00, 23.80it/s]\n",
      "train epoch:  37, train loss: 2.30644: : 94it [00:18,  5.10it/s]\n",
      "validate epoch:  37, validate loss: 2.77679: : 21it [00:00, 24.27it/s]\n",
      "test  epoch:  37, test  loss: 2.9053: : 21it [00:00, 23.37it/s] \n",
      "train epoch:  38, train loss: 2.3024: : 94it [00:18,  5.09it/s] \n",
      "validate epoch:  38, validate loss: 2.76195: : 21it [00:00, 23.79it/s]\n",
      "test  epoch:  38, test  loss: 2.89305: : 21it [00:00, 23.90it/s]\n",
      "train epoch:  39, train loss: 2.30293: : 94it [00:18,  5.06it/s]\n",
      "validate epoch:  39, validate loss: 2.75339: : 21it [00:00, 24.05it/s]\n",
      "test  epoch:  39, test  loss: 2.88036: : 21it [00:00, 23.18it/s]\n",
      "train epoch:  40, train loss: 2.3014: : 94it [00:18,  5.11it/s] \n",
      "validate epoch:  40, validate loss: 2.75033: : 21it [00:00, 23.70it/s]\n"
     ]
    },
    {
     "name": "stdout",
     "output_type": "stream",
     "text": [
      "cost 925.2539465436712 seconds\n",
      "model of epoch 29 successfully saved at `save/Evoconv2/nogrid_bike/train1/best_model.pkl`\n"
     ]
    },
    {
     "name": "stderr",
     "output_type": "stream",
     "text": [
      "21it [00:00, 26.11it/s]\n"
     ]
    },
    {
     "name": "stdout",
     "output_type": "stream",
     "text": [
      "test results:\n",
      "{\n",
      "    \"MAE\": {\n",
      "        \"horizon-0\": 1.6422478423134004,\n",
      "        \"horizon-1\": 1.6604370818195249,\n",
      "        \"horizon-2\": 1.6855596587204797,\n",
      "        \"horizon-3\": 1.705145652646017,\n",
      "        \"horizon-4\": 1.729362078095959,\n",
      "        \"horizon-5\": 1.7614194265538932,\n",
      "        \"horizon-6\": 1.7965538894155764,\n",
      "        \"horizon-7\": 1.8199155542248375,\n",
      "        \"horizon-8\": 1.8344108700897193,\n",
      "        \"horizon-9\": 1.8426612463911918,\n",
      "        \"horizon-10\": 1.8549867944384613,\n",
      "        \"horizon-11\": 1.8767794858569422\n",
      "    },\n",
      "    \"RMSE\": {\n",
      "        \"horizon-0\": 2.5946983499756686,\n",
      "        \"horizon-1\": 2.63771437043956,\n",
      "        \"horizon-2\": 2.702657295996356,\n",
      "        \"horizon-3\": 2.7616343460411956,\n",
      "        \"horizon-4\": 2.8180497434612652,\n",
      "        \"horizon-5\": 2.8852206399162124,\n",
      "        \"horizon-6\": 2.958441310368821,\n",
      "        \"horizon-7\": 2.9975772051391507,\n",
      "        \"horizon-8\": 3.023009919604782,\n",
      "        \"horizon-9\": 3.035125960464815,\n",
      "        \"horizon-10\": 3.05490210038858,\n",
      "        \"horizon-11\": 3.099063538355307\n",
      "    },\n",
      "    \"PCC\": {\n",
      "        \"horizon-0\": 0.82627181262811,\n",
      "        \"horizon-1\": 0.8236771379196488,\n",
      "        \"horizon-2\": 0.8168185354928124,\n",
      "        \"horizon-3\": 0.8121178988387936,\n",
      "        \"horizon-4\": 0.8069228808083876,\n",
      "        \"horizon-5\": 0.7960302627319589,\n",
      "        \"horizon-6\": 0.7806188340597544,\n",
      "        \"horizon-7\": 0.7717456468778442,\n",
      "        \"horizon-8\": 0.7661698530923247,\n",
      "        \"horizon-9\": 0.7642019396496764,\n",
      "        \"horizon-10\": 0.7610826258206707,\n",
      "        \"horizon-11\": 0.7526341077247395\n",
      "    },\n",
      "    \"loss\": 2.8854797452110947,\n",
      "    \"mae\": 1.7674566516327523,\n",
      "    \"pcc\": 0.7887669650195712\n",
      "}\n"
     ]
    }
   ],
   "source": [
    "import json,os,shutil,yaml,torch\n",
    "import torch.nn as nn\n",
    "\n",
    "\n",
    "from models import create_model\n",
    "from utils.train import train_model, test_model\n",
    "from utils.util import get_optimizer, get_loss, get_scheduler\n",
    "from utils.data_container import get_data_loader\n",
    "from utils.preprocess import  preprocessing_for_metric\n",
    "\n",
    "\n",
    "\n",
    "def train(conf, data_category):\n",
    "    print(json.dumps(conf, indent=4))\n",
    "\n",
    "    #os.environ[\"CUDA_VISIBLE_DEVICES\"] = str(conf['device'])\n",
    "    os.environ[\"CUDA_VISIBLE_DEVICES\"] = str(1)\n",
    "    device = torch.device(0)\n",
    "\n",
    "    model_name = conf['model']['name']\n",
    "    optimizer_name = conf['optimizer']['name']\n",
    "    data_set = conf['data']['dataset']\n",
    "    scheduler_name = conf['scheduler']['name']\n",
    "    loss = get_loss(**conf['loss'])\n",
    "\n",
    "    loss.to(device)\n",
    "\n",
    "\n",
    "    support = preprocessing_for_metric(data_category=data_category, dataset=conf['data']['dataset'],\n",
    "                                           Normal_Method=conf['data']['Normal_Method'], _len=conf['data']['_len'], **conf['preprocess'])\n",
    "    model, trainer = create_model(model_name,\n",
    "                                  loss,\n",
    "                                  conf['model'][model_name],\n",
    "                                  data_category,\n",
    "                                  device,\n",
    "                                  support)\n",
    "\n",
    "    optimizer = get_optimizer(optimizer_name, model.parameters(), conf['optimizer'][optimizer_name]['lr'])\n",
    "    scheduler = get_scheduler(scheduler_name, optimizer, **conf['scheduler'][scheduler_name])\n",
    "    if torch.cuda.device_count() > 1:\n",
    "        print(\"use \", torch.cuda.device_count(), \"GPUS\")\n",
    "        model = nn.DataParallel(model)\n",
    "    else:\n",
    "        model.to(device)\n",
    "\n",
    "    save_folder = os.path.join('save', conf['name'], f'{data_set}_{\"\".join(data_category)}', conf['tag'])\n",
    "    run_folder = os.path.join('run', conf['name'], f'{data_set}_{\"\".join(data_category)}', conf['tag'])\n",
    "\n",
    "    shutil.rmtree(save_folder, ignore_errors=True)\n",
    "    os.makedirs(save_folder)\n",
    "    shutil.rmtree(run_folder, ignore_errors=True)\n",
    "    os.makedirs(run_folder)\n",
    "\n",
    "    with open(os.path.join(save_folder, 'config.yaml'), 'w+') as _f:\n",
    "        yaml.safe_dump(conf, _f)\n",
    "\n",
    "    data_loader, normal = get_data_loader(**conf['data'], data_category=data_category, device=device,\n",
    "                                          model_name=model_name)\n",
    "\n",
    "\n",
    "    train_model(model=model,\n",
    "                       dataloaders=data_loader,\n",
    "                       trainer=trainer,\n",
    "                       optimizer=optimizer,\n",
    "                       normal=normal,\n",
    "                       scheduler=scheduler,\n",
    "                       folder=save_folder,\n",
    "                       tensorboard_folder=run_folder,\n",
    "                       device=device,\n",
    "                       **conf['train'])\n",
    "    test_model(folder=save_folder,\n",
    "                      trainer=trainer,\n",
    "                      model=model,\n",
    "                      normal=normal,\n",
    "                      dataloaders=data_loader,\n",
    "                      device=device)\n",
    "\n",
    "\n",
    "if __name__ == '__main__':\n",
    "    # parser = argparse.ArgumentParser()\n",
    "    # parser.add_argument('--config', required=True, type=str, default='dsgrn-config',\n",
    "    #                     help='Configuration filename for restoring the model.')\n",
    "    # parser.add_argument('--con', required=False, type=str2bool, default='False',\n",
    "    #                     help='Test.')\n",
    "    # parser.add_argument('--stage', required=True, type=str2bool, default='True',\n",
    "    #                     help='Stage.')\n",
    "    # args = parser.parse_args()\n",
    "    con = 'evoconv2-config'\n",
    "    data = ['bike']\n",
    "    with open(os.path.join('config', f'{con}.yaml')) as f:\n",
    "        conf = yaml.safe_load(f)\n",
    "    train(conf, data)\n"
   ]
  },
  {
   "cell_type": "code",
   "execution_count": null,
   "metadata": {},
   "outputs": [],
   "source": []
  }
 ],
 "metadata": {
  "kernelspec": {
   "display_name": "Python 3",
   "language": "python",
   "name": "python3"
  },
  "language_info": {
   "codemirror_mode": {
    "name": "ipython",
    "version": 3
   },
   "file_extension": ".py",
   "mimetype": "text/x-python",
   "name": "python",
   "nbconvert_exporter": "python",
   "pygments_lexer": "ipython3",
   "version": "3.8.10"
  }
 },
 "nbformat": 4,
 "nbformat_minor": 4
}
